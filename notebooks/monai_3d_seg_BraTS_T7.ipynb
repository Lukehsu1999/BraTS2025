{
  "cells": [
    {
      "cell_type": "markdown",
      "metadata": {
        "id": "view-in-github",
        "colab_type": "text"
      },
      "source": [
        "<a href=\"https://colab.research.google.com/github/Lukehsu1999/BraTS2025/blob/main/monai_3d_seg_BraTS_T7.ipynb\" target=\"_parent\"><img src=\"https://colab.research.google.com/assets/colab-badge.svg\" alt=\"Open In Colab\"/></a>"
      ]
    },
    {
      "cell_type": "markdown",
      "metadata": {
        "id": "Nc1HrBBjT6lN"
      },
      "source": [
        "Copyright (c) MONAI Consortium  \n",
        "Licensed under the Apache License, Version 2.0 (the \"License\");  \n",
        "you may not use this file except in compliance with the License.  \n",
        "You may obtain a copy of the License at  \n",
        "&nbsp;&nbsp;&nbsp;&nbsp;http://www.apache.org/licenses/LICENSE-2.0  \n",
        "Unless required by applicable law or agreed to in writing, software  \n",
        "distributed under the License is distributed on an \"AS IS\" BASIS,  \n",
        "WITHOUT WARRANTIES OR CONDITIONS OF ANY KIND, either express or implied.  \n",
        "See the License for the specific language governing permissions and  \n",
        "limitations under the License.\n",
        "\n",
        "# Spleen 3D segmentation with MONAI\n",
        "\n",
        "This tutorial shows how to integrate MONAI into an existing PyTorch medical DL program.\n",
        "\n",
        "And easily use below features:\n",
        "1. Transforms for dictionary format data.\n",
        "1. Load Nifti image with metadata.\n",
        "1. Add channel dim to the data if no channel dimension.\n",
        "1. Scale medical image intensity with expected range.\n",
        "1. Crop out a batch of balanced images based on positive / negative label ratio.\n",
        "1. Cache IO and transforms to accelerate training and validation.\n",
        "1. 3D UNet model, Dice loss function, Mean Dice metric for 3D segmentation task.\n",
        "1. Sliding window inference method.\n",
        "1. Deterministic training for reproducibility.\n",
        "\n",
        "The Spleen dataset can be downloaded from http://medicaldecathlon.com/.\n",
        "\n",
        "![spleen](https://github.com/Project-MONAI/tutorials/blob/main/figures/spleen0.png?raw=1)\n",
        "\n",
        "Target: Spleen  \n",
        "Modality: CT  \n",
        "Size: 61 3D volumes (41 Training + 20 Testing)  \n",
        "Source: Memorial Sloan Kettering Cancer Center  \n",
        "Challenge: Large ranging foreground size\n",
        "\n",
        "[![Open In Colab](https://colab.research.google.com/assets/colab-badge.svg)](https://colab.research.google.com/github/Project-MONAI/tutorials/blob/main/3d_segmentation/spleen_segmentation_3d.ipynb)"
      ]
    },
    {
      "cell_type": "markdown",
      "metadata": {
        "id": "IhJVZKtFT6lO"
      },
      "source": [
        "## Setup environment"
      ]
    },
    {
      "cell_type": "code",
      "execution_count": 2,
      "metadata": {
        "id": "PU9HKKeyT6lP",
        "outputId": "28603d8d-01de-4595-b5b5-5499674029d5",
        "colab": {
          "base_uri": "https://localhost:8080/"
        }
      },
      "outputs": [
        {
          "output_type": "stream",
          "name": "stdout",
          "text": [
            "Traceback (most recent call last):\n",
            "  File \"<string>\", line 1, in <module>\n",
            "ModuleNotFoundError: No module named 'monai'\n",
            "\u001b[2K   \u001b[90m━━━━━━━━━━━━━━━━━━━━━━━━━━━━━━━━━━━━━━━━\u001b[0m \u001b[32m266.5/266.5 kB\u001b[0m \u001b[31m26.2 MB/s\u001b[0m eta \u001b[36m0:00:00\u001b[0m\n",
            "\u001b[2K   \u001b[90m━━━━━━━━━━━━━━━━━━━━━━━━━━━━━━━━━━━━━━━━\u001b[0m \u001b[32m363.4/363.4 MB\u001b[0m \u001b[31m4.5 MB/s\u001b[0m eta \u001b[36m0:00:00\u001b[0m\n",
            "\u001b[2K   \u001b[90m━━━━━━━━━━━━━━━━━━━━━━━━━━━━━━━━━━━━━━━━\u001b[0m \u001b[32m13.8/13.8 MB\u001b[0m \u001b[31m128.4 MB/s\u001b[0m eta \u001b[36m0:00:00\u001b[0m\n",
            "\u001b[2K   \u001b[90m━━━━━━━━━━━━━━━━━━━━━━━━━━━━━━━━━━━━━━━━\u001b[0m \u001b[32m24.6/24.6 MB\u001b[0m \u001b[31m93.6 MB/s\u001b[0m eta \u001b[36m0:00:00\u001b[0m\n",
            "\u001b[2K   \u001b[90m━━━━━━━━━━━━━━━━━━━━━━━━━━━━━━━━━━━━━━━━\u001b[0m \u001b[32m883.7/883.7 kB\u001b[0m \u001b[31m60.4 MB/s\u001b[0m eta \u001b[36m0:00:00\u001b[0m\n",
            "\u001b[2K   \u001b[90m━━━━━━━━━━━━━━━━━━━━━━━━━━━━━━━━━━━━━━━━\u001b[0m \u001b[32m664.8/664.8 MB\u001b[0m \u001b[31m2.8 MB/s\u001b[0m eta \u001b[36m0:00:00\u001b[0m\n",
            "\u001b[2K   \u001b[90m━━━━━━━━━━━━━━━━━━━━━━━━━━━━━━━━━━━━━━━━\u001b[0m \u001b[32m211.5/211.5 MB\u001b[0m \u001b[31m5.3 MB/s\u001b[0m eta \u001b[36m0:00:00\u001b[0m\n",
            "\u001b[2K   \u001b[90m━━━━━━━━━━━━━━━━━━━━━━━━━━━━━━━━━━━━━━━━\u001b[0m \u001b[32m56.3/56.3 MB\u001b[0m \u001b[31m14.9 MB/s\u001b[0m eta \u001b[36m0:00:00\u001b[0m\n",
            "\u001b[2K   \u001b[90m━━━━━━━━━━━━━━━━━━━━━━━━━━━━━━━━━━━━━━━━\u001b[0m \u001b[32m127.9/127.9 MB\u001b[0m \u001b[31m7.5 MB/s\u001b[0m eta \u001b[36m0:00:00\u001b[0m\n",
            "\u001b[2K   \u001b[90m━━━━━━━━━━━━━━━━━━━━━━━━━━━━━━━━━━━━━━━━\u001b[0m \u001b[32m207.5/207.5 MB\u001b[0m \u001b[31m6.5 MB/s\u001b[0m eta \u001b[36m0:00:00\u001b[0m\n",
            "\u001b[2K   \u001b[90m━━━━━━━━━━━━━━━━━━━━━━━━━━━━━━━━━━━━━━━━\u001b[0m \u001b[32m21.1/21.1 MB\u001b[0m \u001b[31m110.5 MB/s\u001b[0m eta \u001b[36m0:00:00\u001b[0m\n",
            "\u001b[2K   \u001b[90m━━━━━━━━━━━━━━━━━━━━━━━━━━━━━━━━━━━━━━━━\u001b[0m \u001b[32m2.7/2.7 MB\u001b[0m \u001b[31m89.4 MB/s\u001b[0m eta \u001b[36m0:00:00\u001b[0m\n",
            "\u001b[?25h"
          ]
        }
      ],
      "source": [
        "!python -c \"import monai\" || pip install -q \"monai-weekly[gdown, nibabel, tqdm, ignite]\"\n",
        "!python -c \"import matplotlib\" || pip install -q matplotlib\n",
        "%matplotlib inline"
      ]
    },
    {
      "cell_type": "markdown",
      "metadata": {
        "id": "dydRh3LTT6lP"
      },
      "source": [
        "## Setup imports"
      ]
    },
    {
      "cell_type": "code",
      "execution_count": 3,
      "metadata": {
        "tags": [],
        "id": "5IEbQKl9T6lP",
        "outputId": "ec6dddf0-1fe0-4ebd-e294-27985f24015e",
        "colab": {
          "base_uri": "https://localhost:8080/"
        }
      },
      "outputs": [
        {
          "output_type": "stream",
          "name": "stdout",
          "text": [
            "MONAI version: 1.5.dev2519\n",
            "Numpy version: 2.0.2\n",
            "Pytorch version: 2.6.0+cu124\n",
            "MONAI flags: HAS_EXT = False, USE_COMPILED = False, USE_META_DICT = False\n",
            "MONAI rev id: 552815d9e48a40cf72c7c718034df7984f5d14dd\n",
            "MONAI __file__: /usr/local/lib/python3.11/dist-packages/monai/__init__.py\n",
            "\n",
            "Optional dependencies:\n",
            "Pytorch Ignite version: 0.4.11\n",
            "ITK version: NOT INSTALLED or UNKNOWN VERSION.\n",
            "Nibabel version: 5.3.2\n",
            "scikit-image version: 0.25.2\n",
            "scipy version: 1.15.2\n",
            "Pillow version: 11.2.1\n",
            "Tensorboard version: 2.18.0\n",
            "gdown version: 5.2.0\n",
            "TorchVision version: 0.21.0+cu124\n",
            "tqdm version: 4.67.1\n",
            "lmdb version: NOT INSTALLED or UNKNOWN VERSION.\n",
            "psutil version: 5.9.5\n",
            "pandas version: 2.2.2\n",
            "einops version: 0.8.1\n",
            "transformers version: 4.51.3\n",
            "mlflow version: NOT INSTALLED or UNKNOWN VERSION.\n",
            "pynrrd version: NOT INSTALLED or UNKNOWN VERSION.\n",
            "clearml version: NOT INSTALLED or UNKNOWN VERSION.\n",
            "\n",
            "For details about installing the optional dependencies, please visit:\n",
            "    https://docs.monai.io/en/latest/installation.html#installing-the-recommended-dependencies\n",
            "\n"
          ]
        }
      ],
      "source": [
        "from monai.utils import first, set_determinism\n",
        "from monai.transforms import (\n",
        "    AsDiscrete,\n",
        "    AsDiscreted,\n",
        "    EnsureChannelFirstd,\n",
        "    Compose,\n",
        "    CropForegroundd,\n",
        "    LoadImaged,\n",
        "    Orientationd,\n",
        "    RandCropByPosNegLabeld,\n",
        "    SaveImaged,\n",
        "    ScaleIntensityRanged,\n",
        "    ScaleIntensityRangePercentilesd,\n",
        "    Spacingd,\n",
        "    Invertd,\n",
        ")\n",
        "from monai.handlers.utils import from_engine\n",
        "from monai.networks.nets import UNet\n",
        "from monai.networks.layers import Norm\n",
        "from monai.metrics import DiceMetric\n",
        "from monai.losses import DiceLoss\n",
        "from monai.inferers import sliding_window_inference\n",
        "from monai.data import CacheDataset, DataLoader, Dataset, decollate_batch\n",
        "from monai.config import print_config\n",
        "from monai.apps import download_and_extract\n",
        "import torch\n",
        "import matplotlib.pyplot as plt\n",
        "import tempfile\n",
        "import shutil\n",
        "import os\n",
        "import glob\n",
        "\n",
        "print_config()"
      ]
    },
    {
      "cell_type": "markdown",
      "source": [
        "## Wandb Logging"
      ],
      "metadata": {
        "id": "RUVcLLrB-3Dj"
      }
    },
    {
      "cell_type": "code",
      "source": [
        "import wandb\n",
        "\n",
        "# --- Configs from your WandB init ---\n",
        "epochs = 600\n",
        "lr = 1e-4\n",
        "batch_size = 2\n",
        "loss_func = \"DiceLoss\"\n",
        "model = \"3D UNet\"\n",
        "\n",
        "train_cnt, val_cnt = 17, 4\n",
        "\n",
        "# --- WandB ---\n",
        "run = wandb.init(\n",
        "    project=\"BraTS\",\n",
        "    name=\"T7_mini_exp1\",\n",
        "    config={\n",
        "        \"learning_rate\": lr,\n",
        "        \"epochs\": epochs,\n",
        "        \"batch_size\": batch_size,\n",
        "        \"loss_func\": loss_func,\n",
        "        \"model\": model,\n",
        "        \"train_cnt\": train_cnt,\n",
        "        \"val_cnt\": val_cnt,\n",
        "    },\n",
        "    reinit=True,\n",
        "    settings=wandb.Settings(code_dir=\"\")\n",
        ")"
      ],
      "metadata": {
        "colab": {
          "base_uri": "https://localhost:8080/",
          "height": 231
        },
        "id": "QUMZ2pMg-6vL",
        "outputId": "c5303a6d-1cdf-4a5b-b280-7b9fb26658ff"
      },
      "execution_count": 5,
      "outputs": [
        {
          "output_type": "display_data",
          "data": {
            "text/plain": [
              "<IPython.core.display.Javascript object>"
            ],
            "application/javascript": [
              "\n",
              "        window._wandbApiKey = new Promise((resolve, reject) => {\n",
              "            function loadScript(url) {\n",
              "            return new Promise(function(resolve, reject) {\n",
              "                let newScript = document.createElement(\"script\");\n",
              "                newScript.onerror = reject;\n",
              "                newScript.onload = resolve;\n",
              "                document.body.appendChild(newScript);\n",
              "                newScript.src = url;\n",
              "            });\n",
              "            }\n",
              "            loadScript(\"https://cdn.jsdelivr.net/npm/postmate/build/postmate.min.js\").then(() => {\n",
              "            const iframe = document.createElement('iframe')\n",
              "            iframe.style.cssText = \"width:0;height:0;border:none\"\n",
              "            document.body.appendChild(iframe)\n",
              "            const handshake = new Postmate({\n",
              "                container: iframe,\n",
              "                url: 'https://wandb.ai/authorize'\n",
              "            });\n",
              "            const timeout = setTimeout(() => reject(\"Couldn't auto authenticate\"), 5000)\n",
              "            handshake.then(function(child) {\n",
              "                child.on('authorize', data => {\n",
              "                    clearTimeout(timeout)\n",
              "                    resolve(data)\n",
              "                });\n",
              "            });\n",
              "            })\n",
              "        });\n",
              "    "
            ]
          },
          "metadata": {}
        },
        {
          "output_type": "stream",
          "name": "stderr",
          "text": [
            "\u001b[34m\u001b[1mwandb\u001b[0m: \u001b[33mWARNING\u001b[0m If you're specifying your api key in code, ensure this code is not shared publicly.\n",
            "\u001b[34m\u001b[1mwandb\u001b[0m: \u001b[33mWARNING\u001b[0m Consider setting the WANDB_API_KEY environment variable, or running `wandb login` from the command line.\n",
            "\u001b[34m\u001b[1mwandb\u001b[0m: No netrc file found, creating one.\n",
            "\u001b[34m\u001b[1mwandb\u001b[0m: Appending key for api.wandb.ai to your netrc file: /root/.netrc\n",
            "\u001b[34m\u001b[1mwandb\u001b[0m: Currently logged in as: \u001b[33mlukehsu1999\u001b[0m (\u001b[33mluke-cmuh\u001b[0m) to \u001b[32mhttps://api.wandb.ai\u001b[0m. Use \u001b[1m`wandb login --relogin`\u001b[0m to force relogin\n",
            "\u001b[34m\u001b[1mwandb\u001b[0m: \u001b[33mWARNING\u001b[0m Using a boolean value for 'reinit' is deprecated. Use 'return_previous' or 'finish_previous' instead.\n"
          ]
        },
        {
          "output_type": "display_data",
          "data": {
            "text/plain": [
              "<IPython.core.display.HTML object>"
            ],
            "text/html": [
              "Tracking run with wandb version 0.19.11"
            ]
          },
          "metadata": {}
        },
        {
          "output_type": "display_data",
          "data": {
            "text/plain": [
              "<IPython.core.display.HTML object>"
            ],
            "text/html": [
              "Run data is saved locally in <code>/content/wandb/run-20250513_001854-lantz0xj</code>"
            ]
          },
          "metadata": {}
        },
        {
          "output_type": "display_data",
          "data": {
            "text/plain": [
              "<IPython.core.display.HTML object>"
            ],
            "text/html": [
              "Syncing run <strong><a href='https://wandb.ai/luke-cmuh/BraTS/runs/lantz0xj' target=\"_blank\">T7_mini_exp1</a></strong> to <a href='https://wandb.ai/luke-cmuh/BraTS' target=\"_blank\">Weights & Biases</a> (<a href='https://wandb.me/developer-guide' target=\"_blank\">docs</a>)<br>"
            ]
          },
          "metadata": {}
        },
        {
          "output_type": "display_data",
          "data": {
            "text/plain": [
              "<IPython.core.display.HTML object>"
            ],
            "text/html": [
              " View project at <a href='https://wandb.ai/luke-cmuh/BraTS' target=\"_blank\">https://wandb.ai/luke-cmuh/BraTS</a>"
            ]
          },
          "metadata": {}
        },
        {
          "output_type": "display_data",
          "data": {
            "text/plain": [
              "<IPython.core.display.HTML object>"
            ],
            "text/html": [
              " View run at <a href='https://wandb.ai/luke-cmuh/BraTS/runs/lantz0xj' target=\"_blank\">https://wandb.ai/luke-cmuh/BraTS/runs/lantz0xj</a>"
            ]
          },
          "metadata": {}
        }
      ]
    },
    {
      "cell_type": "markdown",
      "metadata": {
        "id": "yNcgM1KtT6lQ"
      },
      "source": [
        "## Setup data directory\n",
        "\n",
        "You can specify a directory with the `MONAI_DATA_DIRECTORY` environment variable.  \n",
        "This allows you to save results and reuse downloads.  \n",
        "If not specified a temporary directory will be used."
      ]
    },
    {
      "cell_type": "code",
      "execution_count": 6,
      "metadata": {
        "tags": [],
        "id": "YutaH5IET6lQ",
        "outputId": "5ccebe53-a0cf-448e-a3dc-bc7e2e6ce898",
        "colab": {
          "base_uri": "https://localhost:8080/"
        }
      },
      "outputs": [
        {
          "output_type": "stream",
          "name": "stdout",
          "text": [
            "/tmp/tmp070bde3t\n"
          ]
        }
      ],
      "source": [
        "directory = os.environ.get(\"MONAI_DATA_DIRECTORY\")\n",
        "if directory is not None:\n",
        "    os.makedirs(directory, exist_ok=True)\n",
        "root_dir = tempfile.mkdtemp() if directory is None else directory\n",
        "print(root_dir)"
      ]
    },
    {
      "cell_type": "markdown",
      "metadata": {
        "id": "0PtlXAJ6T6lQ"
      },
      "source": [
        "## Mount on Drive"
      ]
    },
    {
      "cell_type": "code",
      "execution_count": 7,
      "metadata": {
        "tags": [],
        "id": "glq_RSHcT6lR",
        "outputId": "71da481b-7791-4acc-ec85-800d159e5525",
        "colab": {
          "base_uri": "https://localhost:8080/"
        }
      },
      "outputs": [
        {
          "output_type": "stream",
          "name": "stdout",
          "text": [
            "Mounted at /content/drive\n"
          ]
        }
      ],
      "source": [
        "from google.colab import drive\n",
        "drive.mount('/content/drive')"
      ]
    },
    {
      "cell_type": "markdown",
      "metadata": {
        "id": "qiNhBm3-T6lR"
      },
      "source": [
        "## Set MSD Spleen dataset path"
      ]
    },
    {
      "cell_type": "code",
      "execution_count": 8,
      "metadata": {
        "id": "Dji7QkpgT6lR",
        "colab": {
          "base_uri": "https://localhost:8080/"
        },
        "outputId": "acbde1bc-46af-4dd5-c0fe-45c75769b69a"
      },
      "outputs": [
        {
          "output_type": "stream",
          "name": "stdout",
          "text": [
            "✅ Total cases: 21\n",
            "📊 Training: 17  | Validation: 4\n"
          ]
        }
      ],
      "source": [
        "import glob\n",
        "import os\n",
        "\n",
        "data_dir = \"/content/drive/MyDrive/BraTS_Task7_mini\"\n",
        "\n",
        "# Recursively find FLAIR and binary mask pairs\n",
        "image_paths = sorted(glob.glob(os.path.join(data_dir, \"**\", \"*t2f.nii.gz\"), recursive=True))\n",
        "label_paths = sorted(glob.glob(os.path.join(data_dir, \"**\", \"*seg_binary.nii.gz\"), recursive=True))\n",
        "\n",
        "# Make sure they align\n",
        "assert len(image_paths) == len(label_paths), \"Mismatch in image and label counts!\"\n",
        "\n",
        "data_dicts = [{\"image\": i, \"label\": l} for i, l in zip(image_paths, label_paths)]\n",
        "\n",
        "# Manual split: last N for validation\n",
        "train_files = data_dicts[:-4]  # adjust N based on your total case count\n",
        "val_files   = data_dicts[-4:]\n",
        "\n",
        "print(f\"✅ Total cases: {len(data_dicts)}\")\n",
        "print(f\"📊 Training: {len(train_files)}  | Validation: {len(val_files)}\")"
      ]
    },
    {
      "cell_type": "markdown",
      "metadata": {
        "id": "Qxp86E_dT6lR"
      },
      "source": [
        "## Set deterministic training for reproducibility"
      ]
    },
    {
      "cell_type": "code",
      "execution_count": 9,
      "metadata": {
        "id": "Kxgm_TNdT6lR"
      },
      "outputs": [],
      "source": [
        "set_determinism(seed=0)"
      ]
    },
    {
      "cell_type": "markdown",
      "metadata": {
        "id": "Z_killGGT6lR"
      },
      "source": [
        "## Setup transforms for training and validation\n",
        "\n",
        "Here we use several transforms to augment the dataset:\n",
        "1. `LoadImaged` loads the spleen CT images and labels from NIfTI format files.\n",
        "1. `EnsureChannelFirstd` ensures the original data to construct \"channel first\" shape.\n",
        "1. `Orientationd` unifies the data orientation based on the affine matrix.\n",
        "1. `Spacingd` adjusts the spacing by `pixdim=(1.5, 1.5, 2.)` based on the affine matrix.\n",
        "1. `ScaleIntensityRanged` extracts intensity range [-57, 164] and scales to [0, 1].\n",
        "1. `CropForegroundd` removes all zero borders to focus on the valid body area of the images and labels.\n",
        "1. `RandCropByPosNegLabeld` randomly crop patch samples from big image based on pos / neg ratio.  \n",
        "The image centers of negative samples must be in valid body area.\n",
        "1. `RandAffined` efficiently performs `rotate`, `scale`, `shear`, `translate`, etc. together based on PyTorch affine transform."
      ]
    },
    {
      "cell_type": "code",
      "execution_count": 10,
      "metadata": {
        "id": "BUSBiBVnT6lR"
      },
      "outputs": [],
      "source": [
        "train_transforms = Compose(\n",
        "    [\n",
        "        LoadImaged(keys=[\"image\", \"label\"]),\n",
        "        EnsureChannelFirstd(keys=[\"image\", \"label\"]),\n",
        "        ScaleIntensityRangePercentilesd(\n",
        "            keys=[\"image\"],\n",
        "            lower=0.5,     # 0.5 percentile\n",
        "            upper=99.5,    # 99.5 percentile\n",
        "            b_min=0.0,\n",
        "            b_max=1.0,\n",
        "            clip=True,\n",
        "        ),\n",
        "        CropForegroundd(keys=[\"image\", \"label\"], source_key=\"image\", allow_smaller=True),\n",
        "        Orientationd(keys=[\"image\", \"label\"], axcodes=\"RAS\"),\n",
        "        Spacingd(keys=[\"image\", \"label\"], pixdim=(1.5, 1.5, 2.0), mode=(\"bilinear\", \"nearest\")),\n",
        "        RandCropByPosNegLabeld(\n",
        "            keys=[\"image\", \"label\"],\n",
        "            label_key=\"label\",\n",
        "            spatial_size=(64, 96, 64),\n",
        "            pos=1,\n",
        "            neg=1,\n",
        "            num_samples=4,\n",
        "            image_key=\"image\",\n",
        "            image_threshold=0,\n",
        "        ),\n",
        "        # user can also add other random transforms\n",
        "        # RandAffined(\n",
        "        #     keys=['image', 'label'],\n",
        "        #     mode=('bilinear', 'nearest'),\n",
        "        #     prob=1.0, spatial_size=(96, 96, 96),\n",
        "        #     rotate_range=(0, 0, np.pi/15),\n",
        "        #     scale_range=(0.1, 0.1, 0.1)),\n",
        "    ]\n",
        ")\n",
        "val_transforms = Compose(\n",
        "    [\n",
        "        LoadImaged(keys=[\"image\", \"label\"]),\n",
        "        EnsureChannelFirstd(keys=[\"image\", \"label\"]),\n",
        "        ScaleIntensityRangePercentilesd(\n",
        "            keys=[\"image\"],\n",
        "            lower=0.5,     # 0.5 percentile\n",
        "            upper=99.5,    # 99.5 percentile\n",
        "            b_min=0.0,\n",
        "            b_max=1.0,\n",
        "            clip=True,\n",
        "        ),\n",
        "        CropForegroundd(keys=[\"image\", \"label\"], source_key=\"image\", allow_smaller=True),\n",
        "        Orientationd(keys=[\"image\", \"label\"], axcodes=\"RAS\"),\n",
        "        Spacingd(keys=[\"image\", \"label\"], pixdim=(1.5, 1.5, 2.0), mode=(\"bilinear\", \"nearest\")),\n",
        "    ]\n",
        ")"
      ]
    },
    {
      "cell_type": "markdown",
      "metadata": {
        "id": "-WaFvrcJT6lR"
      },
      "source": [
        "## Check transforms in DataLoader"
      ]
    },
    {
      "cell_type": "code",
      "execution_count": 11,
      "metadata": {
        "tags": [],
        "id": "oocRNqRPT6lS",
        "outputId": "e7c3629a-d9b6-4750-e3c0-778de7200dec",
        "colab": {
          "base_uri": "https://localhost:8080/",
          "height": 434
        }
      },
      "outputs": [
        {
          "output_type": "stream",
          "name": "stdout",
          "text": [
            "image shape: torch.Size([90, 114, 71]), label shape: torch.Size([90, 114, 71])\n"
          ]
        },
        {
          "output_type": "display_data",
          "data": {
            "text/plain": [
              "<Figure size 1200x600 with 2 Axes>"
            ],
            "image/png": "[encoded data removed]"
          },
          "metadata": {}
        }
      ],
      "source": [
        "check_ds = Dataset(data=val_files, transform=val_transforms)\n",
        "check_loader = DataLoader(check_ds, batch_size=1)\n",
        "check_data = first(check_loader)\n",
        "image, label = (check_data[\"image\"][0][0], check_data[\"label\"][0][0])\n",
        "print(f\"image shape: {image.shape}, label shape: {label.shape}\")\n",
        "# plot the slice [:, :, 20]\n",
        "idx = 40\n",
        "plt.figure(\"check\", (12, 6))\n",
        "plt.subplot(1, 2, 1)\n",
        "plt.title(\"image\")\n",
        "plt.imshow(image[:, :, idx], cmap=\"gray\")\n",
        "plt.subplot(1, 2, 2)\n",
        "plt.title(\"label\")\n",
        "plt.imshow(label[:, :, idx])\n",
        "plt.show()"
      ]
    },
    {
      "cell_type": "markdown",
      "metadata": {
        "id": "fkxMvcSHT6lS"
      },
      "source": [
        "## Define CacheDataset and DataLoader for training and validation\n",
        "\n",
        "Here we use CacheDataset to accelerate training and validation process, it's 10x faster than the regular Dataset.  \n",
        "To achieve best performance, set `cache_rate=1.0` to cache all the data, if memory is not enough, set lower value.  \n",
        "Users can also set `cache_num` instead of `cache_rate`, will use the minimum value of the 2 settings.  \n",
        "And set `num_workers` to enable multi-threads during caching.  \n",
        "If want to to try the regular Dataset, just change to use the commented code below."
      ]
    },
    {
      "cell_type": "code",
      "execution_count": 12,
      "metadata": {
        "tags": [],
        "id": "5GFlDodLT6lS",
        "outputId": "496c61d9-50fc-4c16-a623-3cada36e68a5",
        "colab": {
          "base_uri": "https://localhost:8080/"
        }
      },
      "outputs": [
        {
          "output_type": "stream",
          "name": "stderr",
          "text": [
            "Loading dataset: 100%|██████████| 17/17 [00:15<00:00,  1.13it/s]\n",
            "/usr/local/lib/python3.11/dist-packages/torch/utils/data/dataloader.py:624: UserWarning: This DataLoader will create 4 worker processes in total. Our suggested max number of worker in current system is 2, which is smaller than what this DataLoader is going to create. Please be aware that excessive worker creation might get DataLoader running slow or even freeze, lower the worker number to avoid potential slowness/freeze if necessary.\n",
            "  warnings.warn(\n",
            "Loading dataset: 100%|██████████| 4/4 [00:03<00:00,  1.17it/s]\n"
          ]
        }
      ],
      "source": [
        "train_ds = CacheDataset(data=train_files, transform=train_transforms, cache_rate=1.0, num_workers=4)\n",
        "# train_ds = Dataset(data=train_files, transform=train_transforms)\n",
        "\n",
        "# use batch_size=2 to load images and use RandCropByPosNegLabeld\n",
        "# to generate 2 x 4 images for network training\n",
        "train_loader = DataLoader(train_ds, batch_size=2, shuffle=True, num_workers=4)\n",
        "\n",
        "val_ds = CacheDataset(data=val_files, transform=val_transforms, cache_rate=1.0, num_workers=4)\n",
        "# val_ds = Dataset(data=val_files, transform=val_transforms)\n",
        "val_loader = DataLoader(val_ds, batch_size=1, num_workers=4)"
      ]
    },
    {
      "cell_type": "markdown",
      "metadata": {
        "id": "iyD_L9BHT6lS"
      },
      "source": [
        "## Create Model, Loss, Optimizer"
      ]
    },
    {
      "cell_type": "code",
      "execution_count": 13,
      "metadata": {
        "id": "TLmhsFysT6lS"
      },
      "outputs": [],
      "source": [
        "# standard PyTorch program style: create UNet, DiceLoss and Adam optimizer\n",
        "device = torch.device(\"cuda:0\")\n",
        "model = UNet(\n",
        "    spatial_dims=3,\n",
        "    in_channels=1,\n",
        "    out_channels=2,\n",
        "    channels=(16, 32, 64, 128, 256),\n",
        "    strides=(2, 2, 2, 2),\n",
        "    num_res_units=2,\n",
        "    norm=Norm.BATCH,\n",
        ").to(device)\n",
        "loss_function = DiceLoss(to_onehot_y=True, softmax=True)\n",
        "optimizer = torch.optim.Adam(model.parameters(), 1e-4)\n",
        "dice_metric = DiceMetric(include_background=False, reduction=\"mean\")"
      ]
    },
    {
      "cell_type": "markdown",
      "metadata": {
        "id": "TPpR3Y0VT6lS"
      },
      "source": [
        "## Execute a typical PyTorch training process"
      ]
    },
    {
      "cell_type": "code",
      "source": [
        "from tqdm import tqdm, trange"
      ],
      "metadata": {
        "id": "7xnm2xRABUmZ"
      },
      "execution_count": 14,
      "outputs": []
    },
    {
      "cell_type": "code",
      "execution_count": 15,
      "metadata": {
        "scrolled": true,
        "tags": [],
        "id": "0xDFNYuHT6lS",
        "outputId": "71f3219a-f4fa-4444-a753-390c2fd6b19d",
        "colab": {
          "base_uri": "https://localhost:8080/"
        }
      },
      "outputs": [
        {
          "output_type": "stream",
          "name": "stderr",
          "text": [
            "\rTraining Epochs:   0%|          | 0/600 [00:00<?, ?it/s]/usr/local/lib/python3.11/dist-packages/torch/utils/data/dataloader.py:624: UserWarning: This DataLoader will create 4 worker processes in total. Our suggested max number of worker in current system is 2, which is smaller than what this DataLoader is going to create. Please be aware that excessive worker creation might get DataLoader running slow or even freeze, lower the worker number to avoid potential slowness/freeze if necessary.\n",
            "  warnings.warn(\n",
            "Training Epochs:   0%|          | 2/600 [00:12<1:00:40,  6.09s/it, loss=0.63]"
          ]
        },
        {
          "output_type": "stream",
          "name": "stdout",
          "text": [
            "saved new best metric model\n",
            "current epoch: 2 current mean dice: 0.0920\n",
            "best mean dice: 0.0920 at epoch: 2\n"
          ]
        },
        {
          "output_type": "stream",
          "name": "stderr",
          "text": [
            "Training Epochs:   1%|          | 4/600 [00:22<54:39,  5.50s/it, loss=0.603]"
          ]
        },
        {
          "output_type": "stream",
          "name": "stdout",
          "text": [
            "saved new best metric model\n",
            "current epoch: 4 current mean dice: 0.1143\n",
            "best mean dice: 0.1143 at epoch: 4\n"
          ]
        },
        {
          "output_type": "stream",
          "name": "stderr",
          "text": [
            "Training Epochs:   1%|          | 6/600 [00:32<53:34,  5.41s/it, loss=0.574]"
          ]
        },
        {
          "output_type": "stream",
          "name": "stdout",
          "text": [
            "saved new best metric model\n",
            "current epoch: 6 current mean dice: 0.1421\n",
            "best mean dice: 0.1421 at epoch: 6\n"
          ]
        },
        {
          "output_type": "stream",
          "name": "stderr",
          "text": [
            "Training Epochs:   1%|▏         | 8/600 [00:42<52:46,  5.35s/it, loss=0.566]"
          ]
        },
        {
          "output_type": "stream",
          "name": "stdout",
          "text": [
            "saved new best metric model\n",
            "current epoch: 8 current mean dice: 0.1655\n",
            "best mean dice: 0.1655 at epoch: 8\n"
          ]
        },
        {
          "output_type": "stream",
          "name": "stderr",
          "text": [
            "Training Epochs:   2%|▏         | 10/600 [00:53<54:13,  5.51s/it, loss=0.547]"
          ]
        },
        {
          "output_type": "stream",
          "name": "stdout",
          "text": [
            "saved new best metric model\n",
            "current epoch: 10 current mean dice: 0.1700\n",
            "best mean dice: 0.1700 at epoch: 10\n"
          ]
        },
        {
          "output_type": "stream",
          "name": "stderr",
          "text": [
            "Training Epochs:   2%|▏         | 12/600 [01:04<52:39,  5.37s/it, loss=0.536]"
          ]
        },
        {
          "output_type": "stream",
          "name": "stdout",
          "text": [
            "saved new best metric model\n",
            "current epoch: 12 current mean dice: 0.1876\n",
            "best mean dice: 0.1876 at epoch: 12\n"
          ]
        },
        {
          "output_type": "stream",
          "name": "stderr",
          "text": [
            "Training Epochs:   2%|▏         | 14/600 [01:14<51:27,  5.27s/it, loss=0.529]"
          ]
        },
        {
          "output_type": "stream",
          "name": "stdout",
          "text": [
            "saved new best metric model\n",
            "current epoch: 14 current mean dice: 0.2023\n",
            "best mean dice: 0.2023 at epoch: 14\n"
          ]
        },
        {
          "output_type": "stream",
          "name": "stderr",
          "text": [
            "Training Epochs:   3%|▎         | 16/600 [01:24<51:59,  5.34s/it, loss=0.52]"
          ]
        },
        {
          "output_type": "stream",
          "name": "stdout",
          "text": [
            "saved new best metric model\n",
            "current epoch: 16 current mean dice: 0.2546\n",
            "best mean dice: 0.2546 at epoch: 16\n"
          ]
        },
        {
          "output_type": "stream",
          "name": "stderr",
          "text": [
            "Training Epochs:   3%|▎         | 18/600 [01:34<50:48,  5.24s/it, loss=0.517]"
          ]
        },
        {
          "output_type": "stream",
          "name": "stdout",
          "text": [
            "saved new best metric model\n",
            "current epoch: 18 current mean dice: 0.2883\n",
            "best mean dice: 0.2883 at epoch: 18\n"
          ]
        },
        {
          "output_type": "stream",
          "name": "stderr",
          "text": [
            "Training Epochs:   3%|▎         | 20/600 [01:45<50:48,  5.26s/it, loss=0.492]"
          ]
        },
        {
          "output_type": "stream",
          "name": "stdout",
          "text": [
            "current epoch: 20 current mean dice: 0.2715\n",
            "best mean dice: 0.2883 at epoch: 18\n"
          ]
        },
        {
          "output_type": "stream",
          "name": "stderr",
          "text": [
            "Training Epochs:   4%|▎         | 22/600 [01:55<50:50,  5.28s/it, loss=0.498]"
          ]
        },
        {
          "output_type": "stream",
          "name": "stdout",
          "text": [
            "saved new best metric model\n",
            "current epoch: 22 current mean dice: 0.3747\n",
            "best mean dice: 0.3747 at epoch: 22\n"
          ]
        },
        {
          "output_type": "stream",
          "name": "stderr",
          "text": [
            "Training Epochs:   4%|▍         | 24/600 [02:05<51:15,  5.34s/it, loss=0.485]"
          ]
        },
        {
          "output_type": "stream",
          "name": "stdout",
          "text": [
            "saved new best metric model\n",
            "current epoch: 24 current mean dice: 0.4347\n",
            "best mean dice: 0.4347 at epoch: 24\n"
          ]
        },
        {
          "output_type": "stream",
          "name": "stderr",
          "text": [
            "Training Epochs:   4%|▍         | 26/600 [02:16<50:40,  5.30s/it, loss=0.484]"
          ]
        },
        {
          "output_type": "stream",
          "name": "stdout",
          "text": [
            "saved new best metric model\n",
            "current epoch: 26 current mean dice: 0.5654\n",
            "best mean dice: 0.5654 at epoch: 26\n"
          ]
        },
        {
          "output_type": "stream",
          "name": "stderr",
          "text": [
            "Training Epochs:   5%|▍         | 28/600 [02:26<49:42,  5.21s/it, loss=0.47]"
          ]
        },
        {
          "output_type": "stream",
          "name": "stdout",
          "text": [
            "current epoch: 28 current mean dice: 0.5235\n",
            "best mean dice: 0.5654 at epoch: 26\n"
          ]
        },
        {
          "output_type": "stream",
          "name": "stderr",
          "text": [
            "Training Epochs:   5%|▌         | 30/600 [02:36<50:01,  5.27s/it, loss=0.459]"
          ]
        },
        {
          "output_type": "stream",
          "name": "stdout",
          "text": [
            "current epoch: 30 current mean dice: 0.5134\n",
            "best mean dice: 0.5654 at epoch: 26\n"
          ]
        },
        {
          "output_type": "stream",
          "name": "stderr",
          "text": [
            "Training Epochs:   5%|▌         | 32/600 [02:46<50:09,  5.30s/it, loss=0.444]"
          ]
        },
        {
          "output_type": "stream",
          "name": "stdout",
          "text": [
            "current epoch: 32 current mean dice: 0.4521\n",
            "best mean dice: 0.5654 at epoch: 26\n"
          ]
        },
        {
          "output_type": "stream",
          "name": "stderr",
          "text": [
            "Training Epochs:   6%|▌         | 34/600 [02:57<51:45,  5.49s/it, loss=0.448]"
          ]
        },
        {
          "output_type": "stream",
          "name": "stdout",
          "text": [
            "saved new best metric model\n",
            "current epoch: 34 current mean dice: 0.5747\n",
            "best mean dice: 0.5747 at epoch: 34\n"
          ]
        },
        {
          "output_type": "stream",
          "name": "stderr",
          "text": [
            "Training Epochs:   6%|▌         | 36/600 [03:07<49:23,  5.25s/it, loss=0.452]"
          ]
        },
        {
          "output_type": "stream",
          "name": "stdout",
          "text": [
            "current epoch: 36 current mean dice: 0.3724\n",
            "best mean dice: 0.5747 at epoch: 34\n"
          ]
        },
        {
          "output_type": "stream",
          "name": "stderr",
          "text": [
            "Training Epochs:   6%|▋         | 38/600 [03:17<48:40,  5.20s/it, loss=0.425]"
          ]
        },
        {
          "output_type": "stream",
          "name": "stdout",
          "text": [
            "current epoch: 38 current mean dice: 0.5101\n",
            "best mean dice: 0.5747 at epoch: 34\n"
          ]
        },
        {
          "output_type": "stream",
          "name": "stderr",
          "text": [
            "Training Epochs:   7%|▋         | 40/600 [03:28<48:57,  5.25s/it, loss=0.431]"
          ]
        },
        {
          "output_type": "stream",
          "name": "stdout",
          "text": [
            "current epoch: 40 current mean dice: 0.5406\n",
            "best mean dice: 0.5747 at epoch: 34\n"
          ]
        },
        {
          "output_type": "stream",
          "name": "stderr",
          "text": [
            "Training Epochs:   7%|▋         | 42/600 [03:38<48:48,  5.25s/it, loss=0.418]"
          ]
        },
        {
          "output_type": "stream",
          "name": "stdout",
          "text": [
            "current epoch: 42 current mean dice: 0.5492\n",
            "best mean dice: 0.5747 at epoch: 34\n"
          ]
        },
        {
          "output_type": "stream",
          "name": "stderr",
          "text": [
            "Training Epochs:   7%|▋         | 44/600 [03:48<48:22,  5.22s/it, loss=0.416]"
          ]
        },
        {
          "output_type": "stream",
          "name": "stdout",
          "text": [
            "current epoch: 44 current mean dice: 0.4822\n",
            "best mean dice: 0.5747 at epoch: 34\n"
          ]
        },
        {
          "output_type": "stream",
          "name": "stderr",
          "text": [
            "Training Epochs:   8%|▊         | 46/600 [03:58<48:36,  5.26s/it, loss=0.398]"
          ]
        },
        {
          "output_type": "stream",
          "name": "stdout",
          "text": [
            "current epoch: 46 current mean dice: 0.5263\n",
            "best mean dice: 0.5747 at epoch: 34\n"
          ]
        },
        {
          "output_type": "stream",
          "name": "stderr",
          "text": [
            "Training Epochs:   8%|▊         | 48/600 [04:08<48:21,  5.26s/it, loss=0.399]"
          ]
        },
        {
          "output_type": "stream",
          "name": "stdout",
          "text": [
            "current epoch: 48 current mean dice: 0.5048\n",
            "best mean dice: 0.5747 at epoch: 34\n"
          ]
        },
        {
          "output_type": "stream",
          "name": "stderr",
          "text": [
            "Training Epochs:   8%|▊         | 50/600 [04:19<47:43,  5.21s/it, loss=0.385]"
          ]
        },
        {
          "output_type": "stream",
          "name": "stdout",
          "text": [
            "current epoch: 50 current mean dice: 0.4905\n",
            "best mean dice: 0.5747 at epoch: 34\n"
          ]
        },
        {
          "output_type": "stream",
          "name": "stderr",
          "text": [
            "Training Epochs:   9%|▊         | 52/600 [04:29<47:50,  5.24s/it, loss=0.372]"
          ]
        },
        {
          "output_type": "stream",
          "name": "stdout",
          "text": [
            "current epoch: 52 current mean dice: 0.4296\n",
            "best mean dice: 0.5747 at epoch: 34\n"
          ]
        },
        {
          "output_type": "stream",
          "name": "stderr",
          "text": [
            "Training Epochs:   9%|▉         | 54/600 [04:40<48:41,  5.35s/it, loss=0.373]"
          ]
        },
        {
          "output_type": "stream",
          "name": "stdout",
          "text": [
            "current epoch: 54 current mean dice: 0.4850\n",
            "best mean dice: 0.5747 at epoch: 34\n"
          ]
        },
        {
          "output_type": "stream",
          "name": "stderr",
          "text": [
            "Training Epochs:   9%|▉         | 56/600 [04:50<48:03,  5.30s/it, loss=0.374]"
          ]
        },
        {
          "output_type": "stream",
          "name": "stdout",
          "text": [
            "current epoch: 56 current mean dice: 0.3881\n",
            "best mean dice: 0.5747 at epoch: 34\n"
          ]
        },
        {
          "output_type": "stream",
          "name": "stderr",
          "text": [
            "Training Epochs:  10%|▉         | 58/600 [05:00<48:41,  5.39s/it, loss=0.37]"
          ]
        },
        {
          "output_type": "stream",
          "name": "stdout",
          "text": [
            "current epoch: 58 current mean dice: 0.4504\n",
            "best mean dice: 0.5747 at epoch: 34\n"
          ]
        },
        {
          "output_type": "stream",
          "name": "stderr",
          "text": [
            "Training Epochs:  10%|█         | 60/600 [05:11<47:45,  5.31s/it, loss=0.374]"
          ]
        },
        {
          "output_type": "stream",
          "name": "stdout",
          "text": [
            "current epoch: 60 current mean dice: 0.4399\n",
            "best mean dice: 0.5747 at epoch: 34\n"
          ]
        },
        {
          "output_type": "stream",
          "name": "stderr",
          "text": [
            "Training Epochs:  10%|█         | 62/600 [05:21<48:25,  5.40s/it, loss=0.328]"
          ]
        },
        {
          "output_type": "stream",
          "name": "stdout",
          "text": [
            "current epoch: 62 current mean dice: 0.4241\n",
            "best mean dice: 0.5747 at epoch: 34\n"
          ]
        },
        {
          "output_type": "stream",
          "name": "stderr",
          "text": [
            "Training Epochs:  11%|█         | 64/600 [05:31<47:02,  5.27s/it, loss=0.33]"
          ]
        },
        {
          "output_type": "stream",
          "name": "stdout",
          "text": [
            "current epoch: 64 current mean dice: 0.4981\n",
            "best mean dice: 0.5747 at epoch: 34\n"
          ]
        },
        {
          "output_type": "stream",
          "name": "stderr",
          "text": [
            "Training Epochs:  11%|█         | 66/600 [05:41<46:14,  5.20s/it, loss=0.333]"
          ]
        },
        {
          "output_type": "stream",
          "name": "stdout",
          "text": [
            "current epoch: 66 current mean dice: 0.4639\n",
            "best mean dice: 0.5747 at epoch: 34\n"
          ]
        },
        {
          "output_type": "stream",
          "name": "stderr",
          "text": [
            "Training Epochs:  11%|█▏        | 68/600 [05:52<46:10,  5.21s/it, loss=0.322]"
          ]
        },
        {
          "output_type": "stream",
          "name": "stdout",
          "text": [
            "current epoch: 68 current mean dice: 0.4748\n",
            "best mean dice: 0.5747 at epoch: 34\n"
          ]
        },
        {
          "output_type": "stream",
          "name": "stderr",
          "text": [
            "Training Epochs:  12%|█▏        | 70/600 [06:02<46:39,  5.28s/it, loss=0.318]"
          ]
        },
        {
          "output_type": "stream",
          "name": "stdout",
          "text": [
            "current epoch: 70 current mean dice: 0.5128\n",
            "best mean dice: 0.5747 at epoch: 34\n"
          ]
        },
        {
          "output_type": "stream",
          "name": "stderr",
          "text": [
            "Training Epochs:  12%|█▏        | 72/600 [06:12<46:36,  5.30s/it, loss=0.322]"
          ]
        },
        {
          "output_type": "stream",
          "name": "stdout",
          "text": [
            "current epoch: 72 current mean dice: 0.5581\n",
            "best mean dice: 0.5747 at epoch: 34\n"
          ]
        },
        {
          "output_type": "stream",
          "name": "stderr",
          "text": [
            "Training Epochs:  12%|█▏        | 74/600 [06:23<46:17,  5.28s/it, loss=0.298]"
          ]
        },
        {
          "output_type": "stream",
          "name": "stdout",
          "text": [
            "current epoch: 74 current mean dice: 0.4535\n",
            "best mean dice: 0.5747 at epoch: 34\n"
          ]
        },
        {
          "output_type": "stream",
          "name": "stderr",
          "text": [
            "Training Epochs:  13%|█▎        | 76/600 [06:33<45:58,  5.26s/it, loss=0.289]"
          ]
        },
        {
          "output_type": "stream",
          "name": "stdout",
          "text": [
            "current epoch: 76 current mean dice: 0.4567\n",
            "best mean dice: 0.5747 at epoch: 34\n"
          ]
        },
        {
          "output_type": "stream",
          "name": "stderr",
          "text": [
            "Training Epochs:  13%|█▎        | 78/600 [06:43<45:11,  5.19s/it, loss=0.283]"
          ]
        },
        {
          "output_type": "stream",
          "name": "stdout",
          "text": [
            "current epoch: 78 current mean dice: 0.5216\n",
            "best mean dice: 0.5747 at epoch: 34\n"
          ]
        },
        {
          "output_type": "stream",
          "name": "stderr",
          "text": [
            "Training Epochs:  13%|█▎        | 80/600 [06:53<44:42,  5.16s/it, loss=0.291]"
          ]
        },
        {
          "output_type": "stream",
          "name": "stdout",
          "text": [
            "current epoch: 80 current mean dice: 0.4980\n",
            "best mean dice: 0.5747 at epoch: 34\n"
          ]
        },
        {
          "output_type": "stream",
          "name": "stderr",
          "text": [
            "Training Epochs:  14%|█▎        | 82/600 [07:03<44:47,  5.19s/it, loss=0.277]"
          ]
        },
        {
          "output_type": "stream",
          "name": "stdout",
          "text": [
            "current epoch: 82 current mean dice: 0.5286\n",
            "best mean dice: 0.5747 at epoch: 34\n"
          ]
        },
        {
          "output_type": "stream",
          "name": "stderr",
          "text": [
            "Training Epochs:  14%|█▍        | 84/600 [07:14<45:28,  5.29s/it, loss=0.282]"
          ]
        },
        {
          "output_type": "stream",
          "name": "stdout",
          "text": [
            "current epoch: 84 current mean dice: 0.5484\n",
            "best mean dice: 0.5747 at epoch: 34\n"
          ]
        },
        {
          "output_type": "stream",
          "name": "stderr",
          "text": [
            "Training Epochs:  14%|█▍        | 86/600 [07:25<47:08,  5.50s/it, loss=0.272]"
          ]
        },
        {
          "output_type": "stream",
          "name": "stdout",
          "text": [
            "current epoch: 86 current mean dice: 0.4303\n",
            "best mean dice: 0.5747 at epoch: 34\n"
          ]
        },
        {
          "output_type": "stream",
          "name": "stderr",
          "text": [
            "Training Epochs:  15%|█▍        | 88/600 [07:35<45:08,  5.29s/it, loss=0.253]"
          ]
        },
        {
          "output_type": "stream",
          "name": "stdout",
          "text": [
            "current epoch: 88 current mean dice: 0.5678\n",
            "best mean dice: 0.5747 at epoch: 34\n"
          ]
        },
        {
          "output_type": "stream",
          "name": "stderr",
          "text": [
            "Training Epochs:  15%|█▌        | 90/600 [07:45<45:01,  5.30s/it, loss=0.256]"
          ]
        },
        {
          "output_type": "stream",
          "name": "stdout",
          "text": [
            "saved new best metric model\n",
            "current epoch: 90 current mean dice: 0.6049\n",
            "best mean dice: 0.6049 at epoch: 90\n"
          ]
        },
        {
          "output_type": "stream",
          "name": "stderr",
          "text": [
            "Training Epochs:  15%|█▌        | 92/600 [07:55<45:12,  5.34s/it, loss=0.243]"
          ]
        },
        {
          "output_type": "stream",
          "name": "stdout",
          "text": [
            "current epoch: 92 current mean dice: 0.5458\n",
            "best mean dice: 0.6049 at epoch: 90\n"
          ]
        },
        {
          "output_type": "stream",
          "name": "stderr",
          "text": [
            "Training Epochs:  16%|█▌        | 94/600 [08:06<45:15,  5.37s/it, loss=0.24]"
          ]
        },
        {
          "output_type": "stream",
          "name": "stdout",
          "text": [
            "current epoch: 94 current mean dice: 0.5274\n",
            "best mean dice: 0.6049 at epoch: 90\n"
          ]
        },
        {
          "output_type": "stream",
          "name": "stderr",
          "text": [
            "Training Epochs:  16%|█▌        | 96/600 [08:17<45:16,  5.39s/it, loss=0.234]"
          ]
        },
        {
          "output_type": "stream",
          "name": "stdout",
          "text": [
            "current epoch: 96 current mean dice: 0.5835\n",
            "best mean dice: 0.6049 at epoch: 90\n"
          ]
        },
        {
          "output_type": "stream",
          "name": "stderr",
          "text": [
            "Training Epochs:  16%|█▋        | 98/600 [08:27<44:39,  5.34s/it, loss=0.251]"
          ]
        },
        {
          "output_type": "stream",
          "name": "stdout",
          "text": [
            "current epoch: 98 current mean dice: 0.5134\n",
            "best mean dice: 0.6049 at epoch: 90\n"
          ]
        },
        {
          "output_type": "stream",
          "name": "stderr",
          "text": [
            "Training Epochs:  17%|█▋        | 100/600 [08:37<43:44,  5.25s/it, loss=0.221]"
          ]
        },
        {
          "output_type": "stream",
          "name": "stdout",
          "text": [
            "current epoch: 100 current mean dice: 0.5436\n",
            "best mean dice: 0.6049 at epoch: 90\n"
          ]
        },
        {
          "output_type": "stream",
          "name": "stderr",
          "text": [
            "Training Epochs:  17%|█▋        | 102/600 [08:47<42:22,  5.11s/it, loss=0.212]"
          ]
        },
        {
          "output_type": "stream",
          "name": "stdout",
          "text": [
            "current epoch: 102 current mean dice: 0.5846\n",
            "best mean dice: 0.6049 at epoch: 90\n"
          ]
        },
        {
          "output_type": "stream",
          "name": "stderr",
          "text": [
            "Training Epochs:  17%|█▋        | 104/600 [08:57<43:18,  5.24s/it, loss=0.223]"
          ]
        },
        {
          "output_type": "stream",
          "name": "stdout",
          "text": [
            "current epoch: 104 current mean dice: 0.5963\n",
            "best mean dice: 0.6049 at epoch: 90\n"
          ]
        },
        {
          "output_type": "stream",
          "name": "stderr",
          "text": [
            "Training Epochs:  18%|█▊        | 106/600 [09:08<44:16,  5.38s/it, loss=0.23]"
          ]
        },
        {
          "output_type": "stream",
          "name": "stdout",
          "text": [
            "current epoch: 106 current mean dice: 0.5533\n",
            "best mean dice: 0.6049 at epoch: 90\n"
          ]
        },
        {
          "output_type": "stream",
          "name": "stderr",
          "text": [
            "Training Epochs:  18%|█▊        | 108/600 [09:18<44:17,  5.40s/it, loss=0.214]"
          ]
        },
        {
          "output_type": "stream",
          "name": "stdout",
          "text": [
            "current epoch: 108 current mean dice: 0.5972\n",
            "best mean dice: 0.6049 at epoch: 90\n"
          ]
        },
        {
          "output_type": "stream",
          "name": "stderr",
          "text": [
            "Training Epochs:  18%|█▊        | 110/600 [09:28<42:50,  5.25s/it, loss=0.206]"
          ]
        },
        {
          "output_type": "stream",
          "name": "stdout",
          "text": [
            "current epoch: 110 current mean dice: 0.6034\n",
            "best mean dice: 0.6049 at epoch: 90\n"
          ]
        },
        {
          "output_type": "stream",
          "name": "stderr",
          "text": [
            "Training Epochs:  19%|█▊        | 112/600 [09:39<42:46,  5.26s/it, loss=0.209]"
          ]
        },
        {
          "output_type": "stream",
          "name": "stdout",
          "text": [
            "saved new best metric model\n",
            "current epoch: 112 current mean dice: 0.6473\n",
            "best mean dice: 0.6473 at epoch: 112\n"
          ]
        },
        {
          "output_type": "stream",
          "name": "stderr",
          "text": [
            "Training Epochs:  19%|█▉        | 114/600 [09:49<43:33,  5.38s/it, loss=0.192]"
          ]
        },
        {
          "output_type": "stream",
          "name": "stdout",
          "text": [
            "current epoch: 114 current mean dice: 0.6382\n",
            "best mean dice: 0.6473 at epoch: 112\n"
          ]
        },
        {
          "output_type": "stream",
          "name": "stderr",
          "text": [
            "Training Epochs:  19%|█▉        | 116/600 [10:00<43:30,  5.39s/it, loss=0.2]"
          ]
        },
        {
          "output_type": "stream",
          "name": "stdout",
          "text": [
            "saved new best metric model\n",
            "current epoch: 116 current mean dice: 0.6497\n",
            "best mean dice: 0.6497 at epoch: 116\n"
          ]
        },
        {
          "output_type": "stream",
          "name": "stderr",
          "text": [
            "Training Epochs:  20%|█▉        | 118/600 [10:10<43:11,  5.38s/it, loss=0.188]"
          ]
        },
        {
          "output_type": "stream",
          "name": "stdout",
          "text": [
            "current epoch: 118 current mean dice: 0.6376\n",
            "best mean dice: 0.6497 at epoch: 116\n"
          ]
        },
        {
          "output_type": "stream",
          "name": "stderr",
          "text": [
            "Training Epochs:  20%|██        | 120/600 [10:21<42:40,  5.33s/it, loss=0.17]"
          ]
        },
        {
          "output_type": "stream",
          "name": "stdout",
          "text": [
            "saved new best metric model\n",
            "current epoch: 120 current mean dice: 0.6700\n",
            "best mean dice: 0.6700 at epoch: 120\n"
          ]
        },
        {
          "output_type": "stream",
          "name": "stderr",
          "text": [
            "Training Epochs:  20%|██        | 122/600 [10:31<42:46,  5.37s/it, loss=0.167]"
          ]
        },
        {
          "output_type": "stream",
          "name": "stdout",
          "text": [
            "current epoch: 122 current mean dice: 0.5800\n",
            "best mean dice: 0.6700 at epoch: 120\n"
          ]
        },
        {
          "output_type": "stream",
          "name": "stderr",
          "text": [
            "Training Epochs:  21%|██        | 124/600 [10:41<41:14,  5.20s/it, loss=0.196]"
          ]
        },
        {
          "output_type": "stream",
          "name": "stdout",
          "text": [
            "current epoch: 124 current mean dice: 0.6496\n",
            "best mean dice: 0.6700 at epoch: 120\n"
          ]
        },
        {
          "output_type": "stream",
          "name": "stderr",
          "text": [
            "Training Epochs:  21%|██        | 126/600 [10:51<41:35,  5.27s/it, loss=0.17]"
          ]
        },
        {
          "output_type": "stream",
          "name": "stdout",
          "text": [
            "current epoch: 126 current mean dice: 0.6146\n",
            "best mean dice: 0.6700 at epoch: 120\n"
          ]
        },
        {
          "output_type": "stream",
          "name": "stderr",
          "text": [
            "Training Epochs:  21%|██▏       | 128/600 [11:02<41:43,  5.30s/it, loss=0.16]"
          ]
        },
        {
          "output_type": "stream",
          "name": "stdout",
          "text": [
            "current epoch: 128 current mean dice: 0.6522\n",
            "best mean dice: 0.6700 at epoch: 120\n"
          ]
        },
        {
          "output_type": "stream",
          "name": "stderr",
          "text": [
            "Training Epochs:  22%|██▏       | 130/600 [11:12<41:25,  5.29s/it, loss=0.157]"
          ]
        },
        {
          "output_type": "stream",
          "name": "stdout",
          "text": [
            "current epoch: 130 current mean dice: 0.6113\n",
            "best mean dice: 0.6700 at epoch: 120\n"
          ]
        },
        {
          "output_type": "stream",
          "name": "stderr",
          "text": [
            "Training Epochs:  22%|██▏       | 132/600 [11:22<40:41,  5.22s/it, loss=0.151]"
          ]
        },
        {
          "output_type": "stream",
          "name": "stdout",
          "text": [
            "current epoch: 132 current mean dice: 0.6435\n",
            "best mean dice: 0.6700 at epoch: 120\n"
          ]
        },
        {
          "output_type": "stream",
          "name": "stderr",
          "text": [
            "Training Epochs:  22%|██▏       | 134/600 [11:33<40:53,  5.26s/it, loss=0.149]"
          ]
        },
        {
          "output_type": "stream",
          "name": "stdout",
          "text": [
            "current epoch: 134 current mean dice: 0.6628\n",
            "best mean dice: 0.6700 at epoch: 120\n"
          ]
        },
        {
          "output_type": "stream",
          "name": "stderr",
          "text": [
            "Training Epochs:  23%|██▎       | 136/600 [11:43<41:31,  5.37s/it, loss=0.134]"
          ]
        },
        {
          "output_type": "stream",
          "name": "stdout",
          "text": [
            "current epoch: 136 current mean dice: 0.6256\n",
            "best mean dice: 0.6700 at epoch: 120\n"
          ]
        },
        {
          "output_type": "stream",
          "name": "stderr",
          "text": [
            "Training Epochs:  23%|██▎       | 138/600 [11:53<40:42,  5.29s/it, loss=0.143]"
          ]
        },
        {
          "output_type": "stream",
          "name": "stdout",
          "text": [
            "current epoch: 138 current mean dice: 0.6353\n",
            "best mean dice: 0.6700 at epoch: 120\n"
          ]
        },
        {
          "output_type": "stream",
          "name": "stderr",
          "text": [
            "Training Epochs:  23%|██▎       | 140/600 [12:03<39:39,  5.17s/it, loss=0.141]"
          ]
        },
        {
          "output_type": "stream",
          "name": "stdout",
          "text": [
            "current epoch: 140 current mean dice: 0.6074\n",
            "best mean dice: 0.6700 at epoch: 120\n"
          ]
        },
        {
          "output_type": "stream",
          "name": "stderr",
          "text": [
            "Training Epochs:  24%|██▎       | 142/600 [12:13<39:40,  5.20s/it, loss=0.127]"
          ]
        },
        {
          "output_type": "stream",
          "name": "stdout",
          "text": [
            "current epoch: 142 current mean dice: 0.6663\n",
            "best mean dice: 0.6700 at epoch: 120\n"
          ]
        },
        {
          "output_type": "stream",
          "name": "stderr",
          "text": [
            "Training Epochs:  24%|██▍       | 144/600 [12:24<40:31,  5.33s/it, loss=0.138]"
          ]
        },
        {
          "output_type": "stream",
          "name": "stdout",
          "text": [
            "current epoch: 144 current mean dice: 0.6395\n",
            "best mean dice: 0.6700 at epoch: 120\n"
          ]
        },
        {
          "output_type": "stream",
          "name": "stderr",
          "text": [
            "Training Epochs:  24%|██▍       | 146/600 [12:34<40:11,  5.31s/it, loss=0.146]"
          ]
        },
        {
          "output_type": "stream",
          "name": "stdout",
          "text": [
            "current epoch: 146 current mean dice: 0.6530\n",
            "best mean dice: 0.6700 at epoch: 120\n"
          ]
        },
        {
          "output_type": "stream",
          "name": "stderr",
          "text": [
            "Training Epochs:  25%|██▍       | 148/600 [12:45<40:07,  5.33s/it, loss=0.127]"
          ]
        },
        {
          "output_type": "stream",
          "name": "stdout",
          "text": [
            "current epoch: 148 current mean dice: 0.5077\n",
            "best mean dice: 0.6700 at epoch: 120\n"
          ]
        },
        {
          "output_type": "stream",
          "name": "stderr",
          "text": [
            "Training Epochs:  25%|██▌       | 150/600 [12:55<39:31,  5.27s/it, loss=0.139]"
          ]
        },
        {
          "output_type": "stream",
          "name": "stdout",
          "text": [
            "saved new best metric model\n",
            "current epoch: 150 current mean dice: 0.6996\n",
            "best mean dice: 0.6996 at epoch: 150\n"
          ]
        },
        {
          "output_type": "stream",
          "name": "stderr",
          "text": [
            "Training Epochs:  25%|██▌       | 152/600 [13:05<39:27,  5.29s/it, loss=0.118]"
          ]
        },
        {
          "output_type": "stream",
          "name": "stdout",
          "text": [
            "current epoch: 152 current mean dice: 0.6495\n",
            "best mean dice: 0.6996 at epoch: 150\n"
          ]
        },
        {
          "output_type": "stream",
          "name": "stderr",
          "text": [
            "Training Epochs:  26%|██▌       | 154/600 [13:15<38:43,  5.21s/it, loss=0.129]"
          ]
        },
        {
          "output_type": "stream",
          "name": "stdout",
          "text": [
            "current epoch: 154 current mean dice: 0.6810\n",
            "best mean dice: 0.6996 at epoch: 150\n"
          ]
        },
        {
          "output_type": "stream",
          "name": "stderr",
          "text": [
            "Training Epochs:  26%|██▌       | 156/600 [13:26<38:33,  5.21s/it, loss=0.118]"
          ]
        },
        {
          "output_type": "stream",
          "name": "stdout",
          "text": [
            "current epoch: 156 current mean dice: 0.6298\n",
            "best mean dice: 0.6996 at epoch: 150\n"
          ]
        },
        {
          "output_type": "stream",
          "name": "stderr",
          "text": [
            "Training Epochs:  26%|██▋       | 158/600 [13:36<39:00,  5.29s/it, loss=0.123]"
          ]
        },
        {
          "output_type": "stream",
          "name": "stdout",
          "text": [
            "current epoch: 158 current mean dice: 0.5102\n",
            "best mean dice: 0.6996 at epoch: 150\n"
          ]
        },
        {
          "output_type": "stream",
          "name": "stderr",
          "text": [
            "Training Epochs:  27%|██▋       | 160/600 [13:46<38:49,  5.30s/it, loss=0.119]"
          ]
        },
        {
          "output_type": "stream",
          "name": "stdout",
          "text": [
            "current epoch: 160 current mean dice: 0.5952\n",
            "best mean dice: 0.6996 at epoch: 150\n"
          ]
        },
        {
          "output_type": "stream",
          "name": "stderr",
          "text": [
            "Training Epochs:  27%|██▋       | 162/600 [13:56<37:40,  5.16s/it, loss=0.123]"
          ]
        },
        {
          "output_type": "stream",
          "name": "stdout",
          "text": [
            "current epoch: 162 current mean dice: 0.6551\n",
            "best mean dice: 0.6996 at epoch: 150\n"
          ]
        },
        {
          "output_type": "stream",
          "name": "stderr",
          "text": [
            "Training Epochs:  27%|██▋       | 164/600 [14:07<38:11,  5.26s/it, loss=0.103]"
          ]
        },
        {
          "output_type": "stream",
          "name": "stdout",
          "text": [
            "current epoch: 164 current mean dice: 0.6787\n",
            "best mean dice: 0.6996 at epoch: 150\n"
          ]
        },
        {
          "output_type": "stream",
          "name": "stderr",
          "text": [
            "Training Epochs:  28%|██▊       | 166/600 [14:17<38:51,  5.37s/it, loss=0.126]"
          ]
        },
        {
          "output_type": "stream",
          "name": "stdout",
          "text": [
            "current epoch: 166 current mean dice: 0.6901\n",
            "best mean dice: 0.6996 at epoch: 150\n"
          ]
        },
        {
          "output_type": "stream",
          "name": "stderr",
          "text": [
            "Training Epochs:  28%|██▊       | 168/600 [14:28<38:37,  5.36s/it, loss=0.125]"
          ]
        },
        {
          "output_type": "stream",
          "name": "stdout",
          "text": [
            "current epoch: 168 current mean dice: 0.6451\n",
            "best mean dice: 0.6996 at epoch: 150\n"
          ]
        },
        {
          "output_type": "stream",
          "name": "stderr",
          "text": [
            "Training Epochs:  28%|██▊       | 170/600 [14:39<39:16,  5.48s/it, loss=0.101]"
          ]
        },
        {
          "output_type": "stream",
          "name": "stdout",
          "text": [
            "current epoch: 170 current mean dice: 0.6264\n",
            "best mean dice: 0.6996 at epoch: 150\n"
          ]
        },
        {
          "output_type": "stream",
          "name": "stderr",
          "text": [
            "Training Epochs:  29%|██▊       | 172/600 [14:49<38:26,  5.39s/it, loss=0.101]"
          ]
        },
        {
          "output_type": "stream",
          "name": "stdout",
          "text": [
            "current epoch: 172 current mean dice: 0.6449\n",
            "best mean dice: 0.6996 at epoch: 150\n"
          ]
        },
        {
          "output_type": "stream",
          "name": "stderr",
          "text": [
            "Training Epochs:  29%|██▉       | 174/600 [15:00<38:36,  5.44s/it, loss=0.093]"
          ]
        },
        {
          "output_type": "stream",
          "name": "stdout",
          "text": [
            "current epoch: 174 current mean dice: 0.6662\n",
            "best mean dice: 0.6996 at epoch: 150\n"
          ]
        },
        {
          "output_type": "stream",
          "name": "stderr",
          "text": [
            "Training Epochs:  29%|██▉       | 176/600 [15:10<37:43,  5.34s/it, loss=0.113]"
          ]
        },
        {
          "output_type": "stream",
          "name": "stdout",
          "text": [
            "current epoch: 176 current mean dice: 0.6192\n",
            "best mean dice: 0.6996 at epoch: 150\n"
          ]
        },
        {
          "output_type": "stream",
          "name": "stderr",
          "text": [
            "Training Epochs:  30%|██▉       | 178/600 [15:20<36:52,  5.24s/it, loss=0.106]"
          ]
        },
        {
          "output_type": "stream",
          "name": "stdout",
          "text": [
            "current epoch: 178 current mean dice: 0.1434\n",
            "best mean dice: 0.6996 at epoch: 150\n"
          ]
        },
        {
          "output_type": "stream",
          "name": "stderr",
          "text": [
            "Training Epochs:  30%|███       | 180/600 [15:30<36:50,  5.26s/it, loss=0.112]"
          ]
        },
        {
          "output_type": "stream",
          "name": "stdout",
          "text": [
            "current epoch: 180 current mean dice: 0.5843\n",
            "best mean dice: 0.6996 at epoch: 150\n"
          ]
        },
        {
          "output_type": "stream",
          "name": "stderr",
          "text": [
            "Training Epochs:  30%|███       | 182/600 [15:41<37:26,  5.37s/it, loss=0.0995]"
          ]
        },
        {
          "output_type": "stream",
          "name": "stdout",
          "text": [
            "current epoch: 182 current mean dice: 0.5964\n",
            "best mean dice: 0.6996 at epoch: 150\n"
          ]
        },
        {
          "output_type": "stream",
          "name": "stderr",
          "text": [
            "Training Epochs:  31%|███       | 184/600 [15:51<37:05,  5.35s/it, loss=0.11]"
          ]
        },
        {
          "output_type": "stream",
          "name": "stdout",
          "text": [
            "current epoch: 184 current mean dice: 0.6492\n",
            "best mean dice: 0.6996 at epoch: 150\n"
          ]
        },
        {
          "output_type": "stream",
          "name": "stderr",
          "text": [
            "Training Epochs:  31%|███       | 186/600 [16:02<37:29,  5.43s/it, loss=0.0983]"
          ]
        },
        {
          "output_type": "stream",
          "name": "stdout",
          "text": [
            "current epoch: 186 current mean dice: 0.5900\n",
            "best mean dice: 0.6996 at epoch: 150\n"
          ]
        },
        {
          "output_type": "stream",
          "name": "stderr",
          "text": [
            "Training Epochs:  31%|███▏      | 188/600 [16:13<37:05,  5.40s/it, loss=0.0962]"
          ]
        },
        {
          "output_type": "stream",
          "name": "stdout",
          "text": [
            "current epoch: 188 current mean dice: 0.5030\n",
            "best mean dice: 0.6996 at epoch: 150\n"
          ]
        },
        {
          "output_type": "stream",
          "name": "stderr",
          "text": [
            "Training Epochs:  32%|███▏      | 190/600 [16:23<37:01,  5.42s/it, loss=0.094]"
          ]
        },
        {
          "output_type": "stream",
          "name": "stdout",
          "text": [
            "current epoch: 190 current mean dice: 0.5077\n",
            "best mean dice: 0.6996 at epoch: 150\n"
          ]
        },
        {
          "output_type": "stream",
          "name": "stderr",
          "text": [
            "Training Epochs:  32%|███▏      | 192/600 [16:34<36:28,  5.36s/it, loss=0.097]"
          ]
        },
        {
          "output_type": "stream",
          "name": "stdout",
          "text": [
            "current epoch: 192 current mean dice: 0.5054\n",
            "best mean dice: 0.6996 at epoch: 150\n"
          ]
        },
        {
          "output_type": "stream",
          "name": "stderr",
          "text": [
            "Training Epochs:  32%|███▏      | 194/600 [16:44<36:04,  5.33s/it, loss=0.121]"
          ]
        },
        {
          "output_type": "stream",
          "name": "stdout",
          "text": [
            "current epoch: 194 current mean dice: 0.4874\n",
            "best mean dice: 0.6996 at epoch: 150\n"
          ]
        },
        {
          "output_type": "stream",
          "name": "stderr",
          "text": [
            "Training Epochs:  33%|███▎      | 196/600 [16:54<35:25,  5.26s/it, loss=0.0883]"
          ]
        },
        {
          "output_type": "stream",
          "name": "stdout",
          "text": [
            "current epoch: 196 current mean dice: 0.5480\n",
            "best mean dice: 0.6996 at epoch: 150\n"
          ]
        },
        {
          "output_type": "stream",
          "name": "stderr",
          "text": [
            "Training Epochs:  33%|███▎      | 198/600 [17:04<35:04,  5.23s/it, loss=0.0931]"
          ]
        },
        {
          "output_type": "stream",
          "name": "stdout",
          "text": [
            "current epoch: 198 current mean dice: 0.5938\n",
            "best mean dice: 0.6996 at epoch: 150\n"
          ]
        },
        {
          "output_type": "stream",
          "name": "stderr",
          "text": [
            "Training Epochs:  33%|███▎      | 200/600 [17:14<34:25,  5.16s/it, loss=0.0895]"
          ]
        },
        {
          "output_type": "stream",
          "name": "stdout",
          "text": [
            "current epoch: 200 current mean dice: 0.5294\n",
            "best mean dice: 0.6996 at epoch: 150\n"
          ]
        },
        {
          "output_type": "stream",
          "name": "stderr",
          "text": [
            "Training Epochs:  34%|███▎      | 202/600 [17:25<34:50,  5.25s/it, loss=0.0911]"
          ]
        },
        {
          "output_type": "stream",
          "name": "stdout",
          "text": [
            "current epoch: 202 current mean dice: 0.6204\n",
            "best mean dice: 0.6996 at epoch: 150\n"
          ]
        },
        {
          "output_type": "stream",
          "name": "stderr",
          "text": [
            "Training Epochs:  34%|███▍      | 204/600 [17:35<35:16,  5.35s/it, loss=0.0947]"
          ]
        },
        {
          "output_type": "stream",
          "name": "stdout",
          "text": [
            "current epoch: 204 current mean dice: 0.5928\n",
            "best mean dice: 0.6996 at epoch: 150\n"
          ]
        },
        {
          "output_type": "stream",
          "name": "stderr",
          "text": [
            "Training Epochs:  34%|███▍      | 206/600 [17:46<35:05,  5.34s/it, loss=0.0804]"
          ]
        },
        {
          "output_type": "stream",
          "name": "stdout",
          "text": [
            "current epoch: 206 current mean dice: 0.6663\n",
            "best mean dice: 0.6996 at epoch: 150\n"
          ]
        },
        {
          "output_type": "stream",
          "name": "stderr",
          "text": [
            "Training Epochs:  35%|███▍      | 208/600 [17:56<35:13,  5.39s/it, loss=0.0821]"
          ]
        },
        {
          "output_type": "stream",
          "name": "stdout",
          "text": [
            "current epoch: 208 current mean dice: 0.6361\n",
            "best mean dice: 0.6996 at epoch: 150\n"
          ]
        },
        {
          "output_type": "stream",
          "name": "stderr",
          "text": [
            "Training Epochs:  35%|███▌      | 210/600 [18:07<34:58,  5.38s/it, loss=0.0827]"
          ]
        },
        {
          "output_type": "stream",
          "name": "stdout",
          "text": [
            "current epoch: 210 current mean dice: 0.6612\n",
            "best mean dice: 0.6996 at epoch: 150\n"
          ]
        },
        {
          "output_type": "stream",
          "name": "stderr",
          "text": [
            "Training Epochs:  35%|███▌      | 212/600 [18:17<35:11,  5.44s/it, loss=0.0875]"
          ]
        },
        {
          "output_type": "stream",
          "name": "stdout",
          "text": [
            "current epoch: 212 current mean dice: 0.6251\n",
            "best mean dice: 0.6996 at epoch: 150\n"
          ]
        },
        {
          "output_type": "stream",
          "name": "stderr",
          "text": [
            "Training Epochs:  36%|███▌      | 214/600 [18:28<34:27,  5.36s/it, loss=0.0799]"
          ]
        },
        {
          "output_type": "stream",
          "name": "stdout",
          "text": [
            "current epoch: 214 current mean dice: 0.6073\n",
            "best mean dice: 0.6996 at epoch: 150\n"
          ]
        },
        {
          "output_type": "stream",
          "name": "stderr",
          "text": [
            "Training Epochs:  36%|███▌      | 216/600 [18:38<33:27,  5.23s/it, loss=0.0845]"
          ]
        },
        {
          "output_type": "stream",
          "name": "stdout",
          "text": [
            "current epoch: 216 current mean dice: 0.4954\n",
            "best mean dice: 0.6996 at epoch: 150\n"
          ]
        },
        {
          "output_type": "stream",
          "name": "stderr",
          "text": [
            "Training Epochs:  36%|███▋      | 218/600 [18:48<33:23,  5.24s/it, loss=0.0778]"
          ]
        },
        {
          "output_type": "stream",
          "name": "stdout",
          "text": [
            "current epoch: 218 current mean dice: 0.5813\n",
            "best mean dice: 0.6996 at epoch: 150\n"
          ]
        },
        {
          "output_type": "stream",
          "name": "stderr",
          "text": [
            "Training Epochs:  37%|███▋      | 220/600 [18:58<33:40,  5.32s/it, loss=0.0787]"
          ]
        },
        {
          "output_type": "stream",
          "name": "stdout",
          "text": [
            "current epoch: 220 current mean dice: 0.6244\n",
            "best mean dice: 0.6996 at epoch: 150\n"
          ]
        },
        {
          "output_type": "stream",
          "name": "stderr",
          "text": [
            "Training Epochs:  37%|███▋      | 222/600 [19:09<33:46,  5.36s/it, loss=0.0789]"
          ]
        },
        {
          "output_type": "stream",
          "name": "stdout",
          "text": [
            "current epoch: 222 current mean dice: 0.6558\n",
            "best mean dice: 0.6996 at epoch: 150\n"
          ]
        },
        {
          "output_type": "stream",
          "name": "stderr",
          "text": [
            "Training Epochs:  37%|███▋      | 224/600 [19:19<33:05,  5.28s/it, loss=0.0795]"
          ]
        },
        {
          "output_type": "stream",
          "name": "stdout",
          "text": [
            "current epoch: 224 current mean dice: 0.6668\n",
            "best mean dice: 0.6996 at epoch: 150\n"
          ]
        },
        {
          "output_type": "stream",
          "name": "stderr",
          "text": [
            "Training Epochs:  38%|███▊      | 226/600 [19:29<32:40,  5.24s/it, loss=0.0757]"
          ]
        },
        {
          "output_type": "stream",
          "name": "stdout",
          "text": [
            "current epoch: 226 current mean dice: 0.6627\n",
            "best mean dice: 0.6996 at epoch: 150\n"
          ]
        },
        {
          "output_type": "stream",
          "name": "stderr",
          "text": [
            "Training Epochs:  38%|███▊      | 228/600 [19:40<33:21,  5.38s/it, loss=0.0729]"
          ]
        },
        {
          "output_type": "stream",
          "name": "stdout",
          "text": [
            "current epoch: 228 current mean dice: 0.6677\n",
            "best mean dice: 0.6996 at epoch: 150\n"
          ]
        },
        {
          "output_type": "stream",
          "name": "stderr",
          "text": [
            "Training Epochs:  38%|███▊      | 230/600 [19:50<32:45,  5.31s/it, loss=0.0744]"
          ]
        },
        {
          "output_type": "stream",
          "name": "stdout",
          "text": [
            "current epoch: 230 current mean dice: 0.6784\n",
            "best mean dice: 0.6996 at epoch: 150\n"
          ]
        },
        {
          "output_type": "stream",
          "name": "stderr",
          "text": [
            "Training Epochs:  39%|███▊      | 232/600 [20:01<32:34,  5.31s/it, loss=0.074]"
          ]
        },
        {
          "output_type": "stream",
          "name": "stdout",
          "text": [
            "current epoch: 232 current mean dice: 0.6323\n",
            "best mean dice: 0.6996 at epoch: 150\n"
          ]
        },
        {
          "output_type": "stream",
          "name": "stderr",
          "text": [
            "Training Epochs:  39%|███▉      | 234/600 [20:11<32:11,  5.28s/it, loss=0.0759]"
          ]
        },
        {
          "output_type": "stream",
          "name": "stdout",
          "text": [
            "current epoch: 234 current mean dice: 0.6601\n",
            "best mean dice: 0.6996 at epoch: 150\n"
          ]
        },
        {
          "output_type": "stream",
          "name": "stderr",
          "text": [
            "Training Epochs:  39%|███▉      | 236/600 [20:21<31:37,  5.21s/it, loss=0.0766]"
          ]
        },
        {
          "output_type": "stream",
          "name": "stdout",
          "text": [
            "current epoch: 236 current mean dice: 0.5751\n",
            "best mean dice: 0.6996 at epoch: 150\n"
          ]
        },
        {
          "output_type": "stream",
          "name": "stderr",
          "text": [
            "Training Epochs:  40%|███▉      | 238/600 [20:31<31:26,  5.21s/it, loss=0.0728]"
          ]
        },
        {
          "output_type": "stream",
          "name": "stdout",
          "text": [
            "current epoch: 238 current mean dice: 0.5906\n",
            "best mean dice: 0.6996 at epoch: 150\n"
          ]
        },
        {
          "output_type": "stream",
          "name": "stderr",
          "text": [
            "Training Epochs:  40%|████      | 240/600 [20:41<31:18,  5.22s/it, loss=0.0766]"
          ]
        },
        {
          "output_type": "stream",
          "name": "stdout",
          "text": [
            "current epoch: 240 current mean dice: 0.6222\n",
            "best mean dice: 0.6996 at epoch: 150\n"
          ]
        },
        {
          "output_type": "stream",
          "name": "stderr",
          "text": [
            "Training Epochs:  40%|████      | 242/600 [20:51<31:17,  5.24s/it, loss=0.0713]"
          ]
        },
        {
          "output_type": "stream",
          "name": "stdout",
          "text": [
            "current epoch: 242 current mean dice: 0.6421\n",
            "best mean dice: 0.6996 at epoch: 150\n"
          ]
        },
        {
          "output_type": "stream",
          "name": "stderr",
          "text": [
            "Training Epochs:  41%|████      | 244/600 [21:02<31:09,  5.25s/it, loss=0.0708]"
          ]
        },
        {
          "output_type": "stream",
          "name": "stdout",
          "text": [
            "current epoch: 244 current mean dice: 0.6213\n",
            "best mean dice: 0.6996 at epoch: 150\n"
          ]
        },
        {
          "output_type": "stream",
          "name": "stderr",
          "text": [
            "Training Epochs:  41%|████      | 246/600 [21:12<31:56,  5.41s/it, loss=0.074]"
          ]
        },
        {
          "output_type": "stream",
          "name": "stdout",
          "text": [
            "current epoch: 246 current mean dice: 0.5817\n",
            "best mean dice: 0.6996 at epoch: 150\n"
          ]
        },
        {
          "output_type": "stream",
          "name": "stderr",
          "text": [
            "Training Epochs:  41%|████▏     | 248/600 [21:23<31:23,  5.35s/it, loss=0.0734]"
          ]
        },
        {
          "output_type": "stream",
          "name": "stdout",
          "text": [
            "current epoch: 248 current mean dice: 0.6503\n",
            "best mean dice: 0.6996 at epoch: 150\n"
          ]
        },
        {
          "output_type": "stream",
          "name": "stderr",
          "text": [
            "Training Epochs:  42%|████▏     | 250/600 [21:34<31:43,  5.44s/it, loss=0.073]"
          ]
        },
        {
          "output_type": "stream",
          "name": "stdout",
          "text": [
            "current epoch: 250 current mean dice: 0.6210\n",
            "best mean dice: 0.6996 at epoch: 150\n"
          ]
        },
        {
          "output_type": "stream",
          "name": "stderr",
          "text": [
            "Training Epochs:  42%|████▏     | 252/600 [21:44<30:48,  5.31s/it, loss=0.0713]"
          ]
        },
        {
          "output_type": "stream",
          "name": "stdout",
          "text": [
            "current epoch: 252 current mean dice: 0.6093\n",
            "best mean dice: 0.6996 at epoch: 150\n"
          ]
        },
        {
          "output_type": "stream",
          "name": "stderr",
          "text": [
            "Training Epochs:  42%|████▏     | 254/600 [21:54<30:08,  5.23s/it, loss=0.0743]"
          ]
        },
        {
          "output_type": "stream",
          "name": "stdout",
          "text": [
            "current epoch: 254 current mean dice: 0.6384\n",
            "best mean dice: 0.6996 at epoch: 150\n"
          ]
        },
        {
          "output_type": "stream",
          "name": "stderr",
          "text": [
            "Training Epochs:  43%|████▎     | 256/600 [22:04<30:31,  5.32s/it, loss=0.0981]"
          ]
        },
        {
          "output_type": "stream",
          "name": "stdout",
          "text": [
            "current epoch: 256 current mean dice: 0.6021\n",
            "best mean dice: 0.6996 at epoch: 150\n"
          ]
        },
        {
          "output_type": "stream",
          "name": "stderr",
          "text": [
            "Training Epochs:  43%|████▎     | 258/600 [22:15<30:40,  5.38s/it, loss=0.0685]"
          ]
        },
        {
          "output_type": "stream",
          "name": "stdout",
          "text": [
            "current epoch: 258 current mean dice: 0.6525\n",
            "best mean dice: 0.6996 at epoch: 150\n"
          ]
        },
        {
          "output_type": "stream",
          "name": "stderr",
          "text": [
            "Training Epochs:  43%|████▎     | 260/600 [22:25<29:58,  5.29s/it, loss=0.0697]"
          ]
        },
        {
          "output_type": "stream",
          "name": "stdout",
          "text": [
            "current epoch: 260 current mean dice: 0.6689\n",
            "best mean dice: 0.6996 at epoch: 150\n"
          ]
        },
        {
          "output_type": "stream",
          "name": "stderr",
          "text": [
            "Training Epochs:  44%|████▎     | 262/600 [22:35<29:19,  5.21s/it, loss=0.0675]"
          ]
        },
        {
          "output_type": "stream",
          "name": "stdout",
          "text": [
            "current epoch: 262 current mean dice: 0.6864\n",
            "best mean dice: 0.6996 at epoch: 150\n"
          ]
        },
        {
          "output_type": "stream",
          "name": "stderr",
          "text": [
            "Training Epochs:  44%|████▍     | 264/600 [22:45<29:02,  5.18s/it, loss=0.0703]"
          ]
        },
        {
          "output_type": "stream",
          "name": "stdout",
          "text": [
            "current epoch: 264 current mean dice: 0.6613\n",
            "best mean dice: 0.6996 at epoch: 150\n"
          ]
        },
        {
          "output_type": "stream",
          "name": "stderr",
          "text": [
            "Training Epochs:  44%|████▍     | 266/600 [22:56<29:30,  5.30s/it, loss=0.0735]"
          ]
        },
        {
          "output_type": "stream",
          "name": "stdout",
          "text": [
            "current epoch: 266 current mean dice: 0.6610\n",
            "best mean dice: 0.6996 at epoch: 150\n"
          ]
        },
        {
          "output_type": "stream",
          "name": "stderr",
          "text": [
            "Training Epochs:  45%|████▍     | 268/600 [23:06<29:17,  5.29s/it, loss=0.0689]"
          ]
        },
        {
          "output_type": "stream",
          "name": "stdout",
          "text": [
            "current epoch: 268 current mean dice: 0.6484\n",
            "best mean dice: 0.6996 at epoch: 150\n"
          ]
        },
        {
          "output_type": "stream",
          "name": "stderr",
          "text": [
            "Training Epochs:  45%|████▌     | 270/600 [23:16<28:55,  5.26s/it, loss=0.0667]"
          ]
        },
        {
          "output_type": "stream",
          "name": "stdout",
          "text": [
            "current epoch: 270 current mean dice: 0.6525\n",
            "best mean dice: 0.6996 at epoch: 150\n"
          ]
        },
        {
          "output_type": "stream",
          "name": "stderr",
          "text": [
            "Training Epochs:  45%|████▌     | 272/600 [23:26<28:32,  5.22s/it, loss=0.067]"
          ]
        },
        {
          "output_type": "stream",
          "name": "stdout",
          "text": [
            "current epoch: 272 current mean dice: 0.6482\n",
            "best mean dice: 0.6996 at epoch: 150\n"
          ]
        },
        {
          "output_type": "stream",
          "name": "stderr",
          "text": [
            "Training Epochs:  46%|████▌     | 274/600 [23:37<28:24,  5.23s/it, loss=0.0653]"
          ]
        },
        {
          "output_type": "stream",
          "name": "stdout",
          "text": [
            "current epoch: 274 current mean dice: 0.6341\n",
            "best mean dice: 0.6996 at epoch: 150\n"
          ]
        },
        {
          "output_type": "stream",
          "name": "stderr",
          "text": [
            "Training Epochs:  46%|████▌     | 276/600 [23:47<28:19,  5.24s/it, loss=0.0693]"
          ]
        },
        {
          "output_type": "stream",
          "name": "stdout",
          "text": [
            "current epoch: 276 current mean dice: 0.6211\n",
            "best mean dice: 0.6996 at epoch: 150\n"
          ]
        },
        {
          "output_type": "stream",
          "name": "stderr",
          "text": [
            "Training Epochs:  46%|████▋     | 278/600 [23:57<28:10,  5.25s/it, loss=0.067]"
          ]
        },
        {
          "output_type": "stream",
          "name": "stdout",
          "text": [
            "current epoch: 278 current mean dice: 0.6685\n",
            "best mean dice: 0.6996 at epoch: 150\n"
          ]
        },
        {
          "output_type": "stream",
          "name": "stderr",
          "text": [
            "Training Epochs:  47%|████▋     | 280/600 [24:08<28:25,  5.33s/it, loss=0.0657]"
          ]
        },
        {
          "output_type": "stream",
          "name": "stdout",
          "text": [
            "current epoch: 280 current mean dice: 0.6813\n",
            "best mean dice: 0.6996 at epoch: 150\n"
          ]
        },
        {
          "output_type": "stream",
          "name": "stderr",
          "text": [
            "Training Epochs:  47%|████▋     | 282/600 [24:20<31:52,  6.01s/it, loss=0.0686]"
          ]
        },
        {
          "output_type": "stream",
          "name": "stdout",
          "text": [
            "current epoch: 282 current mean dice: 0.6274\n",
            "best mean dice: 0.6996 at epoch: 150\n"
          ]
        },
        {
          "output_type": "stream",
          "name": "stderr",
          "text": [
            "Training Epochs:  47%|████▋     | 284/600 [24:31<29:56,  5.69s/it, loss=0.0713]"
          ]
        },
        {
          "output_type": "stream",
          "name": "stdout",
          "text": [
            "current epoch: 284 current mean dice: 0.6629\n",
            "best mean dice: 0.6996 at epoch: 150\n"
          ]
        },
        {
          "output_type": "stream",
          "name": "stderr",
          "text": [
            "Training Epochs:  48%|████▊     | 286/600 [24:41<28:54,  5.53s/it, loss=0.0627]"
          ]
        },
        {
          "output_type": "stream",
          "name": "stdout",
          "text": [
            "current epoch: 286 current mean dice: 0.6703\n",
            "best mean dice: 0.6996 at epoch: 150\n"
          ]
        },
        {
          "output_type": "stream",
          "name": "stderr",
          "text": [
            "Training Epochs:  48%|████▊     | 288/600 [24:52<28:14,  5.43s/it, loss=0.0664]"
          ]
        },
        {
          "output_type": "stream",
          "name": "stdout",
          "text": [
            "current epoch: 288 current mean dice: 0.6864\n",
            "best mean dice: 0.6996 at epoch: 150\n"
          ]
        },
        {
          "output_type": "stream",
          "name": "stderr",
          "text": [
            "Training Epochs:  48%|████▊     | 290/600 [25:02<27:35,  5.34s/it, loss=0.0674]"
          ]
        },
        {
          "output_type": "stream",
          "name": "stdout",
          "text": [
            "current epoch: 290 current mean dice: 0.6643\n",
            "best mean dice: 0.6996 at epoch: 150\n"
          ]
        },
        {
          "output_type": "stream",
          "name": "stderr",
          "text": [
            "Training Epochs:  49%|████▊     | 292/600 [25:12<26:53,  5.24s/it, loss=0.066]"
          ]
        },
        {
          "output_type": "stream",
          "name": "stdout",
          "text": [
            "current epoch: 292 current mean dice: 0.6425\n",
            "best mean dice: 0.6996 at epoch: 150\n"
          ]
        },
        {
          "output_type": "stream",
          "name": "stderr",
          "text": [
            "Training Epochs:  49%|████▉     | 294/600 [25:22<26:47,  5.25s/it, loss=0.0648]"
          ]
        },
        {
          "output_type": "stream",
          "name": "stdout",
          "text": [
            "current epoch: 294 current mean dice: 0.6797\n",
            "best mean dice: 0.6996 at epoch: 150\n"
          ]
        },
        {
          "output_type": "stream",
          "name": "stderr",
          "text": [
            "Training Epochs:  49%|████▉     | 296/600 [25:32<26:24,  5.21s/it, loss=0.0648]"
          ]
        },
        {
          "output_type": "stream",
          "name": "stdout",
          "text": [
            "current epoch: 296 current mean dice: 0.6315\n",
            "best mean dice: 0.6996 at epoch: 150\n"
          ]
        },
        {
          "output_type": "stream",
          "name": "stderr",
          "text": [
            "Training Epochs:  50%|████▉     | 298/600 [25:42<25:54,  5.15s/it, loss=0.06]"
          ]
        },
        {
          "output_type": "stream",
          "name": "stdout",
          "text": [
            "current epoch: 298 current mean dice: 0.6431\n",
            "best mean dice: 0.6996 at epoch: 150\n"
          ]
        },
        {
          "output_type": "stream",
          "name": "stderr",
          "text": [
            "Training Epochs:  50%|█████     | 300/600 [25:52<25:52,  5.18s/it, loss=0.0616]"
          ]
        },
        {
          "output_type": "stream",
          "name": "stdout",
          "text": [
            "current epoch: 300 current mean dice: 0.6284\n",
            "best mean dice: 0.6996 at epoch: 150\n"
          ]
        },
        {
          "output_type": "stream",
          "name": "stderr",
          "text": [
            "Training Epochs:  50%|█████     | 302/600 [26:03<26:14,  5.28s/it, loss=0.0896]"
          ]
        },
        {
          "output_type": "stream",
          "name": "stdout",
          "text": [
            "current epoch: 302 current mean dice: 0.6635\n",
            "best mean dice: 0.6996 at epoch: 150\n"
          ]
        },
        {
          "output_type": "stream",
          "name": "stderr",
          "text": [
            "Training Epochs:  51%|█████     | 304/600 [26:13<26:01,  5.28s/it, loss=0.0612]"
          ]
        },
        {
          "output_type": "stream",
          "name": "stdout",
          "text": [
            "current epoch: 304 current mean dice: 0.6850\n",
            "best mean dice: 0.6996 at epoch: 150\n"
          ]
        },
        {
          "output_type": "stream",
          "name": "stderr",
          "text": [
            "Training Epochs:  51%|█████     | 306/600 [26:23<25:25,  5.19s/it, loss=0.0651]"
          ]
        },
        {
          "output_type": "stream",
          "name": "stdout",
          "text": [
            "current epoch: 306 current mean dice: 0.6304\n",
            "best mean dice: 0.6996 at epoch: 150\n"
          ]
        },
        {
          "output_type": "stream",
          "name": "stderr",
          "text": [
            "Training Epochs:  51%|█████▏    | 308/600 [26:33<25:29,  5.24s/it, loss=0.0622]"
          ]
        },
        {
          "output_type": "stream",
          "name": "stdout",
          "text": [
            "current epoch: 308 current mean dice: 0.6535\n",
            "best mean dice: 0.6996 at epoch: 150\n"
          ]
        },
        {
          "output_type": "stream",
          "name": "stderr",
          "text": [
            "Training Epochs:  52%|█████▏    | 310/600 [26:44<25:40,  5.31s/it, loss=0.0615]"
          ]
        },
        {
          "output_type": "stream",
          "name": "stdout",
          "text": [
            "current epoch: 310 current mean dice: 0.6521\n",
            "best mean dice: 0.6996 at epoch: 150\n"
          ]
        },
        {
          "output_type": "stream",
          "name": "stderr",
          "text": [
            "Training Epochs:  52%|█████▏    | 312/600 [26:54<25:04,  5.23s/it, loss=0.0654]"
          ]
        },
        {
          "output_type": "stream",
          "name": "stdout",
          "text": [
            "current epoch: 312 current mean dice: 0.6877\n",
            "best mean dice: 0.6996 at epoch: 150\n"
          ]
        },
        {
          "output_type": "stream",
          "name": "stderr",
          "text": [
            "Training Epochs:  52%|█████▏    | 314/600 [27:04<24:29,  5.14s/it, loss=0.0911]"
          ]
        },
        {
          "output_type": "stream",
          "name": "stdout",
          "text": [
            "current epoch: 314 current mean dice: 0.6296\n",
            "best mean dice: 0.6996 at epoch: 150\n"
          ]
        },
        {
          "output_type": "stream",
          "name": "stderr",
          "text": [
            "Training Epochs:  53%|█████▎    | 316/600 [27:14<24:33,  5.19s/it, loss=0.0675]"
          ]
        },
        {
          "output_type": "stream",
          "name": "stdout",
          "text": [
            "current epoch: 316 current mean dice: 0.6511\n",
            "best mean dice: 0.6996 at epoch: 150\n"
          ]
        },
        {
          "output_type": "stream",
          "name": "stderr",
          "text": [
            "Training Epochs:  53%|█████▎    | 318/600 [27:25<24:52,  5.29s/it, loss=0.0612]"
          ]
        },
        {
          "output_type": "stream",
          "name": "stdout",
          "text": [
            "current epoch: 318 current mean dice: 0.6477\n",
            "best mean dice: 0.6996 at epoch: 150\n"
          ]
        },
        {
          "output_type": "stream",
          "name": "stderr",
          "text": [
            "Training Epochs:  53%|█████▎    | 320/600 [27:35<24:16,  5.20s/it, loss=0.0653]"
          ]
        },
        {
          "output_type": "stream",
          "name": "stdout",
          "text": [
            "current epoch: 320 current mean dice: 0.6485\n",
            "best mean dice: 0.6996 at epoch: 150\n"
          ]
        },
        {
          "output_type": "stream",
          "name": "stderr",
          "text": [
            "Training Epochs:  54%|█████▎    | 322/600 [27:45<23:55,  5.16s/it, loss=0.0665]"
          ]
        },
        {
          "output_type": "stream",
          "name": "stdout",
          "text": [
            "current epoch: 322 current mean dice: 0.6278\n",
            "best mean dice: 0.6996 at epoch: 150\n"
          ]
        },
        {
          "output_type": "stream",
          "name": "stderr",
          "text": [
            "Training Epochs:  54%|█████▍    | 324/600 [27:55<24:39,  5.36s/it, loss=0.0631]"
          ]
        },
        {
          "output_type": "stream",
          "name": "stdout",
          "text": [
            "current epoch: 324 current mean dice: 0.6642\n",
            "best mean dice: 0.6996 at epoch: 150\n"
          ]
        },
        {
          "output_type": "stream",
          "name": "stderr",
          "text": [
            "Training Epochs:  54%|█████▍    | 326/600 [28:06<24:09,  5.29s/it, loss=0.061]"
          ]
        },
        {
          "output_type": "stream",
          "name": "stdout",
          "text": [
            "current epoch: 326 current mean dice: 0.6298\n",
            "best mean dice: 0.6996 at epoch: 150\n"
          ]
        },
        {
          "output_type": "stream",
          "name": "stderr",
          "text": [
            "Training Epochs:  55%|█████▍    | 328/600 [28:16<23:41,  5.23s/it, loss=0.0599]"
          ]
        },
        {
          "output_type": "stream",
          "name": "stdout",
          "text": [
            "current epoch: 328 current mean dice: 0.6425\n",
            "best mean dice: 0.6996 at epoch: 150\n"
          ]
        },
        {
          "output_type": "stream",
          "name": "stderr",
          "text": [
            "Training Epochs:  55%|█████▌    | 330/600 [28:26<23:46,  5.28s/it, loss=0.0612]"
          ]
        },
        {
          "output_type": "stream",
          "name": "stdout",
          "text": [
            "current epoch: 330 current mean dice: 0.6566\n",
            "best mean dice: 0.6996 at epoch: 150\n"
          ]
        },
        {
          "output_type": "stream",
          "name": "stderr",
          "text": [
            "Training Epochs:  55%|█████▌    | 332/600 [28:36<23:26,  5.25s/it, loss=0.062]"
          ]
        },
        {
          "output_type": "stream",
          "name": "stdout",
          "text": [
            "current epoch: 332 current mean dice: 0.6311\n",
            "best mean dice: 0.6996 at epoch: 150\n"
          ]
        },
        {
          "output_type": "stream",
          "name": "stderr",
          "text": [
            "Training Epochs:  56%|█████▌    | 334/600 [28:46<22:51,  5.16s/it, loss=0.0694]"
          ]
        },
        {
          "output_type": "stream",
          "name": "stdout",
          "text": [
            "current epoch: 334 current mean dice: 0.6356\n",
            "best mean dice: 0.6996 at epoch: 150\n"
          ]
        },
        {
          "output_type": "stream",
          "name": "stderr",
          "text": [
            "Training Epochs:  56%|█████▌    | 336/600 [28:56<22:59,  5.23s/it, loss=0.0617]"
          ]
        },
        {
          "output_type": "stream",
          "name": "stdout",
          "text": [
            "current epoch: 336 current mean dice: 0.6252\n",
            "best mean dice: 0.6996 at epoch: 150\n"
          ]
        },
        {
          "output_type": "stream",
          "name": "stderr",
          "text": [
            "Training Epochs:  56%|█████▋    | 338/600 [29:07<23:00,  5.27s/it, loss=0.0597]"
          ]
        },
        {
          "output_type": "stream",
          "name": "stdout",
          "text": [
            "current epoch: 338 current mean dice: 0.5744\n",
            "best mean dice: 0.6996 at epoch: 150\n"
          ]
        },
        {
          "output_type": "stream",
          "name": "stderr",
          "text": [
            "Training Epochs:  57%|█████▋    | 340/600 [29:17<22:45,  5.25s/it, loss=0.0585]"
          ]
        },
        {
          "output_type": "stream",
          "name": "stdout",
          "text": [
            "current epoch: 340 current mean dice: 0.6021\n",
            "best mean dice: 0.6996 at epoch: 150\n"
          ]
        },
        {
          "output_type": "stream",
          "name": "stderr",
          "text": [
            "Training Epochs:  57%|█████▋    | 342/600 [29:27<21:55,  5.10s/it, loss=0.0595]"
          ]
        },
        {
          "output_type": "stream",
          "name": "stdout",
          "text": [
            "current epoch: 342 current mean dice: 0.6551\n",
            "best mean dice: 0.6996 at epoch: 150\n"
          ]
        },
        {
          "output_type": "stream",
          "name": "stderr",
          "text": [
            "Training Epochs:  57%|█████▋    | 344/600 [29:37<22:08,  5.19s/it, loss=0.0593]"
          ]
        },
        {
          "output_type": "stream",
          "name": "stdout",
          "text": [
            "current epoch: 344 current mean dice: 0.6671\n",
            "best mean dice: 0.6996 at epoch: 150\n"
          ]
        },
        {
          "output_type": "stream",
          "name": "stderr",
          "text": [
            "Training Epochs:  58%|█████▊    | 346/600 [29:48<22:29,  5.31s/it, loss=0.0594]"
          ]
        },
        {
          "output_type": "stream",
          "name": "stdout",
          "text": [
            "current epoch: 346 current mean dice: 0.6099\n",
            "best mean dice: 0.6996 at epoch: 150\n"
          ]
        },
        {
          "output_type": "stream",
          "name": "stderr",
          "text": [
            "Training Epochs:  58%|█████▊    | 348/600 [29:58<22:21,  5.32s/it, loss=0.0594]"
          ]
        },
        {
          "output_type": "stream",
          "name": "stdout",
          "text": [
            "current epoch: 348 current mean dice: 0.6564\n",
            "best mean dice: 0.6996 at epoch: 150\n"
          ]
        },
        {
          "output_type": "stream",
          "name": "stderr",
          "text": [
            "Training Epochs:  58%|█████▊    | 350/600 [30:08<21:49,  5.24s/it, loss=0.0579]"
          ]
        },
        {
          "output_type": "stream",
          "name": "stdout",
          "text": [
            "current epoch: 350 current mean dice: 0.6692\n",
            "best mean dice: 0.6996 at epoch: 150\n"
          ]
        },
        {
          "output_type": "stream",
          "name": "stderr",
          "text": [
            "Training Epochs:  59%|█████▊    | 352/600 [30:18<21:30,  5.20s/it, loss=0.0862]"
          ]
        },
        {
          "output_type": "stream",
          "name": "stdout",
          "text": [
            "current epoch: 352 current mean dice: 0.6722\n",
            "best mean dice: 0.6996 at epoch: 150\n"
          ]
        },
        {
          "output_type": "stream",
          "name": "stderr",
          "text": [
            "Training Epochs:  59%|█████▉    | 354/600 [30:29<21:37,  5.28s/it, loss=0.0564]"
          ]
        },
        {
          "output_type": "stream",
          "name": "stdout",
          "text": [
            "current epoch: 354 current mean dice: 0.6613\n",
            "best mean dice: 0.6996 at epoch: 150\n"
          ]
        },
        {
          "output_type": "stream",
          "name": "stderr",
          "text": [
            "Training Epochs:  59%|█████▉    | 356/600 [30:39<21:27,  5.28s/it, loss=0.0567]"
          ]
        },
        {
          "output_type": "stream",
          "name": "stdout",
          "text": [
            "current epoch: 356 current mean dice: 0.6796\n",
            "best mean dice: 0.6996 at epoch: 150\n"
          ]
        },
        {
          "output_type": "stream",
          "name": "stderr",
          "text": [
            "Training Epochs:  60%|█████▉    | 358/600 [30:49<21:03,  5.22s/it, loss=0.057]"
          ]
        },
        {
          "output_type": "stream",
          "name": "stdout",
          "text": [
            "current epoch: 358 current mean dice: 0.6781\n",
            "best mean dice: 0.6996 at epoch: 150\n"
          ]
        },
        {
          "output_type": "stream",
          "name": "stderr",
          "text": [
            "Training Epochs:  60%|██████    | 360/600 [30:59<21:10,  5.29s/it, loss=0.0587]"
          ]
        },
        {
          "output_type": "stream",
          "name": "stdout",
          "text": [
            "current epoch: 360 current mean dice: 0.6956\n",
            "best mean dice: 0.6996 at epoch: 150\n"
          ]
        },
        {
          "output_type": "stream",
          "name": "stderr",
          "text": [
            "Training Epochs:  60%|██████    | 362/600 [31:10<21:06,  5.32s/it, loss=0.0566]"
          ]
        },
        {
          "output_type": "stream",
          "name": "stdout",
          "text": [
            "current epoch: 362 current mean dice: 0.6835\n",
            "best mean dice: 0.6996 at epoch: 150\n"
          ]
        },
        {
          "output_type": "stream",
          "name": "stderr",
          "text": [
            "Training Epochs:  61%|██████    | 364/600 [31:20<21:04,  5.36s/it, loss=0.0557]"
          ]
        },
        {
          "output_type": "stream",
          "name": "stdout",
          "text": [
            "current epoch: 364 current mean dice: 0.6584\n",
            "best mean dice: 0.6996 at epoch: 150\n"
          ]
        },
        {
          "output_type": "stream",
          "name": "stderr",
          "text": [
            "Training Epochs:  61%|██████    | 366/600 [31:31<20:49,  5.34s/it, loss=0.0583]"
          ]
        },
        {
          "output_type": "stream",
          "name": "stdout",
          "text": [
            "current epoch: 366 current mean dice: 0.6853\n",
            "best mean dice: 0.6996 at epoch: 150\n"
          ]
        },
        {
          "output_type": "stream",
          "name": "stderr",
          "text": [
            "Training Epochs:  61%|██████▏   | 368/600 [31:41<20:47,  5.38s/it, loss=0.0544]"
          ]
        },
        {
          "output_type": "stream",
          "name": "stdout",
          "text": [
            "current epoch: 368 current mean dice: 0.6344\n",
            "best mean dice: 0.6996 at epoch: 150\n"
          ]
        },
        {
          "output_type": "stream",
          "name": "stderr",
          "text": [
            "Training Epochs:  62%|██████▏   | 370/600 [31:51<20:16,  5.29s/it, loss=0.0542]"
          ]
        },
        {
          "output_type": "stream",
          "name": "stdout",
          "text": [
            "current epoch: 370 current mean dice: 0.6696\n",
            "best mean dice: 0.6996 at epoch: 150\n"
          ]
        },
        {
          "output_type": "stream",
          "name": "stderr",
          "text": [
            "Training Epochs:  62%|██████▏   | 372/600 [32:01<19:49,  5.22s/it, loss=0.0595]"
          ]
        },
        {
          "output_type": "stream",
          "name": "stdout",
          "text": [
            "current epoch: 372 current mean dice: 0.6663\n",
            "best mean dice: 0.6996 at epoch: 150\n"
          ]
        },
        {
          "output_type": "stream",
          "name": "stderr",
          "text": [
            "Training Epochs:  62%|██████▏   | 374/600 [32:12<19:51,  5.27s/it, loss=0.0574]"
          ]
        },
        {
          "output_type": "stream",
          "name": "stdout",
          "text": [
            "current epoch: 374 current mean dice: 0.6774\n",
            "best mean dice: 0.6996 at epoch: 150\n"
          ]
        },
        {
          "output_type": "stream",
          "name": "stderr",
          "text": [
            "Training Epochs:  63%|██████▎   | 376/600 [32:22<19:56,  5.34s/it, loss=0.0583]"
          ]
        },
        {
          "output_type": "stream",
          "name": "stdout",
          "text": [
            "current epoch: 376 current mean dice: 0.5509\n",
            "best mean dice: 0.6996 at epoch: 150\n"
          ]
        },
        {
          "output_type": "stream",
          "name": "stderr",
          "text": [
            "Training Epochs:  63%|██████▎   | 378/600 [32:33<19:28,  5.26s/it, loss=0.0569]"
          ]
        },
        {
          "output_type": "stream",
          "name": "stdout",
          "text": [
            "current epoch: 378 current mean dice: 0.6543\n",
            "best mean dice: 0.6996 at epoch: 150\n"
          ]
        },
        {
          "output_type": "stream",
          "name": "stderr",
          "text": [
            "Training Epochs:  63%|██████▎   | 380/600 [32:43<19:10,  5.23s/it, loss=0.0572]"
          ]
        },
        {
          "output_type": "stream",
          "name": "stdout",
          "text": [
            "saved new best metric model\n",
            "current epoch: 380 current mean dice: 0.7097\n",
            "best mean dice: 0.7097 at epoch: 380\n"
          ]
        },
        {
          "output_type": "stream",
          "name": "stderr",
          "text": [
            "Training Epochs:  64%|██████▎   | 382/600 [32:53<19:13,  5.29s/it, loss=0.0582]"
          ]
        },
        {
          "output_type": "stream",
          "name": "stdout",
          "text": [
            "current epoch: 382 current mean dice: 0.6390\n",
            "best mean dice: 0.7097 at epoch: 380\n"
          ]
        },
        {
          "output_type": "stream",
          "name": "stderr",
          "text": [
            "Training Epochs:  64%|██████▍   | 384/600 [33:04<19:11,  5.33s/it, loss=0.0558]"
          ]
        },
        {
          "output_type": "stream",
          "name": "stdout",
          "text": [
            "current epoch: 384 current mean dice: 0.6972\n",
            "best mean dice: 0.7097 at epoch: 380\n"
          ]
        },
        {
          "output_type": "stream",
          "name": "stderr",
          "text": [
            "Training Epochs:  64%|██████▍   | 386/600 [33:14<18:54,  5.30s/it, loss=0.0573]"
          ]
        },
        {
          "output_type": "stream",
          "name": "stdout",
          "text": [
            "current epoch: 386 current mean dice: 0.6874\n",
            "best mean dice: 0.7097 at epoch: 380\n"
          ]
        },
        {
          "output_type": "stream",
          "name": "stderr",
          "text": [
            "Training Epochs:  65%|██████▍   | 388/600 [33:24<18:14,  5.16s/it, loss=0.0549]"
          ]
        },
        {
          "output_type": "stream",
          "name": "stdout",
          "text": [
            "current epoch: 388 current mean dice: 0.7031\n",
            "best mean dice: 0.7097 at epoch: 380\n"
          ]
        },
        {
          "output_type": "stream",
          "name": "stderr",
          "text": [
            "Training Epochs:  65%|██████▌   | 390/600 [33:35<18:57,  5.42s/it, loss=0.0541]"
          ]
        },
        {
          "output_type": "stream",
          "name": "stdout",
          "text": [
            "current epoch: 390 current mean dice: 0.6874\n",
            "best mean dice: 0.7097 at epoch: 380\n"
          ]
        },
        {
          "output_type": "stream",
          "name": "stderr",
          "text": [
            "Training Epochs:  65%|██████▌   | 392/600 [33:45<18:42,  5.40s/it, loss=0.055]"
          ]
        },
        {
          "output_type": "stream",
          "name": "stdout",
          "text": [
            "saved new best metric model\n",
            "current epoch: 392 current mean dice: 0.7118\n",
            "best mean dice: 0.7118 at epoch: 392\n"
          ]
        },
        {
          "output_type": "stream",
          "name": "stderr",
          "text": [
            "Training Epochs:  66%|██████▌   | 394/600 [33:56<18:20,  5.34s/it, loss=0.0528]"
          ]
        },
        {
          "output_type": "stream",
          "name": "stdout",
          "text": [
            "current epoch: 394 current mean dice: 0.6899\n",
            "best mean dice: 0.7118 at epoch: 392\n"
          ]
        },
        {
          "output_type": "stream",
          "name": "stderr",
          "text": [
            "Training Epochs:  66%|██████▌   | 396/600 [34:06<17:48,  5.24s/it, loss=0.0496]"
          ]
        },
        {
          "output_type": "stream",
          "name": "stdout",
          "text": [
            "current epoch: 396 current mean dice: 0.6787\n",
            "best mean dice: 0.7118 at epoch: 392\n"
          ]
        },
        {
          "output_type": "stream",
          "name": "stderr",
          "text": [
            "Training Epochs:  66%|██████▋   | 398/600 [34:16<17:37,  5.24s/it, loss=0.0558]"
          ]
        },
        {
          "output_type": "stream",
          "name": "stdout",
          "text": [
            "current epoch: 398 current mean dice: 0.5889\n",
            "best mean dice: 0.7118 at epoch: 392\n"
          ]
        },
        {
          "output_type": "stream",
          "name": "stderr",
          "text": [
            "Training Epochs:  67%|██████▋   | 400/600 [34:27<17:49,  5.35s/it, loss=0.0546]"
          ]
        },
        {
          "output_type": "stream",
          "name": "stdout",
          "text": [
            "current epoch: 400 current mean dice: 0.6787\n",
            "best mean dice: 0.7118 at epoch: 392\n"
          ]
        },
        {
          "output_type": "stream",
          "name": "stderr",
          "text": [
            "Training Epochs:  67%|██████▋   | 402/600 [34:37<17:55,  5.43s/it, loss=0.0553]"
          ]
        },
        {
          "output_type": "stream",
          "name": "stdout",
          "text": [
            "current epoch: 402 current mean dice: 0.6547\n",
            "best mean dice: 0.7118 at epoch: 392\n"
          ]
        },
        {
          "output_type": "stream",
          "name": "stderr",
          "text": [
            "Training Epochs:  67%|██████▋   | 404/600 [34:48<17:34,  5.38s/it, loss=0.0518]"
          ]
        },
        {
          "output_type": "stream",
          "name": "stdout",
          "text": [
            "current epoch: 404 current mean dice: 0.6025\n",
            "best mean dice: 0.7118 at epoch: 392\n"
          ]
        },
        {
          "output_type": "stream",
          "name": "stderr",
          "text": [
            "Training Epochs:  68%|██████▊   | 406/600 [34:58<17:22,  5.37s/it, loss=0.0538]"
          ]
        },
        {
          "output_type": "stream",
          "name": "stdout",
          "text": [
            "current epoch: 406 current mean dice: 0.6807\n",
            "best mean dice: 0.7118 at epoch: 392\n"
          ]
        },
        {
          "output_type": "stream",
          "name": "stderr",
          "text": [
            "Training Epochs:  68%|██████▊   | 408/600 [35:09<17:08,  5.36s/it, loss=0.0527]"
          ]
        },
        {
          "output_type": "stream",
          "name": "stdout",
          "text": [
            "current epoch: 408 current mean dice: 0.6957\n",
            "best mean dice: 0.7118 at epoch: 392\n"
          ]
        },
        {
          "output_type": "stream",
          "name": "stderr",
          "text": [
            "Training Epochs:  68%|██████▊   | 410/600 [35:19<16:37,  5.25s/it, loss=0.0837]"
          ]
        },
        {
          "output_type": "stream",
          "name": "stdout",
          "text": [
            "current epoch: 410 current mean dice: 0.7054\n",
            "best mean dice: 0.7118 at epoch: 392\n"
          ]
        },
        {
          "output_type": "stream",
          "name": "stderr",
          "text": [
            "Training Epochs:  69%|██████▊   | 412/600 [35:29<16:32,  5.28s/it, loss=0.0543]"
          ]
        },
        {
          "output_type": "stream",
          "name": "stdout",
          "text": [
            "current epoch: 412 current mean dice: 0.6248\n",
            "best mean dice: 0.7118 at epoch: 392\n"
          ]
        },
        {
          "output_type": "stream",
          "name": "stderr",
          "text": [
            "Training Epochs:  69%|██████▉   | 414/600 [35:40<16:37,  5.37s/it, loss=0.0541]"
          ]
        },
        {
          "output_type": "stream",
          "name": "stdout",
          "text": [
            "current epoch: 414 current mean dice: 0.6484\n",
            "best mean dice: 0.7118 at epoch: 392\n"
          ]
        },
        {
          "output_type": "stream",
          "name": "stderr",
          "text": [
            "Training Epochs:  69%|██████▉   | 416/600 [35:50<16:22,  5.34s/it, loss=0.0832]"
          ]
        },
        {
          "output_type": "stream",
          "name": "stdout",
          "text": [
            "current epoch: 416 current mean dice: 0.5682\n",
            "best mean dice: 0.7118 at epoch: 392\n"
          ]
        },
        {
          "output_type": "stream",
          "name": "stderr",
          "text": [
            "Training Epochs:  70%|██████▉   | 418/600 [36:00<16:02,  5.29s/it, loss=0.0513]"
          ]
        },
        {
          "output_type": "stream",
          "name": "stdout",
          "text": [
            "current epoch: 418 current mean dice: 0.5872\n",
            "best mean dice: 0.7118 at epoch: 392\n"
          ]
        },
        {
          "output_type": "stream",
          "name": "stderr",
          "text": [
            "Training Epochs:  70%|███████   | 420/600 [36:10<15:48,  5.27s/it, loss=0.0528]"
          ]
        },
        {
          "output_type": "stream",
          "name": "stdout",
          "text": [
            "current epoch: 420 current mean dice: 0.4515\n",
            "best mean dice: 0.7118 at epoch: 392\n"
          ]
        },
        {
          "output_type": "stream",
          "name": "stderr",
          "text": [
            "Training Epochs:  70%|███████   | 422/600 [36:21<15:49,  5.34s/it, loss=0.0503]"
          ]
        },
        {
          "output_type": "stream",
          "name": "stdout",
          "text": [
            "current epoch: 422 current mean dice: 0.6930\n",
            "best mean dice: 0.7118 at epoch: 392\n"
          ]
        },
        {
          "output_type": "stream",
          "name": "stderr",
          "text": [
            "Training Epochs:  71%|███████   | 424/600 [36:31<15:28,  5.27s/it, loss=0.0618]"
          ]
        },
        {
          "output_type": "stream",
          "name": "stdout",
          "text": [
            "current epoch: 424 current mean dice: 0.6658\n",
            "best mean dice: 0.7118 at epoch: 392\n"
          ]
        },
        {
          "output_type": "stream",
          "name": "stderr",
          "text": [
            "Training Epochs:  71%|███████   | 426/600 [36:41<15:06,  5.21s/it, loss=0.0541]"
          ]
        },
        {
          "output_type": "stream",
          "name": "stdout",
          "text": [
            "current epoch: 426 current mean dice: 0.5911\n",
            "best mean dice: 0.7118 at epoch: 392\n"
          ]
        },
        {
          "output_type": "stream",
          "name": "stderr",
          "text": [
            "Training Epochs:  71%|███████▏  | 428/600 [36:52<15:11,  5.30s/it, loss=0.0523]"
          ]
        },
        {
          "output_type": "stream",
          "name": "stdout",
          "text": [
            "current epoch: 428 current mean dice: 0.6042\n",
            "best mean dice: 0.7118 at epoch: 392\n"
          ]
        },
        {
          "output_type": "stream",
          "name": "stderr",
          "text": [
            "Training Epochs:  72%|███████▏  | 430/600 [37:02<15:04,  5.32s/it, loss=0.0549]"
          ]
        },
        {
          "output_type": "stream",
          "name": "stdout",
          "text": [
            "current epoch: 430 current mean dice: 0.5521\n",
            "best mean dice: 0.7118 at epoch: 392\n"
          ]
        },
        {
          "output_type": "stream",
          "name": "stderr",
          "text": [
            "Training Epochs:  72%|███████▏  | 432/600 [37:12<14:51,  5.31s/it, loss=0.0521]"
          ]
        },
        {
          "output_type": "stream",
          "name": "stdout",
          "text": [
            "current epoch: 432 current mean dice: 0.6050\n",
            "best mean dice: 0.7118 at epoch: 392\n"
          ]
        },
        {
          "output_type": "stream",
          "name": "stderr",
          "text": [
            "Training Epochs:  72%|███████▏  | 434/600 [37:22<14:30,  5.24s/it, loss=0.0584]"
          ]
        },
        {
          "output_type": "stream",
          "name": "stdout",
          "text": [
            "current epoch: 434 current mean dice: 0.5322\n",
            "best mean dice: 0.7118 at epoch: 392\n"
          ]
        },
        {
          "output_type": "stream",
          "name": "stderr",
          "text": [
            "Training Epochs:  73%|███████▎  | 436/600 [37:33<14:44,  5.39s/it, loss=0.0583]"
          ]
        },
        {
          "output_type": "stream",
          "name": "stdout",
          "text": [
            "current epoch: 436 current mean dice: 0.3818\n",
            "best mean dice: 0.7118 at epoch: 392\n"
          ]
        },
        {
          "output_type": "stream",
          "name": "stderr",
          "text": [
            "Training Epochs:  73%|███████▎  | 438/600 [37:44<14:34,  5.40s/it, loss=0.0528]"
          ]
        },
        {
          "output_type": "stream",
          "name": "stdout",
          "text": [
            "current epoch: 438 current mean dice: 0.4999\n",
            "best mean dice: 0.7118 at epoch: 392\n"
          ]
        },
        {
          "output_type": "stream",
          "name": "stderr",
          "text": [
            "Training Epochs:  73%|███████▎  | 440/600 [37:54<14:16,  5.35s/it, loss=0.0479]"
          ]
        },
        {
          "output_type": "stream",
          "name": "stdout",
          "text": [
            "current epoch: 440 current mean dice: 0.6615\n",
            "best mean dice: 0.7118 at epoch: 392\n"
          ]
        },
        {
          "output_type": "stream",
          "name": "stderr",
          "text": [
            "Training Epochs:  74%|███████▎  | 442/600 [38:05<14:05,  5.35s/it, loss=0.0477]"
          ]
        },
        {
          "output_type": "stream",
          "name": "stdout",
          "text": [
            "current epoch: 442 current mean dice: 0.4051\n",
            "best mean dice: 0.7118 at epoch: 392\n"
          ]
        },
        {
          "output_type": "stream",
          "name": "stderr",
          "text": [
            "Training Epochs:  74%|███████▍  | 444/600 [38:15<13:51,  5.33s/it, loss=0.048]"
          ]
        },
        {
          "output_type": "stream",
          "name": "stdout",
          "text": [
            "current epoch: 444 current mean dice: 0.5506\n",
            "best mean dice: 0.7118 at epoch: 392\n"
          ]
        },
        {
          "output_type": "stream",
          "name": "stderr",
          "text": [
            "Training Epochs:  74%|███████▍  | 446/600 [38:26<13:46,  5.36s/it, loss=0.053]"
          ]
        },
        {
          "output_type": "stream",
          "name": "stdout",
          "text": [
            "current epoch: 446 current mean dice: 0.5894\n",
            "best mean dice: 0.7118 at epoch: 392\n"
          ]
        },
        {
          "output_type": "stream",
          "name": "stderr",
          "text": [
            "Training Epochs:  75%|███████▍  | 448/600 [38:36<13:29,  5.33s/it, loss=0.052]"
          ]
        },
        {
          "output_type": "stream",
          "name": "stdout",
          "text": [
            "current epoch: 448 current mean dice: 0.5968\n",
            "best mean dice: 0.7118 at epoch: 392\n"
          ]
        },
        {
          "output_type": "stream",
          "name": "stderr",
          "text": [
            "Training Epochs:  75%|███████▌  | 450/600 [38:46<13:03,  5.22s/it, loss=0.0531]"
          ]
        },
        {
          "output_type": "stream",
          "name": "stdout",
          "text": [
            "current epoch: 450 current mean dice: 0.4618\n",
            "best mean dice: 0.7118 at epoch: 392\n"
          ]
        },
        {
          "output_type": "stream",
          "name": "stderr",
          "text": [
            "Training Epochs:  75%|███████▌  | 452/600 [38:56<12:55,  5.24s/it, loss=0.0526]"
          ]
        },
        {
          "output_type": "stream",
          "name": "stdout",
          "text": [
            "current epoch: 452 current mean dice: 0.5759\n",
            "best mean dice: 0.7118 at epoch: 392\n"
          ]
        },
        {
          "output_type": "stream",
          "name": "stderr",
          "text": [
            "Training Epochs:  76%|███████▌  | 454/600 [39:07<12:52,  5.29s/it, loss=0.0501]"
          ]
        },
        {
          "output_type": "stream",
          "name": "stdout",
          "text": [
            "current epoch: 454 current mean dice: 0.6402\n",
            "best mean dice: 0.7118 at epoch: 392\n"
          ]
        },
        {
          "output_type": "stream",
          "name": "stderr",
          "text": [
            "Training Epochs:  76%|███████▌  | 456/600 [39:17<12:35,  5.25s/it, loss=0.0563]"
          ]
        },
        {
          "output_type": "stream",
          "name": "stdout",
          "text": [
            "current epoch: 456 current mean dice: 0.5984\n",
            "best mean dice: 0.7118 at epoch: 392\n"
          ]
        },
        {
          "output_type": "stream",
          "name": "stderr",
          "text": [
            "Training Epochs:  76%|███████▋  | 458/600 [39:27<12:22,  5.23s/it, loss=0.0511]"
          ]
        },
        {
          "output_type": "stream",
          "name": "stdout",
          "text": [
            "current epoch: 458 current mean dice: 0.5556\n",
            "best mean dice: 0.7118 at epoch: 392\n"
          ]
        },
        {
          "output_type": "stream",
          "name": "stderr",
          "text": [
            "Training Epochs:  77%|███████▋  | 460/600 [39:37<12:06,  5.19s/it, loss=0.0502]"
          ]
        },
        {
          "output_type": "stream",
          "name": "stdout",
          "text": [
            "current epoch: 460 current mean dice: 0.6674\n",
            "best mean dice: 0.7118 at epoch: 392\n"
          ]
        },
        {
          "output_type": "stream",
          "name": "stderr",
          "text": [
            "Training Epochs:  77%|███████▋  | 462/600 [39:47<11:59,  5.22s/it, loss=0.0437]"
          ]
        },
        {
          "output_type": "stream",
          "name": "stdout",
          "text": [
            "current epoch: 462 current mean dice: 0.6492\n",
            "best mean dice: 0.7118 at epoch: 392\n"
          ]
        },
        {
          "output_type": "stream",
          "name": "stderr",
          "text": [
            "Training Epochs:  77%|███████▋  | 464/600 [39:57<11:53,  5.25s/it, loss=0.0487]"
          ]
        },
        {
          "output_type": "stream",
          "name": "stdout",
          "text": [
            "current epoch: 464 current mean dice: 0.6891\n",
            "best mean dice: 0.7118 at epoch: 392\n"
          ]
        },
        {
          "output_type": "stream",
          "name": "stderr",
          "text": [
            "Training Epochs:  78%|███████▊  | 466/600 [40:08<11:48,  5.29s/it, loss=0.0456]"
          ]
        },
        {
          "output_type": "stream",
          "name": "stdout",
          "text": [
            "current epoch: 466 current mean dice: 0.6294\n",
            "best mean dice: 0.7118 at epoch: 392\n"
          ]
        },
        {
          "output_type": "stream",
          "name": "stderr",
          "text": [
            "Training Epochs:  78%|███████▊  | 468/600 [40:18<11:47,  5.36s/it, loss=0.0473]"
          ]
        },
        {
          "output_type": "stream",
          "name": "stdout",
          "text": [
            "current epoch: 468 current mean dice: 0.6451\n",
            "best mean dice: 0.7118 at epoch: 392\n"
          ]
        },
        {
          "output_type": "stream",
          "name": "stderr",
          "text": [
            "Training Epochs:  78%|███████▊  | 470/600 [40:29<11:32,  5.32s/it, loss=0.0529]"
          ]
        },
        {
          "output_type": "stream",
          "name": "stdout",
          "text": [
            "current epoch: 470 current mean dice: 0.5819\n",
            "best mean dice: 0.7118 at epoch: 392\n"
          ]
        },
        {
          "output_type": "stream",
          "name": "stderr",
          "text": [
            "Training Epochs:  79%|███████▊  | 472/600 [40:39<11:12,  5.26s/it, loss=0.0558]"
          ]
        },
        {
          "output_type": "stream",
          "name": "stdout",
          "text": [
            "current epoch: 472 current mean dice: 0.3598\n",
            "best mean dice: 0.7118 at epoch: 392\n"
          ]
        },
        {
          "output_type": "stream",
          "name": "stderr",
          "text": [
            "Training Epochs:  79%|███████▉  | 474/600 [40:49<11:05,  5.28s/it, loss=0.0488]"
          ]
        },
        {
          "output_type": "stream",
          "name": "stdout",
          "text": [
            "current epoch: 474 current mean dice: 0.3236\n",
            "best mean dice: 0.7118 at epoch: 392\n"
          ]
        },
        {
          "output_type": "stream",
          "name": "stderr",
          "text": [
            "Training Epochs:  79%|███████▉  | 476/600 [41:00<11:03,  5.35s/it, loss=0.0495]"
          ]
        },
        {
          "output_type": "stream",
          "name": "stdout",
          "text": [
            "current epoch: 476 current mean dice: 0.3529\n",
            "best mean dice: 0.7118 at epoch: 392\n"
          ]
        },
        {
          "output_type": "stream",
          "name": "stderr",
          "text": [
            "Training Epochs:  80%|███████▉  | 478/600 [41:10<10:55,  5.37s/it, loss=0.0486]"
          ]
        },
        {
          "output_type": "stream",
          "name": "stdout",
          "text": [
            "current epoch: 478 current mean dice: 0.5109\n",
            "best mean dice: 0.7118 at epoch: 392\n"
          ]
        },
        {
          "output_type": "stream",
          "name": "stderr",
          "text": [
            "Training Epochs:  80%|████████  | 480/600 [41:20<10:33,  5.28s/it, loss=0.048]"
          ]
        },
        {
          "output_type": "stream",
          "name": "stdout",
          "text": [
            "current epoch: 480 current mean dice: 0.3624\n",
            "best mean dice: 0.7118 at epoch: 392\n"
          ]
        },
        {
          "output_type": "stream",
          "name": "stderr",
          "text": [
            "Training Epochs:  80%|████████  | 482/600 [41:32<10:48,  5.49s/it, loss=0.0825]"
          ]
        },
        {
          "output_type": "stream",
          "name": "stdout",
          "text": [
            "current epoch: 482 current mean dice: 0.4803\n",
            "best mean dice: 0.7118 at epoch: 392\n"
          ]
        },
        {
          "output_type": "stream",
          "name": "stderr",
          "text": [
            "Training Epochs:  81%|████████  | 484/600 [41:42<10:21,  5.35s/it, loss=0.048]"
          ]
        },
        {
          "output_type": "stream",
          "name": "stdout",
          "text": [
            "current epoch: 484 current mean dice: 0.4939\n",
            "best mean dice: 0.7118 at epoch: 392\n"
          ]
        },
        {
          "output_type": "stream",
          "name": "stderr",
          "text": [
            "Training Epochs:  81%|████████  | 486/600 [41:52<09:53,  5.21s/it, loss=0.0477]"
          ]
        },
        {
          "output_type": "stream",
          "name": "stdout",
          "text": [
            "current epoch: 486 current mean dice: 0.5017\n",
            "best mean dice: 0.7118 at epoch: 392\n"
          ]
        },
        {
          "output_type": "stream",
          "name": "stderr",
          "text": [
            "Training Epochs:  81%|████████▏ | 488/600 [42:02<09:46,  5.24s/it, loss=0.0427]"
          ]
        },
        {
          "output_type": "stream",
          "name": "stdout",
          "text": [
            "current epoch: 488 current mean dice: 0.4671\n",
            "best mean dice: 0.7118 at epoch: 392\n"
          ]
        },
        {
          "output_type": "stream",
          "name": "stderr",
          "text": [
            "Training Epochs:  82%|████████▏ | 490/600 [42:12<09:44,  5.31s/it, loss=0.0456]"
          ]
        },
        {
          "output_type": "stream",
          "name": "stdout",
          "text": [
            "current epoch: 490 current mean dice: 0.4322\n",
            "best mean dice: 0.7118 at epoch: 392\n"
          ]
        },
        {
          "output_type": "stream",
          "name": "stderr",
          "text": [
            "Training Epochs:  82%|████████▏ | 492/600 [42:22<09:24,  5.23s/it, loss=0.046]"
          ]
        },
        {
          "output_type": "stream",
          "name": "stdout",
          "text": [
            "current epoch: 492 current mean dice: 0.5079\n",
            "best mean dice: 0.7118 at epoch: 392\n"
          ]
        },
        {
          "output_type": "stream",
          "name": "stderr",
          "text": [
            "Training Epochs:  82%|████████▏ | 494/600 [42:33<09:09,  5.18s/it, loss=0.0451]"
          ]
        },
        {
          "output_type": "stream",
          "name": "stdout",
          "text": [
            "current epoch: 494 current mean dice: 0.4419\n",
            "best mean dice: 0.7118 at epoch: 392\n"
          ]
        },
        {
          "output_type": "stream",
          "name": "stderr",
          "text": [
            "Training Epochs:  83%|████████▎ | 496/600 [42:43<09:20,  5.39s/it, loss=0.0444]"
          ]
        },
        {
          "output_type": "stream",
          "name": "stdout",
          "text": [
            "current epoch: 496 current mean dice: 0.4032\n",
            "best mean dice: 0.7118 at epoch: 392\n"
          ]
        },
        {
          "output_type": "stream",
          "name": "stderr",
          "text": [
            "Training Epochs:  83%|████████▎ | 498/600 [42:54<09:15,  5.45s/it, loss=0.0459]"
          ]
        },
        {
          "output_type": "stream",
          "name": "stdout",
          "text": [
            "current epoch: 498 current mean dice: 0.5607\n",
            "best mean dice: 0.7118 at epoch: 392\n"
          ]
        },
        {
          "output_type": "stream",
          "name": "stderr",
          "text": [
            "Training Epochs:  83%|████████▎ | 500/600 [43:04<08:56,  5.36s/it, loss=0.0439]"
          ]
        },
        {
          "output_type": "stream",
          "name": "stdout",
          "text": [
            "current epoch: 500 current mean dice: 0.4485\n",
            "best mean dice: 0.7118 at epoch: 392\n"
          ]
        },
        {
          "output_type": "stream",
          "name": "stderr",
          "text": [
            "Training Epochs:  84%|████████▎ | 502/600 [43:14<08:35,  5.26s/it, loss=0.0447]"
          ]
        },
        {
          "output_type": "stream",
          "name": "stdout",
          "text": [
            "current epoch: 502 current mean dice: 0.5560\n",
            "best mean dice: 0.7118 at epoch: 392\n"
          ]
        },
        {
          "output_type": "stream",
          "name": "stderr",
          "text": [
            "Training Epochs:  84%|████████▍ | 504/600 [43:25<08:19,  5.21s/it, loss=0.0427]"
          ]
        },
        {
          "output_type": "stream",
          "name": "stdout",
          "text": [
            "current epoch: 504 current mean dice: 0.5455\n",
            "best mean dice: 0.7118 at epoch: 392\n"
          ]
        },
        {
          "output_type": "stream",
          "name": "stderr",
          "text": [
            "Training Epochs:  84%|████████▍ | 506/600 [43:35<08:15,  5.27s/it, loss=0.0433]"
          ]
        },
        {
          "output_type": "stream",
          "name": "stdout",
          "text": [
            "current epoch: 506 current mean dice: 0.4413\n",
            "best mean dice: 0.7118 at epoch: 392\n"
          ]
        },
        {
          "output_type": "stream",
          "name": "stderr",
          "text": [
            "Training Epochs:  85%|████████▍ | 508/600 [43:45<08:05,  5.28s/it, loss=0.0478]"
          ]
        },
        {
          "output_type": "stream",
          "name": "stdout",
          "text": [
            "current epoch: 508 current mean dice: 0.6423\n",
            "best mean dice: 0.7118 at epoch: 392\n"
          ]
        },
        {
          "output_type": "stream",
          "name": "stderr",
          "text": [
            "Training Epochs:  85%|████████▌ | 510/600 [43:56<07:58,  5.31s/it, loss=0.046]"
          ]
        },
        {
          "output_type": "stream",
          "name": "stdout",
          "text": [
            "current epoch: 510 current mean dice: 0.5581\n",
            "best mean dice: 0.7118 at epoch: 392\n"
          ]
        },
        {
          "output_type": "stream",
          "name": "stderr",
          "text": [
            "Training Epochs:  85%|████████▌ | 512/600 [44:06<07:51,  5.35s/it, loss=0.0393]"
          ]
        },
        {
          "output_type": "stream",
          "name": "stdout",
          "text": [
            "current epoch: 512 current mean dice: 0.5913\n",
            "best mean dice: 0.7118 at epoch: 392\n"
          ]
        },
        {
          "output_type": "stream",
          "name": "stderr",
          "text": [
            "Training Epochs:  86%|████████▌ | 514/600 [44:16<07:35,  5.30s/it, loss=0.0444]"
          ]
        },
        {
          "output_type": "stream",
          "name": "stdout",
          "text": [
            "current epoch: 514 current mean dice: 0.6279\n",
            "best mean dice: 0.7118 at epoch: 392\n"
          ]
        },
        {
          "output_type": "stream",
          "name": "stderr",
          "text": [
            "Training Epochs:  86%|████████▌ | 516/600 [44:26<07:18,  5.22s/it, loss=0.0396]"
          ]
        },
        {
          "output_type": "stream",
          "name": "stdout",
          "text": [
            "current epoch: 516 current mean dice: 0.4849\n",
            "best mean dice: 0.7118 at epoch: 392\n"
          ]
        },
        {
          "output_type": "stream",
          "name": "stderr",
          "text": [
            "Training Epochs:  86%|████████▋ | 518/600 [44:37<07:05,  5.18s/it, loss=0.0431]"
          ]
        },
        {
          "output_type": "stream",
          "name": "stdout",
          "text": [
            "current epoch: 518 current mean dice: 0.4439\n",
            "best mean dice: 0.7118 at epoch: 392\n"
          ]
        },
        {
          "output_type": "stream",
          "name": "stderr",
          "text": [
            "Training Epochs:  87%|████████▋ | 520/600 [44:47<07:06,  5.34s/it, loss=0.0429]"
          ]
        },
        {
          "output_type": "stream",
          "name": "stdout",
          "text": [
            "current epoch: 520 current mean dice: 0.5326\n",
            "best mean dice: 0.7118 at epoch: 392\n"
          ]
        },
        {
          "output_type": "stream",
          "name": "stderr",
          "text": [
            "Training Epochs:  87%|████████▋ | 522/600 [44:58<07:02,  5.41s/it, loss=0.0426]"
          ]
        },
        {
          "output_type": "stream",
          "name": "stdout",
          "text": [
            "current epoch: 522 current mean dice: 0.5921\n",
            "best mean dice: 0.7118 at epoch: 392\n"
          ]
        },
        {
          "output_type": "stream",
          "name": "stderr",
          "text": [
            "Training Epochs:  87%|████████▋ | 524/600 [45:08<06:40,  5.26s/it, loss=0.0397]"
          ]
        },
        {
          "output_type": "stream",
          "name": "stdout",
          "text": [
            "current epoch: 524 current mean dice: 0.5752\n",
            "best mean dice: 0.7118 at epoch: 392\n"
          ]
        },
        {
          "output_type": "stream",
          "name": "stderr",
          "text": [
            "Training Epochs:  88%|████████▊ | 526/600 [45:18<06:33,  5.31s/it, loss=0.0463]"
          ]
        },
        {
          "output_type": "stream",
          "name": "stdout",
          "text": [
            "current epoch: 526 current mean dice: 0.6295\n",
            "best mean dice: 0.7118 at epoch: 392\n"
          ]
        },
        {
          "output_type": "stream",
          "name": "stderr",
          "text": [
            "Training Epochs:  88%|████████▊ | 528/600 [45:29<06:23,  5.32s/it, loss=0.0414]"
          ]
        },
        {
          "output_type": "stream",
          "name": "stdout",
          "text": [
            "current epoch: 528 current mean dice: 0.5250\n",
            "best mean dice: 0.7118 at epoch: 392\n"
          ]
        },
        {
          "output_type": "stream",
          "name": "stderr",
          "text": [
            "Training Epochs:  88%|████████▊ | 530/600 [45:39<06:08,  5.26s/it, loss=0.0447]"
          ]
        },
        {
          "output_type": "stream",
          "name": "stdout",
          "text": [
            "current epoch: 530 current mean dice: 0.5264\n",
            "best mean dice: 0.7118 at epoch: 392\n"
          ]
        },
        {
          "output_type": "stream",
          "name": "stderr",
          "text": [
            "Training Epochs:  89%|████████▊ | 532/600 [45:49<05:52,  5.18s/it, loss=0.0427]"
          ]
        },
        {
          "output_type": "stream",
          "name": "stdout",
          "text": [
            "current epoch: 532 current mean dice: 0.5948\n",
            "best mean dice: 0.7118 at epoch: 392\n"
          ]
        },
        {
          "output_type": "stream",
          "name": "stderr",
          "text": [
            "Training Epochs:  89%|████████▉ | 534/600 [45:59<05:46,  5.24s/it, loss=0.043]"
          ]
        },
        {
          "output_type": "stream",
          "name": "stdout",
          "text": [
            "current epoch: 534 current mean dice: 0.5622\n",
            "best mean dice: 0.7118 at epoch: 392\n"
          ]
        },
        {
          "output_type": "stream",
          "name": "stderr",
          "text": [
            "Training Epochs:  89%|████████▉ | 536/600 [46:10<05:43,  5.36s/it, loss=0.046]"
          ]
        },
        {
          "output_type": "stream",
          "name": "stdout",
          "text": [
            "current epoch: 536 current mean dice: 0.6250\n",
            "best mean dice: 0.7118 at epoch: 392\n"
          ]
        },
        {
          "output_type": "stream",
          "name": "stderr",
          "text": [
            "Training Epochs:  90%|████████▉ | 538/600 [46:20<05:28,  5.30s/it, loss=0.0427]"
          ]
        },
        {
          "output_type": "stream",
          "name": "stdout",
          "text": [
            "current epoch: 538 current mean dice: 0.5837\n",
            "best mean dice: 0.7118 at epoch: 392\n"
          ]
        },
        {
          "output_type": "stream",
          "name": "stderr",
          "text": [
            "Training Epochs:  90%|█████████ | 540/600 [46:30<05:13,  5.22s/it, loss=0.0426]"
          ]
        },
        {
          "output_type": "stream",
          "name": "stdout",
          "text": [
            "current epoch: 540 current mean dice: 0.5225\n",
            "best mean dice: 0.7118 at epoch: 392\n"
          ]
        },
        {
          "output_type": "stream",
          "name": "stderr",
          "text": [
            "Training Epochs:  90%|█████████ | 542/600 [46:40<05:01,  5.20s/it, loss=0.0425]"
          ]
        },
        {
          "output_type": "stream",
          "name": "stdout",
          "text": [
            "current epoch: 542 current mean dice: 0.6288\n",
            "best mean dice: 0.7118 at epoch: 392\n"
          ]
        },
        {
          "output_type": "stream",
          "name": "stderr",
          "text": [
            "Training Epochs:  91%|█████████ | 544/600 [46:50<04:50,  5.19s/it, loss=0.0412]"
          ]
        },
        {
          "output_type": "stream",
          "name": "stdout",
          "text": [
            "current epoch: 544 current mean dice: 0.5518\n",
            "best mean dice: 0.7118 at epoch: 392\n"
          ]
        },
        {
          "output_type": "stream",
          "name": "stderr",
          "text": [
            "Training Epochs:  91%|█████████ | 546/600 [47:00<04:38,  5.16s/it, loss=0.0386]"
          ]
        },
        {
          "output_type": "stream",
          "name": "stdout",
          "text": [
            "current epoch: 546 current mean dice: 0.5387\n",
            "best mean dice: 0.7118 at epoch: 392\n"
          ]
        },
        {
          "output_type": "stream",
          "name": "stderr",
          "text": [
            "Training Epochs:  91%|█████████▏| 548/600 [47:11<04:30,  5.20s/it, loss=0.037]"
          ]
        },
        {
          "output_type": "stream",
          "name": "stdout",
          "text": [
            "current epoch: 548 current mean dice: 0.5616\n",
            "best mean dice: 0.7118 at epoch: 392\n"
          ]
        },
        {
          "output_type": "stream",
          "name": "stderr",
          "text": [
            "Training Epochs:  92%|█████████▏| 550/600 [47:21<04:24,  5.30s/it, loss=0.0423]"
          ]
        },
        {
          "output_type": "stream",
          "name": "stdout",
          "text": [
            "current epoch: 550 current mean dice: 0.5880\n",
            "best mean dice: 0.7118 at epoch: 392\n"
          ]
        },
        {
          "output_type": "stream",
          "name": "stderr",
          "text": [
            "Training Epochs:  92%|█████████▏| 552/600 [47:31<04:12,  5.25s/it, loss=0.0446]"
          ]
        },
        {
          "output_type": "stream",
          "name": "stdout",
          "text": [
            "current epoch: 552 current mean dice: 0.5593\n",
            "best mean dice: 0.7118 at epoch: 392\n"
          ]
        },
        {
          "output_type": "stream",
          "name": "stderr",
          "text": [
            "Training Epochs:  92%|█████████▏| 554/600 [47:41<03:58,  5.18s/it, loss=0.0448]"
          ]
        },
        {
          "output_type": "stream",
          "name": "stdout",
          "text": [
            "current epoch: 554 current mean dice: 0.6138\n",
            "best mean dice: 0.7118 at epoch: 392\n"
          ]
        },
        {
          "output_type": "stream",
          "name": "stderr",
          "text": [
            "Training Epochs:  93%|█████████▎| 556/600 [47:52<03:49,  5.22s/it, loss=0.0394]"
          ]
        },
        {
          "output_type": "stream",
          "name": "stdout",
          "text": [
            "current epoch: 556 current mean dice: 0.6134\n",
            "best mean dice: 0.7118 at epoch: 392\n"
          ]
        },
        {
          "output_type": "stream",
          "name": "stderr",
          "text": [
            "Training Epochs:  93%|█████████▎| 558/600 [48:02<03:46,  5.40s/it, loss=0.0783]"
          ]
        },
        {
          "output_type": "stream",
          "name": "stdout",
          "text": [
            "current epoch: 558 current mean dice: 0.5393\n",
            "best mean dice: 0.7118 at epoch: 392\n"
          ]
        },
        {
          "output_type": "stream",
          "name": "stderr",
          "text": [
            "Training Epochs:  93%|█████████▎| 560/600 [48:13<03:34,  5.36s/it, loss=0.043]"
          ]
        },
        {
          "output_type": "stream",
          "name": "stdout",
          "text": [
            "current epoch: 560 current mean dice: 0.5258\n",
            "best mean dice: 0.7118 at epoch: 392\n"
          ]
        },
        {
          "output_type": "stream",
          "name": "stderr",
          "text": [
            "Training Epochs:  94%|█████████▎| 562/600 [48:24<03:28,  5.49s/it, loss=0.0418]"
          ]
        },
        {
          "output_type": "stream",
          "name": "stdout",
          "text": [
            "current epoch: 562 current mean dice: 0.5133\n",
            "best mean dice: 0.7118 at epoch: 392\n"
          ]
        },
        {
          "output_type": "stream",
          "name": "stderr",
          "text": [
            "Training Epochs:  94%|█████████▍| 564/600 [48:34<03:11,  5.32s/it, loss=0.0773]"
          ]
        },
        {
          "output_type": "stream",
          "name": "stdout",
          "text": [
            "current epoch: 564 current mean dice: 0.4992\n",
            "best mean dice: 0.7118 at epoch: 392\n"
          ]
        },
        {
          "output_type": "stream",
          "name": "stderr",
          "text": [
            "Training Epochs:  94%|█████████▍| 566/600 [48:44<03:05,  5.45s/it, loss=0.0455]"
          ]
        },
        {
          "output_type": "stream",
          "name": "stdout",
          "text": [
            "current epoch: 566 current mean dice: 0.5596\n",
            "best mean dice: 0.7118 at epoch: 392\n"
          ]
        },
        {
          "output_type": "stream",
          "name": "stderr",
          "text": [
            "Training Epochs:  95%|█████████▍| 568/600 [48:55<02:51,  5.37s/it, loss=0.0396]"
          ]
        },
        {
          "output_type": "stream",
          "name": "stdout",
          "text": [
            "current epoch: 568 current mean dice: 0.4608\n",
            "best mean dice: 0.7118 at epoch: 392\n"
          ]
        },
        {
          "output_type": "stream",
          "name": "stderr",
          "text": [
            "Training Epochs:  95%|█████████▌| 570/600 [49:05<02:38,  5.30s/it, loss=0.0401]"
          ]
        },
        {
          "output_type": "stream",
          "name": "stdout",
          "text": [
            "current epoch: 570 current mean dice: 0.5852\n",
            "best mean dice: 0.7118 at epoch: 392\n"
          ]
        },
        {
          "output_type": "stream",
          "name": "stderr",
          "text": [
            "Training Epochs:  95%|█████████▌| 572/600 [49:15<02:28,  5.31s/it, loss=0.0387]"
          ]
        },
        {
          "output_type": "stream",
          "name": "stdout",
          "text": [
            "current epoch: 572 current mean dice: 0.5435\n",
            "best mean dice: 0.7118 at epoch: 392\n"
          ]
        },
        {
          "output_type": "stream",
          "name": "stderr",
          "text": [
            "Training Epochs:  96%|█████████▌| 574/600 [49:26<02:18,  5.32s/it, loss=0.0425]"
          ]
        },
        {
          "output_type": "stream",
          "name": "stdout",
          "text": [
            "current epoch: 574 current mean dice: 0.5012\n",
            "best mean dice: 0.7118 at epoch: 392\n"
          ]
        },
        {
          "output_type": "stream",
          "name": "stderr",
          "text": [
            "Training Epochs:  96%|█████████▌| 576/600 [49:36<02:06,  5.28s/it, loss=0.0403]"
          ]
        },
        {
          "output_type": "stream",
          "name": "stdout",
          "text": [
            "current epoch: 576 current mean dice: 0.6475\n",
            "best mean dice: 0.7118 at epoch: 392\n"
          ]
        },
        {
          "output_type": "stream",
          "name": "stderr",
          "text": [
            "Training Epochs:  96%|█████████▋| 578/600 [49:47<01:57,  5.34s/it, loss=0.0411]"
          ]
        },
        {
          "output_type": "stream",
          "name": "stdout",
          "text": [
            "current epoch: 578 current mean dice: 0.5166\n",
            "best mean dice: 0.7118 at epoch: 392\n"
          ]
        },
        {
          "output_type": "stream",
          "name": "stderr",
          "text": [
            "Training Epochs:  97%|█████████▋| 580/600 [49:57<01:47,  5.39s/it, loss=0.0328]"
          ]
        },
        {
          "output_type": "stream",
          "name": "stdout",
          "text": [
            "current epoch: 580 current mean dice: 0.5349\n",
            "best mean dice: 0.7118 at epoch: 392\n"
          ]
        },
        {
          "output_type": "stream",
          "name": "stderr",
          "text": [
            "Training Epochs:  97%|█████████▋| 582/600 [50:08<01:37,  5.40s/it, loss=0.0386]"
          ]
        },
        {
          "output_type": "stream",
          "name": "stdout",
          "text": [
            "current epoch: 582 current mean dice: 0.6292\n",
            "best mean dice: 0.7118 at epoch: 392\n"
          ]
        },
        {
          "output_type": "stream",
          "name": "stderr",
          "text": [
            "Training Epochs:  97%|█████████▋| 584/600 [50:18<01:25,  5.36s/it, loss=0.0396]"
          ]
        },
        {
          "output_type": "stream",
          "name": "stdout",
          "text": [
            "current epoch: 584 current mean dice: 0.5516\n",
            "best mean dice: 0.7118 at epoch: 392\n"
          ]
        },
        {
          "output_type": "stream",
          "name": "stderr",
          "text": [
            "Training Epochs:  98%|█████████▊| 586/600 [50:28<01:15,  5.36s/it, loss=0.0365]"
          ]
        },
        {
          "output_type": "stream",
          "name": "stdout",
          "text": [
            "current epoch: 586 current mean dice: 0.6178\n",
            "best mean dice: 0.7118 at epoch: 392\n"
          ]
        },
        {
          "output_type": "stream",
          "name": "stderr",
          "text": [
            "Training Epochs:  98%|█████████▊| 588/600 [50:39<01:04,  5.41s/it, loss=0.0383]"
          ]
        },
        {
          "output_type": "stream",
          "name": "stdout",
          "text": [
            "current epoch: 588 current mean dice: 0.6260\n",
            "best mean dice: 0.7118 at epoch: 392\n"
          ]
        },
        {
          "output_type": "stream",
          "name": "stderr",
          "text": [
            "Training Epochs:  98%|█████████▊| 590/600 [50:49<00:53,  5.33s/it, loss=0.0377]"
          ]
        },
        {
          "output_type": "stream",
          "name": "stdout",
          "text": [
            "current epoch: 590 current mean dice: 0.5242\n",
            "best mean dice: 0.7118 at epoch: 392\n"
          ]
        },
        {
          "output_type": "stream",
          "name": "stderr",
          "text": [
            "Training Epochs:  99%|█████████▊| 592/600 [50:59<00:41,  5.24s/it, loss=0.0382]"
          ]
        },
        {
          "output_type": "stream",
          "name": "stdout",
          "text": [
            "current epoch: 592 current mean dice: 0.5737\n",
            "best mean dice: 0.7118 at epoch: 392\n"
          ]
        },
        {
          "output_type": "stream",
          "name": "stderr",
          "text": [
            "Training Epochs:  99%|█████████▉| 594/600 [51:10<00:31,  5.28s/it, loss=0.0485]"
          ]
        },
        {
          "output_type": "stream",
          "name": "stdout",
          "text": [
            "current epoch: 594 current mean dice: 0.6351\n",
            "best mean dice: 0.7118 at epoch: 392\n"
          ]
        },
        {
          "output_type": "stream",
          "name": "stderr",
          "text": [
            "Training Epochs:  99%|█████████▉| 596/600 [51:20<00:21,  5.37s/it, loss=0.0423]"
          ]
        },
        {
          "output_type": "stream",
          "name": "stdout",
          "text": [
            "current epoch: 596 current mean dice: 0.4205\n",
            "best mean dice: 0.7118 at epoch: 392\n"
          ]
        },
        {
          "output_type": "stream",
          "name": "stderr",
          "text": [
            "Training Epochs: 100%|█████████▉| 598/600 [51:31<00:10,  5.32s/it, loss=0.0412]"
          ]
        },
        {
          "output_type": "stream",
          "name": "stdout",
          "text": [
            "current epoch: 598 current mean dice: 0.5068\n",
            "best mean dice: 0.7118 at epoch: 392\n"
          ]
        },
        {
          "output_type": "stream",
          "name": "stderr",
          "text": [
            "Training Epochs: 100%|██████████| 600/600 [51:41<00:00,  5.17s/it, loss=0.0409]"
          ]
        },
        {
          "output_type": "stream",
          "name": "stdout",
          "text": [
            "current epoch: 600 current mean dice: 0.3980\n",
            "best mean dice: 0.7118 at epoch: 392\n"
          ]
        },
        {
          "output_type": "stream",
          "name": "stderr",
          "text": [
            "\n"
          ]
        }
      ],
      "source": [
        "max_epochs = 600\n",
        "val_interval = 2\n",
        "best_metric = -1\n",
        "best_metric_epoch = -1\n",
        "epoch_loss_values = []\n",
        "metric_values = []\n",
        "post_pred = Compose([AsDiscrete(argmax=True, to_onehot=2)])\n",
        "post_label = Compose([AsDiscrete(to_onehot=2)])\n",
        "\n",
        "\n",
        "epoch_range = trange(max_epochs, desc=\"Training Epochs\")\n",
        "\n",
        "for epoch in epoch_range:\n",
        "    #print(\"-\" * 10)\n",
        "    #print(f\"epoch {epoch + 1}/{max_epochs}\")\n",
        "    model.train()\n",
        "    epoch_loss = 0\n",
        "    step = 0\n",
        "    for batch_data in train_loader:\n",
        "        step += 1\n",
        "        inputs, labels = (\n",
        "            batch_data[\"image\"].to(device),\n",
        "            batch_data[\"label\"].to(device),\n",
        "        )\n",
        "        optimizer.zero_grad()\n",
        "        outputs = model(inputs)\n",
        "        loss = loss_function(outputs, labels)\n",
        "        loss.backward()\n",
        "        optimizer.step()\n",
        "        epoch_loss += loss.item()\n",
        "        #print(f\"{step}/{len(train_ds) // train_loader.batch_size}, \" f\"train_loss: {loss.item():.4f}\")\n",
        "    epoch_loss /= step\n",
        "    epoch_loss_values.append(epoch_loss)\n",
        "    epoch_range.set_postfix({\"loss\": epoch_loss})\n",
        "    wandb.log({\"train/loss\": epoch_loss, \"epoch\": epoch + 1})\n",
        "    #print(f\"epoch {epoch + 1} average loss: {epoch_loss:.4f}\")\n",
        "\n",
        "    if (epoch + 1) % val_interval == 0:\n",
        "        model.eval()\n",
        "        with torch.no_grad():\n",
        "            for val_data in val_loader:\n",
        "                val_inputs, val_labels = (\n",
        "                    val_data[\"image\"].to(device),\n",
        "                    val_data[\"label\"].to(device),\n",
        "                )\n",
        "                roi_size = (160, 160, 160)\n",
        "                sw_batch_size = 4\n",
        "                val_outputs = sliding_window_inference(val_inputs, roi_size, sw_batch_size, model)\n",
        "                val_outputs = [post_pred(i) for i in decollate_batch(val_outputs)]\n",
        "                val_labels = [post_label(i) for i in decollate_batch(val_labels)]\n",
        "                # compute metric for current iteration\n",
        "                dice_metric(y_pred=val_outputs, y=val_labels)\n",
        "\n",
        "            # aggregate the final mean dice result\n",
        "            metric = dice_metric.aggregate().item()\n",
        "            # reset the status for next validation round\n",
        "            dice_metric.reset()\n",
        "\n",
        "            metric_values.append(metric)\n",
        "\n",
        "            wandb.log({\"val/dice\": metric, \"epoch\": epoch + 1})\n",
        "            if metric > best_metric:\n",
        "                best_metric = metric\n",
        "                best_metric_epoch = epoch + 1\n",
        "                torch.save(model.state_dict(), os.path.join(root_dir, \"best_metric_model.pth\"))\n",
        "                print(\"saved new best metric model\")\n",
        "            # print(\n",
        "            #     f\"current epoch: {epoch + 1} current mean dice: {metric:.4f}\"\n",
        "            #     f\"\\nbest mean dice: {best_metric:.4f} \"\n",
        "            #     f\"at epoch: {best_metric_epoch}\"\n",
        "            # )"
      ]
    },
    {
      "cell_type": "code",
      "execution_count": 16,
      "metadata": {
        "tags": [],
        "id": "WLrxjCZoT6lS",
        "colab": {
          "base_uri": "https://localhost:8080/"
        },
        "outputId": "66540193-1c40-480a-d775-84fcfa9b587f"
      },
      "outputs": [
        {
          "output_type": "stream",
          "name": "stdout",
          "text": [
            "train completed, best_metric: 0.7118 at epoch: 392\n"
          ]
        }
      ],
      "source": [
        "print(f\"train completed, best_metric: {best_metric:.4f} \" f\"at epoch: {best_metric_epoch}\")"
      ]
    },
    {
      "cell_type": "markdown",
      "metadata": {
        "id": "g4EoLl8oT6lS"
      },
      "source": [
        "## Plot the loss and metric"
      ]
    },
    {
      "cell_type": "code",
      "execution_count": 17,
      "metadata": {
        "id": "RnfWgZACT6lS",
        "colab": {
          "base_uri": "https://localhost:8080/",
          "height": 564
        },
        "outputId": "fe6ff1a2-edc4-4bc3-e2b7-700113f7dca5"
      },
      "outputs": [
        {
          "output_type": "display_data",
          "data": {
            "text/plain": [
              "<Figure size 1200x600 with 2 Axes>"
            ],
            "image/png": "[encoded data removed]"
          },
          "metadata": {}
        }
      ],
      "source": [
        "plt.figure(\"train\", (12, 6))\n",
        "plt.subplot(1, 2, 1)\n",
        "plt.title(\"Epoch Average Loss\")\n",
        "x = [i + 1 for i in range(len(epoch_loss_values))]\n",
        "y = epoch_loss_values\n",
        "plt.xlabel(\"epoch\")\n",
        "plt.plot(x, y)\n",
        "plt.subplot(1, 2, 2)\n",
        "plt.title(\"Val Mean Dice\")\n",
        "x = [val_interval * (i + 1) for i in range(len(metric_values))]\n",
        "y = metric_values\n",
        "plt.xlabel(\"epoch\")\n",
        "plt.plot(x, y)\n",
        "plt.show()"
      ]
    },
    {
      "cell_type": "markdown",
      "metadata": {
        "id": "Vd6UEaiwT6lS"
      },
      "source": [
        "## Check best model output with the input image and label"
      ]
    },
    {
      "cell_type": "code",
      "execution_count": 19,
      "metadata": {
        "id": "Cx0GWFrkT6lS",
        "colab": {
          "base_uri": "https://localhost:8080/",
          "height": 963
        },
        "outputId": "e63f13bd-9cf5-4bd6-ed02-7e7175b9c35a"
      },
      "outputs": [
        {
          "output_type": "stream",
          "name": "stderr",
          "text": [
            "/usr/local/lib/python3.11/dist-packages/torch/utils/data/dataloader.py:624: UserWarning: This DataLoader will create 4 worker processes in total. Our suggested max number of worker in current system is 2, which is smaller than what this DataLoader is going to create. Please be aware that excessive worker creation might get DataLoader running slow or even freeze, lower the worker number to avoid potential slowness/freeze if necessary.\n",
            "  warnings.warn(\n"
          ]
        },
        {
          "output_type": "display_data",
          "data": {
            "text/plain": [
              "<Figure size 1800x600 with 3 Axes>"
            ],
            "image/png": "[encoded data removed]"
          },
          "metadata": {}
        },
        {
          "output_type": "display_data",
          "data": {
            "text/plain": [
              "<Figure size 1800x600 with 3 Axes>"
            ],
            "image/png": "[encoded data removed]"
          },
          "metadata": {}
        },
        {
          "output_type": "display_data",
          "data": {
            "text/plain": [
              "<Figure size 1800x600 with 3 Axes>"
            ],
            "image/png": "[encoded data removed]"
          },
          "metadata": {}
        }
      ],
      "source": [
        "model.load_state_dict(torch.load(os.path.join(root_dir, \"best_metric_model.pth\"), weights_only=True))\n",
        "model.eval()\n",
        "with torch.no_grad():\n",
        "    for i, val_data in enumerate(val_loader):\n",
        "        roi_size = (160, 160, 160)\n",
        "        sw_batch_size = 4\n",
        "        val_outputs = sliding_window_inference(val_data[\"image\"].to(device), roi_size, sw_batch_size, model)\n",
        "        # plot the slice [:, :, 80]\n",
        "        idx = 40\n",
        "        plt.figure(\"check\", (18, 6))\n",
        "        plt.subplot(1, 3, 1)\n",
        "        plt.title(f\"image {i}\")\n",
        "        plt.imshow(val_data[\"image\"][0, 0, :, :,idx], cmap=\"gray\")\n",
        "        plt.subplot(1, 3, 2)\n",
        "        plt.title(f\"label {i}\")\n",
        "        plt.imshow(val_data[\"label\"][0, 0, :, :, idx])\n",
        "        plt.subplot(1, 3, 3)\n",
        "        plt.title(f\"output {i}\")\n",
        "        plt.imshow(torch.argmax(val_outputs, dim=1).detach().cpu()[0, :, :, idx])\n",
        "        plt.show()\n",
        "        if i == 2:\n",
        "            break"
      ]
    },
    {
      "cell_type": "markdown",
      "metadata": {
        "id": "k8ffKLXJT6lT"
      },
      "source": [
        "## Evaluation on original image spacings"
      ]
    },
    {
      "cell_type": "code",
      "execution_count": 20,
      "metadata": {
        "id": "pPOB2XV2T6lT"
      },
      "outputs": [],
      "source": [
        "val_org_transforms = Compose(\n",
        "    [\n",
        "        LoadImaged(keys=[\"image\", \"label\"]),\n",
        "        EnsureChannelFirstd(keys=[\"image\", \"label\"]),\n",
        "        Orientationd(keys=[\"image\"], axcodes=\"RAS\"),\n",
        "        Spacingd(keys=[\"image\"], pixdim=(1.5, 1.5, 2.0), mode=\"bilinear\"),\n",
        "        ScaleIntensityRangePercentilesd(\n",
        "            keys=[\"image\"],\n",
        "            lower=0.5,     # 0.5 percentile\n",
        "            upper=99.5,    # 99.5 percentile\n",
        "            b_min=0.0,\n",
        "            b_max=1.0,\n",
        "            clip=True,\n",
        "        ),\n",
        "        CropForegroundd(keys=[\"image\"], source_key=\"image\", allow_smaller=True),\n",
        "    ]\n",
        ")\n",
        "\n",
        "val_org_ds = Dataset(data=val_files, transform=val_org_transforms)\n",
        "val_org_loader = DataLoader(val_org_ds, batch_size=1, num_workers=4)\n",
        "\n",
        "post_transforms = Compose(\n",
        "    [\n",
        "        Invertd(\n",
        "            keys=\"pred\",\n",
        "            transform=val_org_transforms,\n",
        "            orig_keys=\"image\",\n",
        "            meta_keys=\"pred_meta_dict\",\n",
        "            orig_meta_keys=\"image_meta_dict\",\n",
        "            meta_key_postfix=\"meta_dict\",\n",
        "            nearest_interp=False,\n",
        "            to_tensor=True,\n",
        "            device=\"cpu\",\n",
        "        ),\n",
        "        AsDiscreted(keys=\"pred\", argmax=True, to_onehot=2),\n",
        "        AsDiscreted(keys=\"label\", to_onehot=2),\n",
        "    ]\n",
        ")"
      ]
    },
    {
      "cell_type": "code",
      "execution_count": 21,
      "metadata": {
        "id": "66fLbzCWT6lT",
        "outputId": "ed347441-5d79-4a7f-8b5a-4d3c24074d4e",
        "colab": {
          "base_uri": "https://localhost:8080/"
        }
      },
      "outputs": [
        {
          "output_type": "stream",
          "name": "stdout",
          "text": [
            "Metric on original image spacing:  0.7122522592544556\n"
          ]
        }
      ],
      "source": [
        "model.load_state_dict(torch.load(os.path.join(root_dir, \"best_metric_model.pth\"), weights_only=True))\n",
        "model.eval()\n",
        "\n",
        "with torch.no_grad():\n",
        "    for val_data in val_org_loader:\n",
        "        val_inputs = val_data[\"image\"].to(device)\n",
        "        roi_size = (160, 160, 160)\n",
        "        sw_batch_size = 4\n",
        "        val_data[\"pred\"] = sliding_window_inference(val_inputs, roi_size, sw_batch_size, model)\n",
        "        val_data = [post_transforms(i) for i in decollate_batch(val_data)]\n",
        "        val_outputs, val_labels = from_engine([\"pred\", \"label\"])(val_data)\n",
        "        # compute metric for current iteration\n",
        "        dice_metric(y_pred=val_outputs, y=val_labels)\n",
        "\n",
        "    # aggregate the final mean dice result\n",
        "    metric_org = dice_metric.aggregate().item()\n",
        "    # reset the status for next validation round\n",
        "    dice_metric.reset()\n",
        "\n",
        "print(\"Metric on original image spacing: \", metric_org)"
      ]
    },
    {
      "cell_type": "markdown",
      "metadata": {
        "id": "wQf0koPOT6lT"
      },
      "source": [
        "## Inference on Test Set"
      ]
    },
    {
      "cell_type": "code",
      "execution_count": null,
      "metadata": {
        "id": "128z26nrT6lT"
      },
      "outputs": [],
      "source": [
        "test_images = sorted(glob.glob(os.path.join(data_dir, \"imagesTs\", \"*.nii.gz\")))\n",
        "\n",
        "test_data = [{\"image\": image} for image in test_images]\n",
        "\n",
        "\n",
        "test_org_transforms = Compose(\n",
        "    [\n",
        "        LoadImaged(keys=\"image\"),\n",
        "        EnsureChannelFirstd(keys=\"image\"),\n",
        "        Orientationd(keys=[\"image\"], axcodes=\"RAS\"),\n",
        "        Spacingd(keys=[\"image\"], pixdim=(1.5, 1.5, 2.0), mode=\"bilinear\"),\n",
        "        ScaleIntensityRanged(\n",
        "            keys=[\"image\"],\n",
        "            a_min=-57,\n",
        "            a_max=164,\n",
        "            b_min=0.0,\n",
        "            b_max=1.0,\n",
        "            clip=True,\n",
        "        ),\n",
        "        CropForegroundd(keys=[\"image\"], source_key=\"image\", allow_smaller=True),\n",
        "    ]\n",
        ")\n",
        "\n",
        "test_org_ds = Dataset(data=test_data, transform=test_org_transforms)\n",
        "\n",
        "test_org_loader = DataLoader(test_org_ds, batch_size=1, num_workers=4)\n",
        "\n",
        "post_transforms = Compose(\n",
        "    [\n",
        "        Invertd(\n",
        "            keys=\"pred\",\n",
        "            transform=test_org_transforms,\n",
        "            orig_keys=\"image\",\n",
        "            meta_keys=\"pred_meta_dict\",\n",
        "            orig_meta_keys=\"image_meta_dict\",\n",
        "            meta_key_postfix=\"meta_dict\",\n",
        "            nearest_interp=False,\n",
        "            to_tensor=True,\n",
        "        ),\n",
        "        AsDiscreted(keys=\"pred\", argmax=True, to_onehot=2),\n",
        "        SaveImaged(keys=\"pred\", meta_keys=\"pred_meta_dict\", output_dir=\"./out\", output_postfix=\"seg\", resample=False),\n",
        "    ]\n",
        ")"
      ]
    },
    {
      "cell_type": "code",
      "execution_count": null,
      "metadata": {
        "id": "70bEorvxT6lT"
      },
      "outputs": [],
      "source": [
        "# # uncomment the following lines to visualize the predicted results\n",
        "# from monai.transforms import LoadImage\n",
        "# loader = LoadImage()"
      ]
    },
    {
      "cell_type": "code",
      "execution_count": null,
      "metadata": {
        "id": "3RfyxjUWT6lT"
      },
      "outputs": [],
      "source": [
        "model.load_state_dict(torch.load(os.path.join(root_dir, \"best_metric_model.pth\"), weights_only=True))\n",
        "model.eval()\n",
        "\n",
        "with torch.no_grad():\n",
        "    for test_data in test_org_loader:\n",
        "        test_inputs = test_data[\"image\"].to(device)\n",
        "        roi_size = (160, 160, 160)\n",
        "        sw_batch_size = 4\n",
        "        test_data[\"pred\"] = sliding_window_inference(test_inputs, roi_size, sw_batch_size, model)\n",
        "\n",
        "        test_data = [post_transforms(i) for i in decollate_batch(test_data)]\n",
        "\n",
        "#         # uncomment the following lines to visualize the predicted results\n",
        "#         test_output = from_engine([\"pred\"])(test_data)\n",
        "\n",
        "#         original_image = loader(test_output[0].meta[\"filename_or_obj\"])\n",
        "\n",
        "#         plt.figure(\"check\", (18, 6))\n",
        "#         plt.subplot(1, 2, 1)\n",
        "#         plt.imshow(original_image[:, :, 20], cmap=\"gray\")\n",
        "#         plt.subplot(1, 2, 2)\n",
        "#         plt.imshow(test_output[0].detach().cpu()[1, :, :, 20])\n",
        "#         plt.show()"
      ]
    },
    {
      "cell_type": "markdown",
      "metadata": {
        "id": "hwAgMvfDT6lT"
      },
      "source": [
        "## Cleanup data directory\n",
        "\n",
        "Remove directory if a temporary was used."
      ]
    },
    {
      "cell_type": "code",
      "execution_count": null,
      "metadata": {
        "id": "ELIaIa_aT6lT"
      },
      "outputs": [],
      "source": [
        "if directory is None:\n",
        "    shutil.rmtree(root_dir)"
      ]
    }
  ],
  "metadata": {
    "kernelspec": {
      "display_name": "Python 3",
      "name": "python3"
    },
    "language_info": {
      "codemirror_mode": {
        "name": "ipython",
        "version": 3
      },
      "file_extension": ".py",
      "mimetype": "text/x-python",
      "name": "python",
      "nbconvert_exporter": "python",
      "pygments_lexer": "ipython3",
      "version": "3.8.13"
    },
    "colab": {
      "provenance": [],
      "gpuType": "T4",
      "include_colab_link": true
    },
    "accelerator": "GPU"
  },
  "nbformat": 4,
  "nbformat_minor": 0
}