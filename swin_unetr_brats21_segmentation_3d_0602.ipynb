{
 "cells": [
  {
   "cell_type": "markdown",
   "metadata": {
    "id": "YG-MGJt_mgwy"
   },
   "source": [
    "Copyright (c) MONAI Consortium  \n",
    "Licensed under the Apache License, Version 2.0 (the \"License\");  \n",
    "you may not use this file except in compliance with the License.  \n",
    "You may obtain a copy of the License at  \n",
    "&nbsp;&nbsp;&nbsp;&nbsp;http://www.apache.org/licenses/LICENSE-2.0  \n",
    "Unless required by applicable law or agreed to in writing, software  \n",
    "distributed under the License is distributed on an \"AS IS\" BASIS,  \n",
    "WITHOUT WARRANTIES OR CONDITIONS OF ANY KIND, either express or implied.  \n",
    "See the License for the specific language governing permissions and  \n",
    "limitations under the License.\n",
    "\n",
    "# 3D Brain Tumor Segmentation with Swin UNETR (BraTS 21 Challenge)\n",
    "\n",
    "\n",
    "This tutorial uses the [Swin UNETR](https://arxiv.org/pdf/2201.01266.pdf) [1,2] model for the task of brain tumor segmentation using the [BraTS 21](http://braintumorsegmentation.org/) challenge dataset [3,4,5,6]. Swin UNETR ranked among top-performing models in the BraTS 21 validation phase. The architecture of Swin UNETR is demonstrated below\n",
    "\n",
    "![swin_brats](https://github.com/Project-MONAI/tutorials/blob/main/figures/swin_brats21.png?raw=1)\n",
    "\n",
    "The following features are included in this tutorial:\n",
    "1. Transforms for dictionary format data.\n",
    "1. Define a new transform according to MONAI transform API.\n",
    "1. Load Nifti image with metadata, load a list of images and stack them.\n",
    "1. Randomly rotate across each axes for data augmentation.\n",
    "1. Randomly adjust the intensity for data augmentation.\n",
    "1. Cache IO and transforms to accelerate training and validation.\n",
    "1. Swin UNETR model, Dice loss function, Mean Dice metric for brain tumor segmentation task.\n",
    "\n",
    "For more information access to pre-trained models and distributed training, please refer to Swin UNETR BraTS 21 official repository:\n",
    "\n",
    "https://github.com/Project-MONAI/research-contributions/tree/main/SwinUNETR/BRATS21\n",
    "\n",
    "## Data Description\n",
    "\n",
    "Modality: MRI\n",
    "Size: 1470 3D volumes (1251 Training + 219 Validation)  \n",
    "Challenge: RSNA-ASNR-MICCAI Brain Tumor Segmentation (BraTS) Challenge\n",
    "\n",
    "The dataset needs to be downloaded from the official BraTS 21 challenge portal as in the following\n",
    "\n",
    "https://www.synapse.org/#!Synapse:syn27046444/wiki/616992\n",
    "\n",
    "The JSON file containing training and validation sets (internal split) needs to be downloaded from this [link](https://developer.download.nvidia.com/assets/Clara/monai/tutorials/brats21_folds.json) and placed in the same folder as the dataset. As discussed in the following, this tutorial uses fold 1 for training a Swin UNETR model on the BraTS 21 challenge.\n",
    "\n",
    "### Tumor Characteristics\n",
    "\n",
    "The sub-regions considered for evaluation in the BraTS 21 challenge are the \"enhancing tumor\" (ET), the \"tumor core\" (TC), and the \"whole tumor\" (WT). The ET is described by areas that show hyper-intensity in T1Gd when compared to T1, but also when compared to “healthy” white matter in T1Gd. The TC describes the bulk of the tumor, which is what is typically resected. The TC entails the ET, as well as the necrotic (NCR) parts of the tumor. The appearance of NCR is typically hypo-intense in T1-Gd when compared to T1. The WT describes the complete extent of the disease, as it entails the TC and the peritumoral edematous/invaded tissue (ED), which is typically depicted by the hyper-intense signal in FLAIR [[BraTS 21]](http://braintumorsegmentation.org/).\n",
    "\n",
    "The provided segmentation labels have values of 1 for NCR, 2 for ED, 4 for ET, and 0 for everything else.\n",
    "\n",
    "![image](https://github.com/Project-MONAI/tutorials/blob/main/figures/fig_brats21.png?raw=1)\n",
    "\n",
    "Figure from [Baid et al.](https://arxiv.org/pdf/2107.02314v1.pdf) [3]\n",
    "\n",
    "\n",
    "\n",
    "## References\n",
    "\n",
    "\n",
    "If you find this tutorial helpful, please consider citing [1] and [2]:\n",
    "\n",
    "[1]: Hatamizadeh, A., Nath, V., Tang, Y., Yang, D., Roth, H. and Xu, D., 2022. Swin UNETR: Swin Transformers for Semantic Segmentation of Brain Tumors in MRI Images. arXiv preprint arXiv:2201.01266.\n",
    "\n",
    "[2]: Tang, Y., Yang, D., Li, W., Roth, H.R., Landman, B., Xu, D., Nath, V. and Hatamizadeh, A., 2022. Self-supervised pre-training of swin transformers for 3d medical image analysis. In Proceedings of the IEEE/CVF Conference on Computer Vision and Pattern Recognition (pp. 20730-20740).\n",
    "\n",
    "\n",
    "### BraTS Dataset References\n",
    "\n",
    "[3] U.Baid, et al., The RSNA-ASNR-MICCAI BraTS 2021 Benchmark on Brain Tumor Segmentation and Radiogenomic Classification, arXiv:2107.02314, 2021.\n",
    "\n",
    "[4] B. H. Menze, A. Jakab, S. Bauer, J. Kalpathy-Cramer, K. Farahani, J. Kirby, et al. \"The Multimodal Brain Tumor Image Segmentation Benchmark (BRATS)\", IEEE Transactions on Medical Imaging 34(10), 1993-2024 (2015) DOI: 10.1109/TMI.2014.2377694\n",
    "\n",
    "[5] S. Bakas, H. Akbari, A. Sotiras, M. Bilello, M. Rozycki, J.S. Kirby, et al., \"Advancing The Cancer Genome Atlas glioma MRI collections with expert segmentation labels and radiomic features\", Nature Scientific Data, 4:170117 (2017) DOI: 10.1038/sdata.2017.117\n",
    "\n",
    "[6] S. Bakas, H. Akbari, A. Sotiras, M. Bilello, M. Rozycki, J. Kirby, et al., \"Segmentation Labels and Radiomic Features for the Pre-operative Scans of the TCGA-GBM collection\", The Cancer Imaging Archive, 2017. DOI: 10.7937/K9/TCIA.2017.KLXWJJ1Q\n",
    "\n",
    "[![Open In Colab](https://colab.research.google.com/assets/colab-badge.svg)](https://colab.research.google.com/github/Project-MONAI/tutorials/blob/main/3d_segmentation/swin_unetr_brats21_segmentation_3d.ipynb)"
   ]
  },
  {
   "cell_type": "markdown",
   "metadata": {
    "id": "M0NziKuUmgw0"
   },
   "source": [
    "## Swin UNETR Model\n",
    "\n",
    "The inputs to [Swin UNETR](https://arxiv.org/pdf/2201.01266.pdf) are 3D multi-modal MRI images with 4 channels.\n",
    "The patch partition block creates non-overlapping patches of the input data and projects them into embedding tokens with a resolution of 128x128x128.\n",
    "The projected tokens are then encoded by using a 3D [Swin Transformer](https://openaccess.thecvf.com/content/ICCV2021/papers/Liu_Swin_Transformer_Hierarchical_Vision_Transformer_Using_Shifted_Windows_ICCV_2021_paper.pdf) in which the self-attention is computed within local windows.\n",
    "The interaction between different windows is obtained by using 3D window shifting as illustrated below.\n",
    "\n",
    "![image](https://github.com/Project-MONAI/tutorials/blob/main/figures/shift_patch.png?raw=1)\n",
    "\n",
    "The transformer-based encoder is connected to a CNN-decoder via skip connection at multiple resolutions.\n",
    "The segmentation output consists of 3 output channels corresponding to ET, WT, and TC sub-regions and is computed by using a 1x1x1 convolutional layer followed by Sigmoid activation function.\n"
   ]
  },
  {
   "cell_type": "markdown",
   "metadata": {
    "id": "ff5-ZK9ymgw0"
   },
   "source": [
    " ## Download dataset and json file\n",
    "\n",
    "- Register and download the official BraTS 21 dataset from the link below and place them into \"TrainingData\" in the dataset folder:\n",
    "\n",
    "  https://www.synapse.org/#!Synapse:syn27046444/wiki/616992\n",
    "  \n",
    "  For example, the address of a single file is as follows:\n",
    "  \n",
    "  \"TrainingData/BraTS2021_01146/BraTS2021_01146_flair.nii.gz\"\n",
    "  \n",
    "\n",
    "- Download the json file from this [link](https://developer.download.nvidia.com/assets/Clara/monai/tutorials/brats21_folds.json) and placed in the same folder as the dataset.\n"
   ]
  },
  {
   "cell_type": "markdown",
   "metadata": {
    "id": "RgqsOSKtmgw0"
   },
   "source": [
    "## Setup environment"
   ]
  },
  {
   "cell_type": "code",
   "execution_count": null,
   "metadata": {
    "id": "aji8a6uCmgw0"
   },
   "outputs": [],
   "source": [
    "!python -c \"import monai\" || pip install -q \"monai-weekly[nibabel]\"\n",
    "!python -c \"import matplotlib\" || pip install -q matplotlib\n",
    "%matplotlib inline"
   ]
  },
  {
   "cell_type": "markdown",
   "metadata": {
    "id": "vXLEw8VLmgw1"
   },
   "source": [
    "## Setup imports"
   ]
  },
  {
   "cell_type": "code",
   "execution_count": 1,
   "metadata": {
    "id": "rWUiCB2Jmgw1",
    "outputId": "d44f8a32-8b61-420c-fe73-3c3e982a7d40"
   },
   "outputs": [
    {
     "name": "stdout",
     "output_type": "stream",
     "text": [
      "MONAI version: 1.4.0\n",
      "Numpy version: 1.24.4\n",
      "Pytorch version: 2.1.1+cu118\n",
      "MONAI flags: HAS_EXT = False, USE_COMPILED = False, USE_META_DICT = False\n",
      "MONAI rev id: 46a5272196a6c2590ca2589029eed8e4d56ff008\n",
      "MONAI __file__: /home/<username>/.local/lib/python3.10/site-packages/monai/__init__.py\n",
      "\n",
      "Optional dependencies:\n",
      "Pytorch Ignite version: 0.4.11\n",
      "ITK version: 5.4.2\n",
      "Nibabel version: 5.3.2\n",
      "scikit-image version: 0.22.0\n",
      "scipy version: 1.11.4\n",
      "Pillow version: 10.1.0\n",
      "Tensorboard version: 2.19.0\n",
      "gdown version: 5.2.0\n",
      "TorchVision version: 0.16.1+cu118\n",
      "tqdm version: 4.66.1\n",
      "lmdb version: 1.6.2\n",
      "psutil version: 5.9.5\n",
      "pandas version: 2.2.3\n",
      "einops version: 0.8.1\n",
      "transformers version: NOT INSTALLED or UNKNOWN VERSION.\n",
      "mlflow version: NOT INSTALLED or UNKNOWN VERSION.\n",
      "pynrrd version: 1.1.3\n",
      "clearml version: NOT INSTALLED or UNKNOWN VERSION.\n",
      "\n",
      "For details about installing the optional dependencies, please visit:\n",
      "    https://docs.monai.io/en/latest/installation.html#installing-the-recommended-dependencies\n",
      "\n"
     ]
    }
   ],
   "source": [
    "import os\n",
    "import json\n",
    "import shutil\n",
    "import tempfile\n",
    "import time\n",
    "\n",
    "import matplotlib.pyplot as plt\n",
    "import numpy as np\n",
    "import nibabel as nib\n",
    "\n",
    "from monai.losses import DiceLoss\n",
    "from monai.inferers import sliding_window_inference\n",
    "from monai import transforms\n",
    "from monai.transforms import (\n",
    "    AsDiscrete,\n",
    "    Activations,\n",
    ")\n",
    "\n",
    "from monai.config import print_config\n",
    "from monai.metrics import DiceMetric\n",
    "from monai.utils.enums import MetricReduction\n",
    "from monai.networks.nets import SwinUNETR\n",
    "from monai import data\n",
    "from monai.data import decollate_batch\n",
    "from functools import partial\n",
    "\n",
    "import torch\n",
    "\n",
    "\n",
    "print_config()"
   ]
  },
  {
   "cell_type": "markdown",
   "metadata": {
    "id": "kD-eU9Vpmgw1"
   },
   "source": [
    "## Setup data directory\n",
    "\n",
    "You can specify a directory with the `MONAI_DATA_DIRECTORY` environment variable.  \n",
    "This allows you to save results and reuse downloads.  \n",
    "If not specified a temporary directory will be used."
   ]
  },
  {
   "cell_type": "code",
   "execution_count": 2,
   "metadata": {
    "id": "qbO-NPuOmgw1"
   },
   "outputs": [
    {
     "name": "stdout",
     "output_type": "stream",
     "text": [
      "/tmp/tmp1smapieo\n"
     ]
    }
   ],
   "source": [
    "directory = os.environ.get(\"MONAI_DATA_DIRECTORY\")\n",
    "if directory is not None:\n",
    "    os.makedirs(directory, exist_ok=True)\n",
    "root_dir = tempfile.mkdtemp() if directory is None else directory\n",
    "print(root_dir)"
   ]
  },
  {
   "cell_type": "markdown",
   "metadata": {
    "id": "Ae5gCUcemgw1"
   },
   "source": [
    "## Setup average meter, fold reader, checkpoint saver"
   ]
  },
  {
   "cell_type": "code",
   "execution_count": 3,
   "metadata": {
    "id": "N5NAlqO5mgw1"
   },
   "outputs": [],
   "source": [
    "class AverageMeter(object):\n",
    "    def __init__(self):\n",
    "        self.reset()\n",
    "\n",
    "    def reset(self):\n",
    "        self.val = 0\n",
    "        self.avg = 0\n",
    "        self.sum = 0\n",
    "        self.count = 0\n",
    "\n",
    "    def update(self, val, n=1):\n",
    "        self.val = val\n",
    "        self.sum += val * n\n",
    "        self.count += n\n",
    "        self.avg = np.where(self.count > 0, self.sum / self.count, self.sum)\n",
    "\n",
    "\n",
    "def datafold_read(datalist, basedir, fold=0, key=\"training\"):\n",
    "    with open(datalist) as f:\n",
    "        json_data = json.load(f)\n",
    "\n",
    "    json_data = json_data[key]\n",
    "\n",
    "    for d in json_data:\n",
    "        for k in d:\n",
    "            if isinstance(d[k], list):\n",
    "                d[k] = [os.path.join(basedir, iv) for iv in d[k]]\n",
    "            elif isinstance(d[k], str):\n",
    "                d[k] = os.path.join(basedir, d[k]) if len(d[k]) > 0 else d[k]\n",
    "\n",
    "    tr = []\n",
    "    val = []\n",
    "    for d in json_data:\n",
    "        if \"fold\" in d and d[\"fold\"] == fold:\n",
    "            val.append(d)\n",
    "        else:\n",
    "            tr.append(d)\n",
    "\n",
    "    return tr, val\n",
    "\n",
    "\n",
    "def save_checkpoint(model, epoch, filename=\"model.pt\", best_acc=0, dir_add=root_dir):\n",
    "    state_dict = model.state_dict()\n",
    "    save_dict = {\"epoch\": epoch, \"best_acc\": best_acc, \"state_dict\": state_dict}\n",
    "    filename = os.path.join(dir_add, filename)\n",
    "    torch.save(save_dict, filename)\n",
    "    print(\"Saving checkpoint\", filename)"
   ]
  },
  {
   "cell_type": "markdown",
   "metadata": {
    "id": "9uymrKXxmgw1"
   },
   "source": [
    "## Setup dataloader"
   ]
  },
  {
   "cell_type": "raw",
   "metadata": {
    "id": "HwAtfIaMmgw2"
   },
   "source": [
    "def get_loader(batch_size, data_dir, json_list, fold, roi):\n",
    "    data_dir = data_dir\n",
    "    datalist_json = json_list\n",
    "    train_files, validation_files = datafold_read(datalist=datalist_json, basedir=data_dir, fold=fold)\n",
    "    train_transform = transforms.Compose(\n",
    "        [\n",
    "            transforms.LoadImaged(keys=[\"image\", \"label\"]),\n",
    "            transforms.ConvertToMultiChannelBasedOnBratsClassesd(keys=\"label\"),\n",
    "            transforms.CropForegroundd(\n",
    "                keys=[\"image\", \"label\"],\n",
    "                source_key=\"image\",\n",
    "                k_divisible=[roi[0], roi[1], roi[2]],\n",
    "                allow_smaller=True,\n",
    "            ),\n",
    "            transforms.RandSpatialCropd(\n",
    "                keys=[\"image\", \"label\"],\n",
    "                roi_size=[roi[0], roi[1], roi[2]],\n",
    "                random_size=False,\n",
    "            ),\n",
    "            transforms.RandFlipd(keys=[\"image\", \"label\"], prob=0.5, spatial_axis=0),\n",
    "            transforms.RandFlipd(keys=[\"image\", \"label\"], prob=0.5, spatial_axis=1),\n",
    "            transforms.RandFlipd(keys=[\"image\", \"label\"], prob=0.5, spatial_axis=2),\n",
    "            transforms.NormalizeIntensityd(keys=\"image\", nonzero=True, channel_wise=True),\n",
    "            transforms.RandScaleIntensityd(keys=\"image\", factors=0.1, prob=1.0),\n",
    "            transforms.RandShiftIntensityd(keys=\"image\", offsets=0.1, prob=1.0),\n",
    "        ]\n",
    "    )\n",
    "    val_transform = transforms.Compose(\n",
    "        [\n",
    "            transforms.LoadImaged(keys=[\"image\", \"label\"]),\n",
    "            transforms.ConvertToMultiChannelBasedOnBratsClassesd(keys=\"label\"),\n",
    "            transforms.NormalizeIntensityd(keys=\"image\", nonzero=True, channel_wise=True),\n",
    "        ]\n",
    "    )\n",
    "\n",
    "    train_ds = data.Dataset(data=train_files, transform=train_transform)\n",
    "\n",
    "    train_loader = data.DataLoader(\n",
    "        train_ds,\n",
    "        batch_size=batch_size,\n",
    "        shuffle=True,\n",
    "        num_workers=8,\n",
    "        pin_memory=True,\n",
    "    )\n",
    "    val_ds = data.Dataset(data=validation_files, transform=val_transform)\n",
    "    val_loader = data.DataLoader(\n",
    "        val_ds,\n",
    "        batch_size=1,\n",
    "        shuffle=False,\n",
    "        num_workers=8,\n",
    "        pin_memory=True,\n",
    "    )\n",
    "\n",
    "    return train_loader, val_loader"
   ]
  },
  {
   "cell_type": "raw",
   "metadata": {},
   "source": [
    "import os\n",
    "from glob import glob\n",
    "from monai.data import Dataset, DataLoader\n",
    "from monai.transforms import (\n",
    "    Compose, LoadImaged, ConvertToMultiChannelBasedOnBratsClassesd, CropForegroundd,\n",
    "    RandSpatialCropd, RandFlipd, NormalizeIntensityd, RandScaleIntensityd, RandShiftIntensityd\n",
    ")\n",
    "\n",
    "def get_loader(batch_size, data_dir, roi, train_ratio=0.8):\n",
    "    # Automatically generate image-label pairs\n",
    "    image_files = sorted(glob(os.path.join(data_dir, \"*\", \"*t2f.nii.gz\")))\n",
    "    label_files = sorted(glob(os.path.join(data_dir, \"*\", \"*seg.nii.gz\")))\n",
    "    \n",
    "    print(f\"[🔍] Found {len(image_files)} image files\")\n",
    "    print(f\"[🔍] Found {len(label_files)} label files\")\n",
    "    print(\"[🧩] Sample image file:\", image_files[:1])\n",
    "    print(\"[🧩] Sample label file:\", label_files[:1])\n",
    "    \n",
    "    data_pairs = [{\"image\": img, \"label\": lbl} for img, lbl in zip(image_files, label_files)]\n",
    "\n",
    "    # Split into train/val\n",
    "    n_train = int(len(data_pairs) * train_ratio)\n",
    "    train_files = data_pairs[:n_train]\n",
    "    val_files = data_pairs[n_train:]\n",
    "\n",
    "    # Define transforms\n",
    "    train_transform = Compose([\n",
    "        LoadImaged(keys=[\"image\", \"label\"]),\n",
    "        ConvertToMultiChannelBasedOnBratsClassesd(keys=\"label\"),\n",
    "        CropForegroundd(keys=[\"image\", \"label\"], source_key=\"image\", k_divisible=roi, allow_smaller=True),\n",
    "        RandSpatialCropd(keys=[\"image\", \"label\"], roi_size=roi, random_size=False),\n",
    "        RandFlipd(keys=[\"image\", \"label\"], prob=0.5, spatial_axis=0),\n",
    "        RandFlipd(keys=[\"image\", \"label\"], prob=0.5, spatial_axis=1),\n",
    "        RandFlipd(keys=[\"image\", \"label\"], prob=0.5, spatial_axis=2),\n",
    "        NormalizeIntensityd(keys=\"image\", nonzero=True, channel_wise=True),\n",
    "        RandScaleIntensityd(keys=\"image\", factors=0.1, prob=1.0),\n",
    "        RandShiftIntensityd(keys=\"image\", offsets=0.1, prob=1.0),\n",
    "    ])\n",
    "    val_transform = Compose([\n",
    "        LoadImaged(keys=[\"image\", \"label\"]),\n",
    "        ConvertToMultiChannelBasedOnBratsClassesd(keys=\"label\"),\n",
    "        NormalizeIntensityd(keys=\"image\", nonzero=True, channel_wise=True),\n",
    "    ])\n",
    "\n",
    "    # Datasets and loaders\n",
    "    train_ds = Dataset(data=train_files, transform=train_transform)\n",
    "    val_ds = Dataset(data=val_files, transform=val_transform)\n",
    "\n",
    "    train_loader = DataLoader(train_ds, batch_size=batch_size, shuffle=True, num_workers=8, pin_memory=True)\n",
    "    val_loader = DataLoader(val_ds, batch_size=1, shuffle=False, num_workers=8, pin_memory=True)\n",
    "\n",
    "    return train_loader, val_loader\n"
   ]
  },
  {
   "cell_type": "code",
   "execution_count": 4,
   "metadata": {},
   "outputs": [],
   "source": [
    "import os\n",
    "from glob import glob\n",
    "from monai.data import Dataset, DataLoader\n",
    "from monai.transforms import (\n",
    "    Compose, LoadImaged, EnsureChannelFirstd, ConcatItemsd,\n",
    "    CropForegroundd, RandSpatialCropd, RandFlipd,\n",
    "    NormalizeIntensityd, RandScaleIntensityd, RandShiftIntensityd,\n",
    "    ConvertToMultiChannelBasedOnBratsClassesd\n",
    ")\n",
    "\n",
    "def get_loader(batch_size, data_dir, roi, train_ratio=0.8):\n",
    "    # Identify subjects\n",
    "    subjects = sorted(os.listdir(data_dir))\n",
    "    \n",
    "    data_pairs = []\n",
    "    for subj in subjects:\n",
    "        subj_dir = os.path.join(data_dir, subj)\n",
    "        data = {\n",
    "            \"image_t1\": os.path.join(subj_dir, f\"{subj}-t1n.nii.gz\"),\n",
    "            \"image_t1ce\": os.path.join(subj_dir, f\"{subj}-t1c.nii.gz\"),\n",
    "            \"image_t2\": os.path.join(subj_dir, f\"{subj}-t2w.nii.gz\"),\n",
    "            \"image_t2f\": os.path.join(subj_dir, f\"{subj}-t2f.nii.gz\"),\n",
    "            \"label\": os.path.join(subj_dir, f\"{subj}-seg.nii.gz\")\n",
    "        }\n",
    "        # Check all files exist\n",
    "        if all(os.path.exists(p) for p in data.values()):\n",
    "            data_pairs.append(data)\n",
    "\n",
    "    print(f\"[📦] Total usable subjects: {len(data_pairs)}\")\n",
    "\n",
    "    # Split train/val\n",
    "    n_train = int(len(data_pairs) * train_ratio)\n",
    "    train_files = data_pairs[:n_train]\n",
    "    val_files = data_pairs[n_train:]\n",
    "\n",
    "    # Transforms\n",
    "    keys = [\"image_t1\", \"image_t1ce\", \"image_t2\", \"image_t2f\"]\n",
    "    train_transform = Compose([\n",
    "        LoadImaged(keys=keys + [\"label\"]),\n",
    "        EnsureChannelFirstd(keys=keys + [\"label\"]),\n",
    "        ConcatItemsd(keys=keys, name=\"image\"),  # 👈 Stack into 4 channels\n",
    "        ConvertToMultiChannelBasedOnBratsClassesd(keys=\"label\"),\n",
    "        CropForegroundd(keys=[\"image\", \"label\"], source_key=\"image\", k_divisible=roi, allow_smaller=True),\n",
    "        RandSpatialCropd(keys=[\"image\", \"label\"], roi_size=roi, random_size=False),\n",
    "        RandFlipd(keys=[\"image\", \"label\"], prob=0.5, spatial_axis=0),\n",
    "        RandFlipd(keys=[\"image\", \"label\"], prob=0.5, spatial_axis=1),\n",
    "        RandFlipd(keys=[\"image\", \"label\"], prob=0.5, spatial_axis=2),\n",
    "        NormalizeIntensityd(keys=\"image\", nonzero=True, channel_wise=True),\n",
    "        RandScaleIntensityd(keys=\"image\", factors=0.1, prob=1.0),\n",
    "        RandShiftIntensityd(keys=\"image\", offsets=0.1, prob=1.0),\n",
    "    ])\n",
    "    val_transform = Compose([\n",
    "        LoadImaged(keys=keys + [\"label\"]),\n",
    "        EnsureChannelFirstd(keys=keys + [\"label\"]),\n",
    "        ConcatItemsd(keys=keys, name=\"image\"),\n",
    "        ConvertToMultiChannelBasedOnBratsClassesd(keys=\"label\"),\n",
    "        NormalizeIntensityd(keys=\"image\", nonzero=True, channel_wise=True),\n",
    "    ])\n",
    "\n",
    "    train_ds = Dataset(data=train_files, transform=train_transform)\n",
    "    val_ds = Dataset(data=val_files, transform=val_transform)\n",
    "\n",
    "    train_loader = DataLoader(train_ds, batch_size=batch_size, shuffle=True, num_workers=8, pin_memory=True)\n",
    "    val_loader = DataLoader(val_ds, batch_size=1, shuffle=False, num_workers=8, pin_memory=True)\n",
    "\n",
    "    return train_loader, val_loader\n"
   ]
  },
  {
   "cell_type": "markdown",
   "metadata": {
    "id": "jGeJ30ZAmgw2"
   },
   "source": [
    "## Set dataset root directory and hyper-parameters\n",
    "\n",
    "The following hyper-parameters are set for the purpose of this tutorial. However, additional changes, as described below, maybe beneficial.\n",
    "\n",
    "If GPU memory is not sufficient, reduce sw_batch_size to 2 or batch_size to 1.\n",
    "\n",
    "Decrease val_every (validation frequency) to 1 for obtaining more accurate checkpoints."
   ]
  },
  {
   "cell_type": "code",
   "execution_count": 5,
   "metadata": {
    "id": "R_sU1rgymgw2"
   },
   "outputs": [
    {
     "name": "stdout",
     "output_type": "stream",
     "text": [
      "[📦] Total usable subjects: 1350\n"
     ]
    }
   ],
   "source": [
    "data_dir = \"/media/volume1/BraTS2025/1/BraTS-GLI/BraTS2024-BraTS-GLI-TrainingData/training_data1_v2\"\n",
    "#\\\\10.18.27.131\\new_storage_1\\BraTS2025\\1\\BraTS-GLI\\BraTS2024-BraTS-GLI-TrainingData\\training_data1_v2\\BraTS-GLI-00005-100\n",
    "roi = (96,96,96) #(128, 128, 128)\n",
    "batch_size = 2\n",
    "sw_batch_size = 4\n",
    "fold = 1\n",
    "infer_overlap = 0.5\n",
    "max_epochs = 100\n",
    "val_every = 10\n",
    "train_loader, val_loader = get_loader(batch_size, data_dir, roi, train_ratio=0.8)"
   ]
  },
  {
   "cell_type": "markdown",
   "metadata": {
    "id": "UQ_hBkwemgw2"
   },
   "source": [
    "## Check data shape and visualize"
   ]
  },
  {
   "cell_type": "code",
   "execution_count": 6,
   "metadata": {
    "id": "f9JRi6FNmgw2",
    "outputId": "568ef359-99a7-4898-fffe-a6825fc82686"
   },
   "outputs": [
    {
     "name": "stdout",
     "output_type": "stream",
     "text": [
      "image shape: (182, 218, 182), label shape: (182, 218, 182)\n"
     ]
    },
    {
     "data": {
      "image/png": "[encoded data removed]",
      "text/plain": [
       "<Figure size 1800x600 with 2 Axes>"
      ]
     },
     "metadata": {},
     "output_type": "display_data"
    }
   ],
   "source": [
    "img_add = os.path.join(data_dir, \"/media/volume1/BraTS2025/1/BraTS-GLI/BraTS2024-BraTS-GLI-TrainingData/training_data1_v2/BraTS-GLI-00005-100/BraTS-GLI-00005-100-t2f.nii.gz\")\n",
    "label_add = os.path.join(data_dir, \"/media/volume1/BraTS2025/1/BraTS-GLI/BraTS2024-BraTS-GLI-TrainingData/training_data1_v2/BraTS-GLI-00005-100/BraTS-GLI-00005-100-seg.nii.gz\")\n",
    "img = nib.load(img_add).get_fdata()\n",
    "label = nib.load(label_add).get_fdata()\n",
    "print(f\"image shape: {img.shape}, label shape: {label.shape}\")\n",
    "idx = 140\n",
    "plt.figure(\"image\", (18, 6))\n",
    "plt.subplot(1, 2, 1)\n",
    "plt.title(\"image\")\n",
    "plt.imshow(img[:, :, idx], cmap=\"gray\")\n",
    "plt.subplot(1, 2, 2)\n",
    "plt.title(\"label\")\n",
    "plt.imshow(label[:, :, idx])\n",
    "plt.show()"
   ]
  },
  {
   "cell_type": "markdown",
   "metadata": {
    "id": "ecOqlUzKmgw2"
   },
   "source": [
    "## Create Swin UNETR model\n",
    "\n",
    "In this scetion, we create Swin UNETR model for the 3-class brain tumor semantic segmentation. We use a feature size of 48. We also use gradient checkpointing (use_checkpoint) for more memory-efficient training. However, use_checkpoint for faster training if enough GPU memory is available.  "
   ]
  },
  {
   "cell_type": "code",
   "execution_count": 7,
   "metadata": {
    "id": "nxsvfV8Nmgw2"
   },
   "outputs": [
    {
     "name": "stderr",
     "output_type": "stream",
     "text": [
      "monai.networks.nets.swin_unetr SwinUNETR.__init__:img_size: Argument `img_size` has been deprecated since version 1.3. It will be removed in version 1.5. The img_size argument is not required anymore and checks on the input size are run during forward().\n"
     ]
    }
   ],
   "source": [
    "os.environ[\"CUDA_DEVICE_ORDER\"] = \"PCI_BUS_ID\"\n",
    "device = torch.device(\"cuda\" if torch.cuda.is_available() else \"cpu\")\n",
    "\n",
    "model = SwinUNETR(\n",
    "    img_size = roi,\n",
    "    in_channels=4,\n",
    "    out_channels=3,\n",
    "    feature_size=24, #48\n",
    "    drop_rate=0.0,\n",
    "    attn_drop_rate=0.0,\n",
    "    dropout_path_rate=0.0,\n",
    "    use_checkpoint=True,\n",
    ").to(device)"
   ]
  },
  {
   "cell_type": "markdown",
   "metadata": {
    "id": "Sf7VDyW4mgw2"
   },
   "source": [
    "## Optimizer and loss function"
   ]
  },
  {
   "cell_type": "code",
   "execution_count": 8,
   "metadata": {
    "id": "g7KmFvZ_mgw2"
   },
   "outputs": [],
   "source": [
    "torch.backends.cudnn.benchmark = True\n",
    "dice_loss = DiceLoss(to_onehot_y=False, sigmoid=True)\n",
    "post_sigmoid = Activations(sigmoid=True)\n",
    "post_pred = AsDiscrete(argmax=False, threshold=0.5)\n",
    "dice_acc = DiceMetric(include_background=True, reduction=MetricReduction.MEAN_BATCH, get_not_nans=True)\n",
    "model_inferer = partial(\n",
    "    sliding_window_inference,\n",
    "    roi_size=[roi[0], roi[1], roi[2]],\n",
    "    sw_batch_size=sw_batch_size,\n",
    "    predictor=model,\n",
    "    overlap=infer_overlap,\n",
    ")\n",
    "\n",
    "optimizer = torch.optim.AdamW(model.parameters(), lr=1e-4, weight_decay=1e-5)\n",
    "scheduler = torch.optim.lr_scheduler.CosineAnnealingLR(optimizer, T_max=max_epochs)"
   ]
  },
  {
   "cell_type": "markdown",
   "metadata": {
    "id": "cxnZERhimgw2"
   },
   "source": [
    "## Define Train and Validation Epoch"
   ]
  },
  {
   "cell_type": "code",
   "execution_count": 9,
   "metadata": {
    "id": "se2xX6ghmgw2",
    "scrolled": true
   },
   "outputs": [],
   "source": [
    "def train_epoch(model, loader, optimizer, epoch, loss_func):\n",
    "    model.train()\n",
    "    start_time = time.time()\n",
    "    run_loss = AverageMeter()\n",
    "    for idx, batch_data in enumerate(loader):\n",
    "        data, target = batch_data[\"image\"].to(device), batch_data[\"label\"].to(device)\n",
    "        logits = model(data)\n",
    "        loss = loss_func(logits, target)\n",
    "        loss.backward()\n",
    "        optimizer.step()\n",
    "        run_loss.update(loss.item(), n=batch_size)\n",
    "        print(\n",
    "            \"Epoch {}/{} {}/{}\".format(epoch, max_epochs, idx, len(loader)),\n",
    "            \"loss: {:.4f}\".format(run_loss.avg),\n",
    "            \"time {:.2f}s\".format(time.time() - start_time),\n",
    "        )\n",
    "        start_time = time.time()\n",
    "    return run_loss.avg\n",
    "\n",
    "\n",
    "def val_epoch(\n",
    "    model,\n",
    "    loader,\n",
    "    epoch,\n",
    "    acc_func,\n",
    "    model_inferer=None,\n",
    "    post_sigmoid=None,\n",
    "    post_pred=None,\n",
    "):\n",
    "    model.eval()\n",
    "    start_time = time.time()\n",
    "    run_acc = AverageMeter()\n",
    "\n",
    "    with torch.no_grad():\n",
    "        for idx, batch_data in enumerate(loader):\n",
    "            data, target = batch_data[\"image\"].to(device), batch_data[\"label\"].to(device)\n",
    "            logits = model_inferer(data)\n",
    "            val_labels_list = decollate_batch(target)\n",
    "            val_outputs_list = decollate_batch(logits)\n",
    "            val_output_convert = [post_pred(post_sigmoid(val_pred_tensor)) for val_pred_tensor in val_outputs_list]\n",
    "            acc_func.reset()\n",
    "            acc_func(y_pred=val_output_convert, y=val_labels_list)\n",
    "            acc, not_nans = acc_func.aggregate()\n",
    "            run_acc.update(acc.cpu().numpy(), n=not_nans.cpu().numpy())\n",
    "            dice_tc = run_acc.avg[0]\n",
    "            dice_wt = run_acc.avg[1]\n",
    "            dice_et = run_acc.avg[2]\n",
    "            print(\n",
    "                \"Val {}/{} {}/{}\".format(epoch, max_epochs, idx, len(loader)),\n",
    "                \", dice_tc:\",\n",
    "                dice_tc,\n",
    "                \", dice_wt:\",\n",
    "                dice_wt,\n",
    "                \", dice_et:\",\n",
    "                dice_et,\n",
    "                \", time {:.2f}s\".format(time.time() - start_time),\n",
    "            )\n",
    "            start_time = time.time()\n",
    "\n",
    "    return run_acc.avg"
   ]
  },
  {
   "cell_type": "markdown",
   "metadata": {
    "id": "RgSb1fLumgw2"
   },
   "source": [
    "## Define Trainer"
   ]
  },
  {
   "cell_type": "code",
   "execution_count": 10,
   "metadata": {
    "id": "yPyvUstDmgw2"
   },
   "outputs": [],
   "source": [
    "def trainer(\n",
    "    model,\n",
    "    train_loader,\n",
    "    val_loader,\n",
    "    optimizer,\n",
    "    loss_func,\n",
    "    acc_func,\n",
    "    scheduler,\n",
    "    model_inferer=None,\n",
    "    start_epoch=0,\n",
    "    post_sigmoid=None,\n",
    "    post_pred=None,\n",
    "):\n",
    "    val_acc_max = 0.0\n",
    "    dices_tc = []\n",
    "    dices_wt = []\n",
    "    dices_et = []\n",
    "    dices_avg = []\n",
    "    loss_epochs = []\n",
    "    trains_epoch = []\n",
    "    for epoch in range(start_epoch, max_epochs):\n",
    "        print(time.ctime(), \"Epoch:\", epoch)\n",
    "        epoch_time = time.time()\n",
    "        train_loss = train_epoch(\n",
    "            model,\n",
    "            train_loader,\n",
    "            optimizer,\n",
    "            epoch=epoch,\n",
    "            loss_func=loss_func,\n",
    "        )\n",
    "        print(\n",
    "            \"Final training  {}/{}\".format(epoch, max_epochs - 1),\n",
    "            \"loss: {:.4f}\".format(train_loss),\n",
    "            \"time {:.2f}s\".format(time.time() - epoch_time),\n",
    "        )\n",
    "\n",
    "        if (epoch + 1) % val_every == 0 or epoch == 0:\n",
    "            loss_epochs.append(train_loss)\n",
    "            trains_epoch.append(int(epoch))\n",
    "            epoch_time = time.time()\n",
    "            val_acc = val_epoch(\n",
    "                model,\n",
    "                val_loader,\n",
    "                epoch=epoch,\n",
    "                acc_func=acc_func,\n",
    "                model_inferer=model_inferer,\n",
    "                post_sigmoid=post_sigmoid,\n",
    "                post_pred=post_pred,\n",
    "            )\n",
    "            dice_tc = val_acc[0]\n",
    "            dice_wt = val_acc[1]\n",
    "            dice_et = val_acc[2]\n",
    "            val_avg_acc = np.mean(val_acc)\n",
    "            print(\n",
    "                \"Final validation stats {}/{}\".format(epoch, max_epochs - 1),\n",
    "                \", dice_tc:\",\n",
    "                dice_tc,\n",
    "                \", dice_wt:\",\n",
    "                dice_wt,\n",
    "                \", dice_et:\",\n",
    "                dice_et,\n",
    "                \", Dice_Avg:\",\n",
    "                val_avg_acc,\n",
    "                \", time {:.2f}s\".format(time.time() - epoch_time),\n",
    "            )\n",
    "            dices_tc.append(dice_tc)\n",
    "            dices_wt.append(dice_wt)\n",
    "            dices_et.append(dice_et)\n",
    "            dices_avg.append(val_avg_acc)\n",
    "            if val_avg_acc > val_acc_max:\n",
    "                print(\"new best ({:.6f} --> {:.6f}). \".format(val_acc_max, val_avg_acc))\n",
    "                val_acc_max = val_avg_acc\n",
    "                save_checkpoint(\n",
    "                    model,\n",
    "                    epoch,\n",
    "                    best_acc=val_acc_max,\n",
    "                )\n",
    "            scheduler.step()\n",
    "    print(\"Training Finished !, Best Accuracy: \", val_acc_max)\n",
    "    return (\n",
    "        val_acc_max,\n",
    "        dices_tc,\n",
    "        dices_wt,\n",
    "        dices_et,\n",
    "        dices_avg,\n",
    "        loss_epochs,\n",
    "        trains_epoch,\n",
    "    )"
   ]
  },
  {
   "cell_type": "markdown",
   "metadata": {
    "id": "XXRAU5gpmgw2"
   },
   "source": [
    "## Execute training"
   ]
  },
  {
   "cell_type": "code",
   "execution_count": null,
   "metadata": {
    "id": "MnH04Grcmgw2",
    "scrolled": true
   },
   "outputs": [
    {
     "name": "stdout",
     "output_type": "stream",
     "text": [
      "Mon Jun  2 16:24:59 2025 Epoch: 0\n",
      "Epoch 0/100 0/540 loss: 0.9625 time 35.83s\n",
      "Epoch 0/100 1/540 loss: 0.9755 time 0.47s\n",
      "Epoch 0/100 2/540 loss: 0.9769 time 0.45s\n",
      "Epoch 0/100 3/540 loss: 0.9721 time 0.45s\n",
      "Epoch 0/100 4/540 loss: 0.9743 time 0.45s\n",
      "Epoch 0/100 5/540 loss: 0.9747 time 0.48s\n",
      "Epoch 0/100 6/540 loss: 0.9783 time 0.45s\n",
      "Epoch 0/100 7/540 loss: 0.9762 time 0.55s\n",
      "Epoch 0/100 8/540 loss: 0.9787 time 0.51s\n",
      "Epoch 0/100 9/540 loss: 0.9756 time 0.51s\n",
      "Epoch 0/100 10/540 loss: 0.9746 time 0.52s\n",
      "Epoch 0/100 11/540 loss: 0.9708 time 0.60s\n",
      "Epoch 0/100 12/540 loss: 0.9722 time 0.57s\n",
      "Epoch 0/100 13/540 loss: 0.9742 time 0.60s\n",
      "Epoch 0/100 14/540 loss: 0.9749 time 0.51s\n",
      "Epoch 0/100 15/540 loss: 0.9739 time 0.50s\n",
      "Epoch 0/100 16/540 loss: 0.9738 time 0.59s\n",
      "Epoch 0/100 17/540 loss: 0.9749 time 0.64s\n",
      "Epoch 0/100 18/540 loss: 0.9728 time 0.67s\n",
      "Epoch 0/100 19/540 loss: 0.9733 time 0.59s\n",
      "Epoch 0/100 20/540 loss: 0.9742 time 0.50s\n",
      "Epoch 0/100 21/540 loss: 0.9749 time 0.60s\n",
      "Epoch 0/100 22/540 loss: 0.9722 time 1.89s\n",
      "Epoch 0/100 23/540 loss: 0.9727 time 0.50s\n",
      "Epoch 0/100 24/540 loss: 0.9736 time 0.50s\n",
      "Epoch 0/100 25/540 loss: 0.9724 time 2.02s\n",
      "Epoch 0/100 26/540 loss: 0.9721 time 0.58s\n",
      "Epoch 0/100 27/540 loss: 0.9731 time 0.61s\n",
      "Epoch 0/100 28/540 loss: 0.9727 time 0.49s\n",
      "Epoch 0/100 29/540 loss: 0.9709 time 0.50s\n",
      "Epoch 0/100 30/540 loss: 0.9700 time 1.90s\n",
      "Epoch 0/100 31/540 loss: 0.9700 time 0.50s\n",
      "Epoch 0/100 32/540 loss: 0.9704 time 0.50s\n",
      "Epoch 0/100 33/540 loss: 0.9705 time 1.20s\n",
      "Epoch 0/100 34/540 loss: 0.9704 time 0.80s\n",
      "Epoch 0/100 35/540 loss: 0.9685 time 1.50s\n",
      "Epoch 0/100 36/540 loss: 0.9689 time 0.50s\n",
      "Epoch 0/100 37/540 loss: 0.9696 time 0.50s\n",
      "Epoch 0/100 38/540 loss: 0.9696 time 0.90s\n",
      "Epoch 0/100 39/540 loss: 0.9698 time 0.50s\n",
      "Epoch 0/100 40/540 loss: 0.9696 time 1.41s\n",
      "Epoch 0/100 41/540 loss: 0.9691 time 2.09s\n",
      "Epoch 0/100 42/540 loss: 0.9692 time 0.60s\n",
      "Epoch 0/100 43/540 loss: 0.9692 time 0.60s\n",
      "Epoch 0/100 44/540 loss: 0.9679 time 0.51s\n",
      "Epoch 0/100 45/540 loss: 0.9685 time 0.50s\n",
      "Epoch 0/100 46/540 loss: 0.9658 time 1.69s\n",
      "Epoch 0/100 47/540 loss: 0.9657 time 0.50s\n",
      "Epoch 0/100 48/540 loss: 0.9652 time 0.50s\n",
      "Epoch 0/100 49/540 loss: 0.9627 time 4.30s\n",
      "Epoch 0/100 50/540 loss: 0.9633 time 0.50s\n",
      "Epoch 0/100 51/540 loss: 0.9640 time 0.60s\n",
      "Epoch 0/100 52/540 loss: 0.9630 time 0.52s\n",
      "Epoch 0/100 53/540 loss: 0.9619 time 0.57s\n",
      "Epoch 0/100 54/540 loss: 0.9619 time 0.90s\n",
      "Epoch 0/100 55/540 loss: 0.9614 time 0.60s\n",
      "Epoch 0/100 56/540 loss: 0.9614 time 0.51s\n",
      "Epoch 0/100 57/540 loss: 0.9619 time 1.49s\n",
      "Epoch 0/100 58/540 loss: 0.9617 time 0.50s\n",
      "Epoch 0/100 59/540 loss: 0.9618 time 0.94s\n",
      "Epoch 0/100 60/540 loss: 0.9613 time 0.56s\n",
      "Epoch 0/100 61/540 loss: 0.9611 time 0.70s\n",
      "Epoch 0/100 62/540 loss: 0.9599 time 1.00s\n",
      "Epoch 0/100 63/540 loss: 0.9603 time 0.50s\n",
      "Epoch 0/100 64/540 loss: 0.9602 time 0.74s\n",
      "Epoch 0/100 65/540 loss: 0.9606 time 2.27s\n",
      "Epoch 0/100 66/540 loss: 0.9585 time 0.70s\n",
      "Epoch 0/100 67/540 loss: 0.9588 time 0.60s\n",
      "Epoch 0/100 68/540 loss: 0.9588 time 0.60s\n",
      "Epoch 0/100 69/540 loss: 0.9582 time 0.60s\n",
      "Epoch 0/100 70/540 loss: 0.9585 time 0.51s\n",
      "Epoch 0/100 71/540 loss: 0.9576 time 0.63s\n",
      "Epoch 0/100 72/540 loss: 0.9575 time 1.37s\n",
      "Epoch 0/100 73/540 loss: 0.9577 time 1.00s\n",
      "Epoch 0/100 74/540 loss: 0.9568 time 0.53s\n",
      "Epoch 0/100 75/540 loss: 0.9561 time 2.27s\n",
      "Epoch 0/100 76/540 loss: 0.9558 time 0.60s\n",
      "Epoch 0/100 77/540 loss: 0.9555 time 0.60s\n",
      "Epoch 0/100 78/540 loss: 0.9544 time 1.10s\n",
      "Epoch 0/100 79/540 loss: 0.9545 time 0.60s\n",
      "Epoch 0/100 80/540 loss: 0.9526 time 0.52s\n",
      "Epoch 0/100 81/540 loss: 0.9522 time 1.68s\n",
      "Epoch 0/100 82/540 loss: 0.9518 time 0.49s\n",
      "Epoch 0/100 83/540 loss: 0.9518 time 1.00s\n",
      "Epoch 0/100 84/540 loss: 0.9514 time 0.51s\n",
      "Epoch 0/100 85/540 loss: 0.9506 time 1.30s\n",
      "Epoch 0/100 86/540 loss: 0.9507 time 0.53s\n",
      "Epoch 0/100 87/540 loss: 0.9509 time 0.57s\n",
      "Epoch 0/100 88/540 loss: 0.9513 time 0.53s\n",
      "Epoch 0/100 89/540 loss: 0.9518 time 1.46s\n",
      "Epoch 0/100 90/540 loss: 0.9516 time 0.50s\n",
      "Epoch 0/100 91/540 loss: 0.9517 time 1.10s\n",
      "Epoch 0/100 92/540 loss: 0.9516 time 0.60s\n",
      "Epoch 0/100 93/540 loss: 0.9519 time 2.70s\n",
      "Epoch 0/100 94/540 loss: 0.9521 time 0.69s\n",
      "Epoch 0/100 95/540 loss: 0.9523 time 0.50s\n",
      "Epoch 0/100 96/540 loss: 0.9528 time 0.51s\n",
      "Epoch 0/100 97/540 loss: 0.9528 time 0.69s\n",
      "Epoch 0/100 98/540 loss: 0.9532 time 0.61s\n",
      "Epoch 0/100 99/540 loss: 0.9535 time 0.59s\n",
      "Epoch 0/100 100/540 loss: 0.9536 time 0.50s\n",
      "Epoch 0/100 101/540 loss: 0.9528 time 1.21s\n",
      "Epoch 0/100 102/540 loss: 0.9529 time 0.59s\n",
      "Epoch 0/100 103/540 loss: 0.9533 time 1.40s\n",
      "Epoch 0/100 104/540 loss: 0.9536 time 0.50s\n",
      "Epoch 0/100 105/540 loss: 0.9538 time 1.10s\n",
      "Epoch 0/100 106/540 loss: 0.9536 time 1.51s\n",
      "Epoch 0/100 107/540 loss: 0.9536 time 0.50s\n",
      "Epoch 0/100 108/540 loss: 0.9540 time 0.72s\n",
      "Epoch 0/100 109/540 loss: 0.9537 time 0.87s\n",
      "Epoch 0/100 110/540 loss: 0.9539 time 1.90s\n",
      "Epoch 0/100 111/540 loss: 0.9539 time 0.53s\n",
      "Epoch 0/100 112/540 loss: 0.9535 time 0.57s\n",
      "Epoch 0/100 113/540 loss: 0.9538 time 0.50s\n",
      "Epoch 0/100 114/540 loss: 0.9539 time 2.31s\n",
      "Epoch 0/100 115/540 loss: 0.9539 time 0.50s\n",
      "Epoch 0/100 116/540 loss: 0.9538 time 0.49s\n",
      "Epoch 0/100 117/540 loss: 0.9541 time 1.62s\n",
      "Epoch 0/100 118/540 loss: 0.9537 time 0.58s\n"
     ]
    }
   ],
   "source": [
    "start_epoch = 0\n",
    "\n",
    "(\n",
    "    val_acc_max,\n",
    "    dices_tc,\n",
    "    dices_wt,\n",
    "    dices_et,\n",
    "    dices_avg,\n",
    "    loss_epochs,\n",
    "    trains_epoch,\n",
    ") = trainer(\n",
    "    model=model,\n",
    "    train_loader=train_loader,\n",
    "    val_loader=val_loader,\n",
    "    optimizer=optimizer,\n",
    "    loss_func=dice_loss,\n",
    "    acc_func=dice_acc,\n",
    "    scheduler=scheduler,\n",
    "    model_inferer=model_inferer,\n",
    "    start_epoch=start_epoch,\n",
    "    post_sigmoid=post_sigmoid,\n",
    "    post_pred=post_pred,\n",
    ")"
   ]
  },
  {
   "cell_type": "code",
   "execution_count": null,
   "metadata": {
    "id": "-ujv1gzMmgw2",
    "outputId": "110cbc6a-a03b-4bc9-b029-519afc16d2c0"
   },
   "outputs": [],
   "source": [
    "print(f\"train completed, best average dice: {val_acc_max:.4f} \")"
   ]
  },
  {
   "cell_type": "markdown",
   "metadata": {
    "id": "NDr4BJ9Kmgw2"
   },
   "source": [
    "### Plot the loss and Dice metric"
   ]
  },
  {
   "cell_type": "code",
   "execution_count": null,
   "metadata": {
    "id": "40PAkUWUmgw3",
    "outputId": "4a20bc72-ad50-464e-c87f-656648ad4b08"
   },
   "outputs": [],
   "source": [
    "plt.figure(\"train\", (12, 6))\n",
    "plt.subplot(1, 2, 1)\n",
    "plt.title(\"Epoch Average Loss\")\n",
    "plt.xlabel(\"epoch\")\n",
    "plt.plot(trains_epoch, loss_epochs, color=\"red\")\n",
    "plt.subplot(1, 2, 2)\n",
    "plt.title(\"Val Mean Dice\")\n",
    "plt.xlabel(\"epoch\")\n",
    "plt.plot(trains_epoch, dices_avg, color=\"green\")\n",
    "plt.show()\n",
    "plt.figure(\"train\", (18, 6))\n",
    "plt.subplot(1, 3, 1)\n",
    "plt.title(\"Val Mean Dice TC\")\n",
    "plt.xlabel(\"epoch\")\n",
    "plt.plot(trains_epoch, dices_tc, color=\"blue\")\n",
    "plt.subplot(1, 3, 2)\n",
    "plt.title(\"Val Mean Dice WT\")\n",
    "plt.xlabel(\"epoch\")\n",
    "plt.plot(trains_epoch, dices_wt, color=\"brown\")\n",
    "plt.subplot(1, 3, 3)\n",
    "plt.title(\"Val Mean Dice ET\")\n",
    "plt.xlabel(\"epoch\")\n",
    "plt.plot(trains_epoch, dices_et, color=\"purple\")\n",
    "plt.show()"
   ]
  },
  {
   "cell_type": "markdown",
   "metadata": {
    "id": "2pb0YQ58mgw3"
   },
   "source": [
    "## Create test set dataloader"
   ]
  },
  {
   "cell_type": "code",
   "execution_count": null,
   "metadata": {
    "id": "nwARXniPmgw3"
   },
   "outputs": [],
   "source": [
    "case_num = \"01619\"\n",
    "\n",
    "test_files = [\n",
    "    {\n",
    "        \"image\": [\n",
    "            os.path.join(\n",
    "                data_dir,\n",
    "                \"TrainingData/BraTS2021_\" + case_num + \"/BraTS2021_\" + case_num + \"_flair.nii.gz\",\n",
    "            ),\n",
    "            os.path.join(\n",
    "                data_dir,\n",
    "                \"TrainingData/BraTS2021_\" + case_num + \"/BraTS2021_\" + case_num + \"_t1ce.nii.gz\",\n",
    "            ),\n",
    "            os.path.join(\n",
    "                data_dir,\n",
    "                \"TrainingData/BraTS2021_\" + case_num + \"/BraTS2021_\" + case_num + \"_t1.nii.gz\",\n",
    "            ),\n",
    "            os.path.join(\n",
    "                data_dir,\n",
    "                \"TrainingData/BraTS2021_\" + case_num + \"/BraTS2021_\" + case_num + \"_t2.nii.gz\",\n",
    "            ),\n",
    "        ],\n",
    "        \"label\": os.path.join(\n",
    "            data_dir,\n",
    "            \"TrainingData/BraTS2021_\" + case_num + \"/BraTS2021_\" + case_num + \"_seg.nii.gz\",\n",
    "        ),\n",
    "    }\n",
    "]\n",
    "\n",
    "test_transform = transforms.Compose(\n",
    "    [\n",
    "        transforms.LoadImaged(keys=[\"image\", \"label\"]),\n",
    "        transforms.ConvertToMultiChannelBasedOnBratsClassesd(keys=\"label\"),\n",
    "        transforms.NormalizeIntensityd(keys=\"image\", nonzero=True, channel_wise=True),\n",
    "    ]\n",
    ")\n",
    "\n",
    "test_ds = data.Dataset(data=test_files, transform=test_transform)\n",
    "\n",
    "test_loader = data.DataLoader(\n",
    "    test_ds,\n",
    "    batch_size=1,\n",
    "    shuffle=False,\n",
    "    num_workers=8,\n",
    "    pin_memory=True,\n",
    ")"
   ]
  },
  {
   "cell_type": "markdown",
   "metadata": {
    "id": "vjk0h3jjmgw3"
   },
   "source": [
    "## Load the best saved checkpoint and perform inference\n",
    "\n",
    "We select a single case from the validation set and perform inference to compare the model segmentation output with the corresponding label."
   ]
  },
  {
   "cell_type": "code",
   "execution_count": null,
   "metadata": {
    "id": "uh5c_Yi7mgw3"
   },
   "outputs": [],
   "source": [
    "model.load_state_dict(torch.load(os.path.join(root_dir, \"model.pt\"), weights_only=True)[\"state_dict\"])\n",
    "model.to(device)\n",
    "model.eval()\n",
    "\n",
    "model_inferer_test = partial(\n",
    "    sliding_window_inference,\n",
    "    roi_size=[roi[0], roi[1], roi[2]],\n",
    "    sw_batch_size=1,\n",
    "    predictor=model,\n",
    "    overlap=0.6,\n",
    ")\n",
    "\n",
    "\n",
    "with torch.no_grad():\n",
    "    for batch_data in test_loader:\n",
    "        image = batch_data[\"image\"].cuda()\n",
    "        prob = torch.sigmoid(model_inferer_test(image))\n",
    "        seg = prob[0].detach().cpu().numpy()\n",
    "        seg = (seg > 0.5).astype(np.int8)\n",
    "        seg_out = np.zeros((seg.shape[1], seg.shape[2], seg.shape[3]))\n",
    "        seg_out[seg[1] == 1] = 2\n",
    "        seg_out[seg[0] == 1] = 1\n",
    "        seg_out[seg[2] == 1] = 4"
   ]
  },
  {
   "cell_type": "markdown",
   "metadata": {
    "id": "uWdP1Pokmgw3"
   },
   "source": [
    "## Visualize segmentation output and compare with label"
   ]
  },
  {
   "cell_type": "code",
   "execution_count": null,
   "metadata": {
    "id": "CAW-rOZYmgw3",
    "outputId": "d868dbe5-4114-416f-9dac-57a8ab44c28a"
   },
   "outputs": [
    {
     "data": {
      "image/png": "[encoded data removed]",
      "text/plain": [
       "<Figure size 1296x432 with 3 Axes>"
      ]
     },
     "metadata": {
      "needs_background": "light"
     },
     "output_type": "display_data"
    }
   ],
   "source": [
    "slice_num = 67\n",
    "img_add = os.path.join(\n",
    "    data_dir,\n",
    "    \"TrainingData/BraTS2021_\" + case_num + \"/BraTS2021_\" + case_num + \"_t1ce.nii.gz\",\n",
    ")\n",
    "label_add = os.path.join(\n",
    "    data_dir,\n",
    "    \"TrainingData/BraTS2021_\" + case_num + \"/BraTS2021_\" + case_num + \"_seg.nii.gz\",\n",
    ")\n",
    "img = nib.load(img_add).get_fdata()\n",
    "label = nib.load(label_add).get_fdata()\n",
    "plt.figure(\"image\", (18, 6))\n",
    "plt.subplot(1, 3, 1)\n",
    "plt.title(\"image\")\n",
    "plt.imshow(img[:, :, slice_num], cmap=\"gray\")\n",
    "plt.subplot(1, 3, 2)\n",
    "plt.title(\"label\")\n",
    "plt.imshow(label[:, :, slice_num])\n",
    "plt.subplot(1, 3, 3)\n",
    "plt.title(\"segmentation\")\n",
    "plt.imshow(seg_out[:, :, slice_num])\n",
    "plt.show()"
   ]
  },
  {
   "cell_type": "markdown",
   "metadata": {
    "id": "0Heh5Jegmgw3"
   },
   "source": [
    "## Cleanup data directory\n",
    "\n",
    "Remove directory if a temporary was used."
   ]
  },
  {
   "cell_type": "code",
   "execution_count": null,
   "metadata": {
    "id": "TUc7QVmMmgw3"
   },
   "outputs": [],
   "source": [
    "if directory is None:\n",
    "    shutil.rmtree(root_dir)"
   ]
  }
 ],
 "metadata": {
  "colab": {
   "provenance": []
  },
  "kernelspec": {
   "display_name": "Python 3 (ipykernel)",
   "language": "python",
   "name": "python3"
  },
  "language_info": {
   "codemirror_mode": {
    "name": "ipython",
    "version": 3
   },
   "file_extension": ".py",
   "mimetype": "text/x-python",
   "name": "python",
   "nbconvert_exporter": "python",
   "pygments_lexer": "ipython3",
   "version": "3.10.12"
  }
 },
 "nbformat": 4,
 "nbformat_minor": 4
}
